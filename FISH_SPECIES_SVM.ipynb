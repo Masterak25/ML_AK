{
  "cells": [
    {
      "cell_type": "code",
      "execution_count": 5,
      "metadata": {
        "id": "y5EPvOfLSVOa"
      },
      "outputs": [],
      "source": [
        "import pandas as pd\n",
        "import numpy as np\n",
        "import matplotlib.pyplot as plt\n",
        "import seaborn as sns\n",
        "import plotly as ply\n",
        "import cufflinks as cf\n",
        "import warnings\n",
        "warnings.filterwarnings('ignore')"
      ]
    },
    {
      "cell_type": "markdown",
      "metadata": {
        "id": "6K3-2_LbUv65"
      },
      "source": [
        "# IMPORTING DATASET"
      ]
    },
    {
      "cell_type": "code",
      "execution_count": 6,
      "metadata": {
        "colab": {
          "base_uri": "https://localhost:8080/",
          "height": 203
        },
        "id": "PWTv5SxdUobJ",
        "outputId": "f3150dee-51e3-4889-bafa-4708470af9bf"
      },
      "outputs": [
        {
          "data": {
            "text/html": [
              "<div>\n",
              "<style scoped>\n",
              "    .dataframe tbody tr th:only-of-type {\n",
              "        vertical-align: middle;\n",
              "    }\n",
              "\n",
              "    .dataframe tbody tr th {\n",
              "        vertical-align: top;\n",
              "    }\n",
              "\n",
              "    .dataframe thead th {\n",
              "        text-align: right;\n",
              "    }\n",
              "</style>\n",
              "<table border=\"1\" class=\"dataframe\">\n",
              "  <thead>\n",
              "    <tr style=\"text-align: right;\">\n",
              "      <th></th>\n",
              "      <th>Species</th>\n",
              "      <th>Weight</th>\n",
              "      <th>Length1</th>\n",
              "      <th>Length2</th>\n",
              "      <th>Length3</th>\n",
              "      <th>Height</th>\n",
              "      <th>Width</th>\n",
              "    </tr>\n",
              "  </thead>\n",
              "  <tbody>\n",
              "    <tr>\n",
              "      <th>0</th>\n",
              "      <td>Bream</td>\n",
              "      <td>242.0</td>\n",
              "      <td>23.2</td>\n",
              "      <td>25.4</td>\n",
              "      <td>30.0</td>\n",
              "      <td>11.5200</td>\n",
              "      <td>4.0200</td>\n",
              "    </tr>\n",
              "    <tr>\n",
              "      <th>1</th>\n",
              "      <td>Bream</td>\n",
              "      <td>290.0</td>\n",
              "      <td>24.0</td>\n",
              "      <td>26.3</td>\n",
              "      <td>31.2</td>\n",
              "      <td>12.4800</td>\n",
              "      <td>4.3056</td>\n",
              "    </tr>\n",
              "    <tr>\n",
              "      <th>2</th>\n",
              "      <td>Bream</td>\n",
              "      <td>340.0</td>\n",
              "      <td>23.9</td>\n",
              "      <td>26.5</td>\n",
              "      <td>31.1</td>\n",
              "      <td>12.3778</td>\n",
              "      <td>4.6961</td>\n",
              "    </tr>\n",
              "    <tr>\n",
              "      <th>3</th>\n",
              "      <td>Bream</td>\n",
              "      <td>363.0</td>\n",
              "      <td>26.3</td>\n",
              "      <td>29.0</td>\n",
              "      <td>33.5</td>\n",
              "      <td>12.7300</td>\n",
              "      <td>4.4555</td>\n",
              "    </tr>\n",
              "    <tr>\n",
              "      <th>4</th>\n",
              "      <td>Bream</td>\n",
              "      <td>430.0</td>\n",
              "      <td>26.5</td>\n",
              "      <td>29.0</td>\n",
              "      <td>34.0</td>\n",
              "      <td>12.4440</td>\n",
              "      <td>5.1340</td>\n",
              "    </tr>\n",
              "  </tbody>\n",
              "</table>\n",
              "</div>"
            ],
            "text/plain": [
              "  Species  Weight  Length1  Length2  Length3   Height   Width\n",
              "0   Bream   242.0     23.2     25.4     30.0  11.5200  4.0200\n",
              "1   Bream   290.0     24.0     26.3     31.2  12.4800  4.3056\n",
              "2   Bream   340.0     23.9     26.5     31.1  12.3778  4.6961\n",
              "3   Bream   363.0     26.3     29.0     33.5  12.7300  4.4555\n",
              "4   Bream   430.0     26.5     29.0     34.0  12.4440  5.1340"
            ]
          },
          "execution_count": 6,
          "metadata": {},
          "output_type": "execute_result"
        }
      ],
      "source": [
        "df=pd.read_csv(\"Fish_dataset.csv\")\n",
        "df.head()"
      ]
    },
    {
      "cell_type": "markdown",
      "metadata": {
        "id": "sJUGjOWcU_JQ"
      },
      "source": [
        "# EDA"
      ]
    },
    {
      "cell_type": "code",
      "execution_count": 7,
      "metadata": {
        "colab": {
          "base_uri": "https://localhost:8080/"
        },
        "id": "GDy3xxnxVA3Q",
        "outputId": "efd8a392-5c0e-4267-c443-49a5d7becd8e"
      },
      "outputs": [
        {
          "data": {
            "text/plain": [
              "Species    0\n",
              "Weight     0\n",
              "Length1    0\n",
              "Length2    0\n",
              "Length3    0\n",
              "Height     0\n",
              "Width      0\n",
              "dtype: int64"
            ]
          },
          "execution_count": 7,
          "metadata": {},
          "output_type": "execute_result"
        }
      ],
      "source": [
        "df.isnull().sum()"
      ]
    },
    {
      "cell_type": "markdown",
      "metadata": {
        "id": "5PiWgEfKVRYX"
      },
      "source": [
        "# CHECKING INFORMATION OF DATASET"
      ]
    },
    {
      "cell_type": "code",
      "execution_count": 8,
      "metadata": {
        "colab": {
          "base_uri": "https://localhost:8080/"
        },
        "id": "YoJ2nu3YVTPA",
        "outputId": "3de648b8-06f7-4068-8257-fdcbebedf6c3"
      },
      "outputs": [
        {
          "name": "stdout",
          "output_type": "stream",
          "text": [
            "<class 'pandas.core.frame.DataFrame'>\n",
            "RangeIndex: 159 entries, 0 to 158\n",
            "Data columns (total 7 columns):\n",
            " #   Column   Non-Null Count  Dtype  \n",
            "---  ------   --------------  -----  \n",
            " 0   Species  159 non-null    object \n",
            " 1   Weight   159 non-null    float64\n",
            " 2   Length1  159 non-null    float64\n",
            " 3   Length2  159 non-null    float64\n",
            " 4   Length3  159 non-null    float64\n",
            " 5   Height   159 non-null    float64\n",
            " 6   Width    159 non-null    float64\n",
            "dtypes: float64(6), object(1)\n",
            "memory usage: 8.8+ KB\n"
          ]
        }
      ],
      "source": [
        "df.info()"
      ]
    },
    {
      "cell_type": "markdown",
      "metadata": {
        "id": "u1U-6EVlWc_3"
      },
      "source": [
        "# LABEL ENCODER"
      ]
    },
    {
      "cell_type": "code",
      "execution_count": 9,
      "metadata": {
        "id": "pghRXl5KWT3P"
      },
      "outputs": [],
      "source": [
        "from sklearn.preprocessing import LabelEncoder \n",
        "LE=LabelEncoder()"
      ]
    },
    {
      "cell_type": "code",
      "execution_count": 10,
      "metadata": {
        "id": "bfuiFSh6WVuJ"
      },
      "outputs": [],
      "source": [
        "df.Species = LE.fit_transform(df.Species)"
      ]
    },
    {
      "cell_type": "markdown",
      "metadata": {
        "id": "KCI79mrrW3xQ"
      },
      "source": [
        "**LABEL ENCODER** converts the object type variables into the categorical data.Here species is the target variable so it is label encoded."
      ]
    },
    {
      "cell_type": "markdown",
      "metadata": {
        "id": "EJBsAO7UXW5Q"
      },
      "source": [
        "# To view some basic statistical details like percentile, mean, std etc. of a data frame or a series of numeric values"
      ]
    },
    {
      "cell_type": "code",
      "execution_count": 11,
      "metadata": {
        "colab": {
          "base_uri": "https://localhost:8080/",
          "height": 295
        },
        "id": "x2GbdB9VXRUX",
        "outputId": "0d7b69ce-8333-4a34-bc74-085cd18e354e"
      },
      "outputs": [
        {
          "data": {
            "text/html": [
              "<div>\n",
              "<style scoped>\n",
              "    .dataframe tbody tr th:only-of-type {\n",
              "        vertical-align: middle;\n",
              "    }\n",
              "\n",
              "    .dataframe tbody tr th {\n",
              "        vertical-align: top;\n",
              "    }\n",
              "\n",
              "    .dataframe thead th {\n",
              "        text-align: right;\n",
              "    }\n",
              "</style>\n",
              "<table border=\"1\" class=\"dataframe\">\n",
              "  <thead>\n",
              "    <tr style=\"text-align: right;\">\n",
              "      <th></th>\n",
              "      <th>Species</th>\n",
              "      <th>Weight</th>\n",
              "      <th>Length1</th>\n",
              "      <th>Length2</th>\n",
              "      <th>Length3</th>\n",
              "      <th>Height</th>\n",
              "      <th>Width</th>\n",
              "    </tr>\n",
              "  </thead>\n",
              "  <tbody>\n",
              "    <tr>\n",
              "      <th>count</th>\n",
              "      <td>159.000000</td>\n",
              "      <td>159.000000</td>\n",
              "      <td>159.000000</td>\n",
              "      <td>159.000000</td>\n",
              "      <td>159.000000</td>\n",
              "      <td>159.000000</td>\n",
              "      <td>159.000000</td>\n",
              "    </tr>\n",
              "    <tr>\n",
              "      <th>mean</th>\n",
              "      <td>2.264151</td>\n",
              "      <td>398.326415</td>\n",
              "      <td>26.247170</td>\n",
              "      <td>28.415723</td>\n",
              "      <td>31.227044</td>\n",
              "      <td>8.970994</td>\n",
              "      <td>4.417486</td>\n",
              "    </tr>\n",
              "    <tr>\n",
              "      <th>std</th>\n",
              "      <td>1.704249</td>\n",
              "      <td>357.978317</td>\n",
              "      <td>9.996441</td>\n",
              "      <td>10.716328</td>\n",
              "      <td>11.610246</td>\n",
              "      <td>4.286208</td>\n",
              "      <td>1.685804</td>\n",
              "    </tr>\n",
              "    <tr>\n",
              "      <th>min</th>\n",
              "      <td>0.000000</td>\n",
              "      <td>0.000000</td>\n",
              "      <td>7.500000</td>\n",
              "      <td>8.400000</td>\n",
              "      <td>8.800000</td>\n",
              "      <td>1.728400</td>\n",
              "      <td>1.047600</td>\n",
              "    </tr>\n",
              "    <tr>\n",
              "      <th>25%</th>\n",
              "      <td>1.000000</td>\n",
              "      <td>120.000000</td>\n",
              "      <td>19.050000</td>\n",
              "      <td>21.000000</td>\n",
              "      <td>23.150000</td>\n",
              "      <td>5.944800</td>\n",
              "      <td>3.385650</td>\n",
              "    </tr>\n",
              "    <tr>\n",
              "      <th>50%</th>\n",
              "      <td>2.000000</td>\n",
              "      <td>273.000000</td>\n",
              "      <td>25.200000</td>\n",
              "      <td>27.300000</td>\n",
              "      <td>29.400000</td>\n",
              "      <td>7.786000</td>\n",
              "      <td>4.248500</td>\n",
              "    </tr>\n",
              "    <tr>\n",
              "      <th>75%</th>\n",
              "      <td>3.500000</td>\n",
              "      <td>650.000000</td>\n",
              "      <td>32.700000</td>\n",
              "      <td>35.500000</td>\n",
              "      <td>39.650000</td>\n",
              "      <td>12.365900</td>\n",
              "      <td>5.584500</td>\n",
              "    </tr>\n",
              "    <tr>\n",
              "      <th>max</th>\n",
              "      <td>6.000000</td>\n",
              "      <td>1650.000000</td>\n",
              "      <td>59.000000</td>\n",
              "      <td>63.400000</td>\n",
              "      <td>68.000000</td>\n",
              "      <td>18.957000</td>\n",
              "      <td>8.142000</td>\n",
              "    </tr>\n",
              "  </tbody>\n",
              "</table>\n",
              "</div>"
            ],
            "text/plain": [
              "          Species       Weight     Length1     Length2     Length3  \\\n",
              "count  159.000000   159.000000  159.000000  159.000000  159.000000   \n",
              "mean     2.264151   398.326415   26.247170   28.415723   31.227044   \n",
              "std      1.704249   357.978317    9.996441   10.716328   11.610246   \n",
              "min      0.000000     0.000000    7.500000    8.400000    8.800000   \n",
              "25%      1.000000   120.000000   19.050000   21.000000   23.150000   \n",
              "50%      2.000000   273.000000   25.200000   27.300000   29.400000   \n",
              "75%      3.500000   650.000000   32.700000   35.500000   39.650000   \n",
              "max      6.000000  1650.000000   59.000000   63.400000   68.000000   \n",
              "\n",
              "           Height       Width  \n",
              "count  159.000000  159.000000  \n",
              "mean     8.970994    4.417486  \n",
              "std      4.286208    1.685804  \n",
              "min      1.728400    1.047600  \n",
              "25%      5.944800    3.385650  \n",
              "50%      7.786000    4.248500  \n",
              "75%     12.365900    5.584500  \n",
              "max     18.957000    8.142000  "
            ]
          },
          "execution_count": 11,
          "metadata": {},
          "output_type": "execute_result"
        }
      ],
      "source": [
        "df.describe()"
      ]
    },
    {
      "cell_type": "markdown",
      "metadata": {
        "id": "erDkgBv_Xglg"
      },
      "source": [
        "# skewness check"
      ]
    },
    {
      "cell_type": "code",
      "execution_count": 12,
      "metadata": {
        "colab": {
          "base_uri": "https://localhost:8080/"
        },
        "id": "xsPYwXSnXh7Y",
        "outputId": "7123944a-38d4-4dc7-87e1-cb6940db1c10"
      },
      "outputs": [
        {
          "data": {
            "text/plain": [
              "Species    0.364400\n",
              "Weight     1.104450\n",
              "Length1    0.588482\n",
              "Length2    0.539863\n",
              "Length3    0.391541\n",
              "Height     0.397186\n",
              "Width      0.004972\n",
              "dtype: float64"
            ]
          },
          "execution_count": 12,
          "metadata": {},
          "output_type": "execute_result"
        }
      ],
      "source": [
        "df.skew(axis = 0, skipna = True)"
      ]
    },
    {
      "cell_type": "markdown",
      "metadata": {
        "id": "b_nqvSGRXqSg"
      },
      "source": [
        "If the skewness is between -0.5 and 0.5, the data are fairly symmetrical,\n",
        "\n",
        "If the skewness is between -1 and — 0.5 or between 0.5 and 1, the data are moderately skewed,\n",
        "\n",
        "If the skewness is less than -1 or greater than 1, the data are highly skewed\n",
        "\n",
        "Here Weight is highly skewed,so it is better to normalize our response varibles "
      ]
    },
    {
      "cell_type": "markdown",
      "metadata": {
        "id": "Id5cuxBaYGZJ"
      },
      "source": [
        "# CORRELATION CHECK"
      ]
    },
    {
      "cell_type": "code",
      "execution_count": 13,
      "metadata": {
        "colab": {
          "base_uri": "https://localhost:8080/",
          "height": 265
        },
        "id": "5RQVM2FvYAeD",
        "outputId": "6eeab384-ab26-4791-a43a-eaac2a68a2d5"
      },
      "outputs": [
        {
          "data": {
            "text/html": [
              "<div>\n",
              "<style scoped>\n",
              "    .dataframe tbody tr th:only-of-type {\n",
              "        vertical-align: middle;\n",
              "    }\n",
              "\n",
              "    .dataframe tbody tr th {\n",
              "        vertical-align: top;\n",
              "    }\n",
              "\n",
              "    .dataframe thead th {\n",
              "        text-align: right;\n",
              "    }\n",
              "</style>\n",
              "<table border=\"1\" class=\"dataframe\">\n",
              "  <thead>\n",
              "    <tr style=\"text-align: right;\">\n",
              "      <th></th>\n",
              "      <th>Species</th>\n",
              "      <th>Weight</th>\n",
              "      <th>Length1</th>\n",
              "      <th>Length2</th>\n",
              "      <th>Length3</th>\n",
              "      <th>Height</th>\n",
              "      <th>Width</th>\n",
              "    </tr>\n",
              "  </thead>\n",
              "  <tbody>\n",
              "    <tr>\n",
              "      <th>Species</th>\n",
              "      <td>1.000000</td>\n",
              "      <td>-0.312960</td>\n",
              "      <td>-0.266696</td>\n",
              "      <td>-0.283601</td>\n",
              "      <td>-0.335519</td>\n",
              "      <td>-0.698193</td>\n",
              "      <td>-0.397578</td>\n",
              "    </tr>\n",
              "    <tr>\n",
              "      <th>Weight</th>\n",
              "      <td>-0.312960</td>\n",
              "      <td>1.000000</td>\n",
              "      <td>0.915712</td>\n",
              "      <td>0.918618</td>\n",
              "      <td>0.923044</td>\n",
              "      <td>0.724345</td>\n",
              "      <td>0.886507</td>\n",
              "    </tr>\n",
              "    <tr>\n",
              "      <th>Length1</th>\n",
              "      <td>-0.266696</td>\n",
              "      <td>0.915712</td>\n",
              "      <td>1.000000</td>\n",
              "      <td>0.999517</td>\n",
              "      <td>0.992031</td>\n",
              "      <td>0.625378</td>\n",
              "      <td>0.867050</td>\n",
              "    </tr>\n",
              "    <tr>\n",
              "      <th>Length2</th>\n",
              "      <td>-0.283601</td>\n",
              "      <td>0.918618</td>\n",
              "      <td>0.999517</td>\n",
              "      <td>1.000000</td>\n",
              "      <td>0.994103</td>\n",
              "      <td>0.640441</td>\n",
              "      <td>0.873547</td>\n",
              "    </tr>\n",
              "    <tr>\n",
              "      <th>Length3</th>\n",
              "      <td>-0.335519</td>\n",
              "      <td>0.923044</td>\n",
              "      <td>0.992031</td>\n",
              "      <td>0.994103</td>\n",
              "      <td>1.000000</td>\n",
              "      <td>0.703409</td>\n",
              "      <td>0.878520</td>\n",
              "    </tr>\n",
              "    <tr>\n",
              "      <th>Height</th>\n",
              "      <td>-0.698193</td>\n",
              "      <td>0.724345</td>\n",
              "      <td>0.625378</td>\n",
              "      <td>0.640441</td>\n",
              "      <td>0.703409</td>\n",
              "      <td>1.000000</td>\n",
              "      <td>0.792881</td>\n",
              "    </tr>\n",
              "    <tr>\n",
              "      <th>Width</th>\n",
              "      <td>-0.397578</td>\n",
              "      <td>0.886507</td>\n",
              "      <td>0.867050</td>\n",
              "      <td>0.873547</td>\n",
              "      <td>0.878520</td>\n",
              "      <td>0.792881</td>\n",
              "      <td>1.000000</td>\n",
              "    </tr>\n",
              "  </tbody>\n",
              "</table>\n",
              "</div>"
            ],
            "text/plain": [
              "          Species    Weight   Length1   Length2   Length3    Height     Width\n",
              "Species  1.000000 -0.312960 -0.266696 -0.283601 -0.335519 -0.698193 -0.397578\n",
              "Weight  -0.312960  1.000000  0.915712  0.918618  0.923044  0.724345  0.886507\n",
              "Length1 -0.266696  0.915712  1.000000  0.999517  0.992031  0.625378  0.867050\n",
              "Length2 -0.283601  0.918618  0.999517  1.000000  0.994103  0.640441  0.873547\n",
              "Length3 -0.335519  0.923044  0.992031  0.994103  1.000000  0.703409  0.878520\n",
              "Height  -0.698193  0.724345  0.625378  0.640441  0.703409  1.000000  0.792881\n",
              "Width   -0.397578  0.886507  0.867050  0.873547  0.878520  0.792881  1.000000"
            ]
          },
          "execution_count": 13,
          "metadata": {},
          "output_type": "execute_result"
        }
      ],
      "source": [
        "x_corr = df.corr()\n",
        "x_corr"
      ]
    },
    {
      "cell_type": "markdown",
      "metadata": {
        "id": "J08I3Pn2YK2A"
      },
      "source": [
        "# CORRELOGRAM"
      ]
    },
    {
      "cell_type": "code",
      "execution_count": 14,
      "metadata": {
        "colab": {
          "base_uri": "https://localhost:8080/",
          "height": 432
        },
        "id": "xlXfpspqYNgY",
        "outputId": "a5853054-9ef4-4d96-902a-ec4ce99fe177"
      },
      "outputs": [
        {
          "data": {
            "image/png": "[encoded data removed]",
            "text/plain": [
              "<Figure size 1440x504 with 2 Axes>"
            ]
          },
          "metadata": {},
          "output_type": "display_data"
        }
      ],
      "source": [
        "plt.figure(figsize=(20, 7),facecolor=\"lightgrey\",frameon=True,edgecolor='blue') \n",
        "sns.heatmap(x_corr, annot=True, cmap='inferno_r');\n",
        "plt.show()"
      ]
    },
    {
      "cell_type": "code",
      "execution_count": 15,
      "metadata": {
        "colab": {
          "base_uri": "https://localhost:8080/",
          "height": 1000
        },
        "id": "aD4zu9G8YutA",
        "outputId": "aee50a0a-19c8-4690-e037-e23d13487fe6"
      },
      "outputs": [
        {
          "data": {
            "image/png": "[encoded data removed]",
            "text/plain": [
              "<Figure size 1260x1260 with 56 Axes>"
            ]
          },
          "metadata": {
            "needs_background": "light"
          },
          "output_type": "display_data"
        }
      ],
      "source": [
        "sns.pairplot(df);"
      ]
    },
    {
      "cell_type": "markdown",
      "metadata": {
        "id": "D4npN1ncZyt5"
      },
      "source": [
        "# visualization using seaborn"
      ]
    },
    {
      "cell_type": "code",
      "execution_count": 16,
      "metadata": {
        "colab": {
          "base_uri": "https://localhost:8080/",
          "height": 279
        },
        "id": "oeQy8jtNZz8Y",
        "outputId": "27ffbc4a-482f-4424-925a-b349fa769af6"
      },
      "outputs": [
        {
          "data": {
            "image/png": "[encoded data removed]",
            "text/plain": [
              "<Figure size 432x288 with 1 Axes>"
            ]
          },
          "metadata": {
            "needs_background": "light"
          },
          "output_type": "display_data"
        }
      ],
      "source": [
        "sns.countplot(df['Species']);"
      ]
    },
    {
      "cell_type": "code",
      "execution_count": 17,
      "metadata": {
        "colab": {
          "base_uri": "https://localhost:8080/",
          "height": 279
        },
        "id": "rrX7Pq9raLpK",
        "outputId": "abde1e65-9e3c-435d-e8ea-c14d53f3f357"
      },
      "outputs": [
        {
          "data": {
            "image/png": "[encoded data removed]",
            "text/plain": [
              "<Figure size 432x288 with 1 Axes>"
            ]
          },
          "metadata": {
            "needs_background": "light"
          },
          "output_type": "display_data"
        }
      ],
      "source": [
        "sns.swarmplot(df['Species'],df['Height']);"
      ]
    },
    {
      "cell_type": "code",
      "execution_count": 18,
      "metadata": {
        "colab": {
          "base_uri": "https://localhost:8080/",
          "height": 279
        },
        "id": "dcRqqSkRbjNh",
        "outputId": "da7d40b8-9454-431e-ed3a-105311d7deac"
      },
      "outputs": [
        {
          "data": {
            "image/png": "[encoded data removed]",
            "text/plain": [
              "<Figure size 432x288 with 1 Axes>"
            ]
          },
          "metadata": {
            "needs_background": "light"
          },
          "output_type": "display_data"
        }
      ],
      "source": [
        "sns.scatterplot(x=\"Length1\", y=\"Length2\",hue=\"Species\",linewidth=0,data=df);"
      ]
    },
    {
      "cell_type": "markdown",
      "metadata": {
        "id": "cc_zsV1QdhX5"
      },
      "source": [
        "# visualization using cufflinks"
      ]
    },
    {
      "cell_type": "code",
      "execution_count": 19,
      "metadata": {
        "colab": {
          "base_uri": "https://localhost:8080/",
          "height": 546
        },
        "id": "ayRzZZDfb5AI",
        "outputId": "967e18f9-823e-4f22-98e1-704d13e5ff62"
      },
      "outputs": [
        {
          "data": {
            "application/vnd.plotly.v1+json": {
              "config": {
                "linkText": "Export to plot.ly",
                "plotlyServerURL": "https://plot.ly",
                "showLink": true
              },
              "data": [
                {
                  "line": {
                    "color": "rgba(255, 153, 51, 1.0)",
                    "dash": "solid",
                    "shape": "linear",
                    "width": 1.3
                  },
                  "mode": "lines",
                  "name": "Species",
                  "text": "",
                  "type": "scatter",
                  "x": [
                    0,
                    1,
                    2,
                    3,
                    4,
                    5,
                    6,
                    7,
                    8,
                    9,
                    10,
                    11,
                    12,
                    13,
                    14,
                    15,
                    16,
                    17,
                    18,
                    19,
                    20,
                    21,
                    22,
                    23,
                    24,
                    25,
                    26,
                    27,
                    28,
                    29,
                    30,
                    31,
                    32,
                    33,
                    34,
                    35,
                    36,
                    37,
                    38,
                    39,
                    40,
                    41,
                    42,
                    43,
                    44,
                    45,
                    46,
                    47,
                    48,
                    49,
                    50,
                    51,
                    52,
                    53,
                    54,
                    55,
                    56,
                    57,
                    58,
                    59,
                    60,
                    61,
                    62,
                    63,
                    64,
                    65,
                    66,
                    67,
                    68,
                    69,
                    70,
                    71,
                    72,
                    73,
                    74,
                    75,
                    76,
                    77,
                    78,
                    79,
                    80,
                    81,
                    82,
                    83,
                    84,
                    85,
                    86,
                    87,
                    88,
                    89,
                    90,
                    91,
                    92,
                    93,
                    94,
                    95,
                    96,
                    97,
                    98,
                    99,
                    100,
                    101,
                    102,
                    103,
                    104,
                    105,
                    106,
                    107,
                    108,
                    109,
                    110,
                    111,
                    112,
                    113,
                    114,
                    115,
                    116,
                    117,
                    118,
                    119,
                    120,
                    121,
                    122,
                    123,
                    124,
                    125,
                    126,
                    127,
                    128,
                    129,
                    130,
                    131,
                    132,
                    133,
                    134,
                    135,
                    136,
                    137,
                    138,
                    139,
                    140,
                    141,
                    142,
                    143,
                    144,
                    145,
                    146,
                    147,
                    148,
                    149,
                    150,
                    151,
                    152,
                    153,
                    154,
                    155,
                    156,
                    157,
                    158
                  ],
                  "y": [
                    0,
                    0,
                    0,
                    0,
                    0,
                    0,
                    0,
                    0,
                    0,
                    0,
                    0,
                    0,
                    0,
                    0,
                    0,
                    0,
                    0,
                    0,
                    0,
                    0,
                    0,
                    0,
                    0,
                    0,
                    0,
                    0,
                    0,
                    0,
                    0,
                    0,
                    0,
                    0,
                    0,
                    0,
                    0,
                    4,
                    4,
                    4,
                    4,
                    4,
                    4,
                    4,
                    4,
                    4,
                    4,
                    4,
                    4,
                    4,
                    4,
                    4,
                    4,
                    4,
                    4,
                    4,
                    4,
                    6,
                    6,
                    6,
                    6,
                    6,
                    6,
                    1,
                    1,
                    1,
                    1,
                    1,
                    1,
                    1,
                    1,
                    1,
                    1,
                    1,
                    2,
                    2,
                    2,
                    2,
                    2,
                    2,
                    2,
                    2,
                    2,
                    2,
                    2,
                    2,
                    2,
                    2,
                    2,
                    2,
                    2,
                    2,
                    2,
                    2,
                    2,
                    2,
                    2,
                    2,
                    2,
                    2,
                    2,
                    2,
                    2,
                    2,
                    2,
                    2,
                    2,
                    2,
                    2,
                    2,
                    2,
                    2,
                    2,
                    2,
                    2,
                    2,
                    2,
                    2,
                    2,
                    2,
                    2,
                    2,
                    2,
                    2,
                    2,
                    2,
                    2,
                    2,
                    2,
                    2,
                    3,
                    3,
                    3,
                    3,
                    3,
                    3,
                    3,
                    3,
                    3,
                    3,
                    3,
                    3,
                    3,
                    3,
                    3,
                    3,
                    3,
                    5,
                    5,
                    5,
                    5,
                    5,
                    5,
                    5,
                    5,
                    5,
                    5,
                    5,
                    5,
                    5,
                    5
                  ]
                },
                {
                  "line": {
                    "color": "rgba(55, 128, 191, 1.0)",
                    "dash": "solid",
                    "shape": "linear",
                    "width": 1.3
                  },
                  "mode": "lines",
                  "name": "Weight",
                  "text": "",
                  "type": "scatter",
                  "x": [
                    0,
                    1,
                    2,
                    3,
                    4,
                    5,
                    6,
                    7,
                    8,
                    9,
                    10,
                    11,
                    12,
                    13,
                    14,
                    15,
                    16,
                    17,
                    18,
                    19,
                    20,
                    21,
                    22,
                    23,
                    24,
                    25,
                    26,
                    27,
                    28,
                    29,
                    30,
                    31,
                    32,
                    33,
                    34,
                    35,
                    36,
                    37,
                    38,
                    39,
                    40,
                    41,
                    42,
                    43,
                    44,
                    45,
                    46,
                    47,
                    48,
                    49,
                    50,
                    51,
                    52,
                    53,
                    54,
                    55,
                    56,
                    57,
                    58,
                    59,
                    60,
                    61,
                    62,
                    63,
                    64,
                    65,
                    66,
                    67,
                    68,
                    69,
                    70,
                    71,
                    72,
                    73,
                    74,
                    75,
                    76,
                    77,
                    78,
                    79,
                    80,
                    81,
                    82,
                    83,
                    84,
                    85,
                    86,
                    87,
                    88,
                    89,
                    90,
                    91,
                    92,
                    93,
                    94,
                    95,
                    96,
                    97,
                    98,
                    99,
                    100,
                    101,
                    102,
                    103,
                    104,
                    105,
                    106,
                    107,
                    108,
                    109,
                    110,
                    111,
                    112,
                    113,
                    114,
                    115,
                    116,
                    117,
                    118,
                    119,
                    120,
                    121,
                    122,
                    123,
                    124,
                    125,
                    126,
                    127,
                    128,
                    129,
                    130,
                    131,
                    132,
                    133,
                    134,
                    135,
                    136,
                    137,
                    138,
                    139,
                    140,
                    141,
                    142,
                    143,
                    144,
                    145,
                    146,
                    147,
                    148,
                    149,
                    150,
                    151,
                    152,
                    153,
                    154,
                    155,
                    156,
                    157,
                    158
                  ],
                  "y": [
                    242,
                    290,
                    340,
                    363,
                    430,
                    450,
                    500,
                    390,
                    450,
                    500,
                    475,
                    500,
                    500,
                    340,
                    600,
                    600,
                    700,
                    700,
                    610,
                    650,
                    575,
                    685,
                    620,
                    680,
                    700,
                    725,
                    720,
                    714,
                    850,
                    1000,
                    920,
                    955,
                    925,
                    975,
                    950,
                    40,
                    69,
                    78,
                    87,
                    120,
                    0,
                    110,
                    120,
                    150,
                    145,
                    160,
                    140,
                    160,
                    169,
                    161,
                    200,
                    180,
                    290,
                    272,
                    390,
                    270,
                    270,
                    306,
                    540,
                    800,
                    1000,
                    55,
                    60,
                    90,
                    120,
                    150,
                    140,
                    170,
                    145,
                    200,
                    273,
                    300,
                    5.9,
                    32,
                    40,
                    51.5,
                    70,
                    100,
                    78,
                    80,
                    85,
                    85,
                    110,
                    115,
                    125,
                    130,
                    120,
                    120,
                    130,
                    135,
                    110,
                    130,
                    150,
                    145,
                    150,
                    170,
                    225,
                    145,
                    188,
                    180,
                    197,
                    218,
                    300,
                    260,
                    265,
                    250,
                    250,
                    300,
                    320,
                    514,
                    556,
                    840,
                    685,
                    700,
                    700,
                    690,
                    900,
                    650,
                    820,
                    850,
                    900,
                    1015,
                    820,
                    1100,
                    1000,
                    1100,
                    1000,
                    1000,
                    200,
                    300,
                    300,
                    300,
                    430,
                    345,
                    456,
                    510,
                    540,
                    500,
                    567,
                    770,
                    950,
                    1250,
                    1600,
                    1550,
                    1650,
                    6.7,
                    7.5,
                    7,
                    9.7,
                    9.8,
                    8.7,
                    10,
                    9.9,
                    9.8,
                    12.2,
                    13.4,
                    12.2,
                    19.7,
                    19.9
                  ]
                },
                {
                  "line": {
                    "color": "rgba(50, 171, 96, 1.0)",
                    "dash": "solid",
                    "shape": "linear",
                    "width": 1.3
                  },
                  "mode": "lines",
                  "name": "Length1",
                  "text": "",
                  "type": "scatter",
                  "x": [
                    0,
                    1,
                    2,
                    3,
                    4,
                    5,
                    6,
                    7,
                    8,
                    9,
                    10,
                    11,
                    12,
                    13,
                    14,
                    15,
                    16,
                    17,
                    18,
                    19,
                    20,
                    21,
                    22,
                    23,
                    24,
                    25,
                    26,
                    27,
                    28,
                    29,
                    30,
                    31,
                    32,
                    33,
                    34,
                    35,
                    36,
                    37,
                    38,
                    39,
                    40,
                    41,
                    42,
                    43,
                    44,
                    45,
                    46,
                    47,
                    48,
                    49,
                    50,
                    51,
                    52,
                    53,
                    54,
                    55,
                    56,
                    57,
                    58,
                    59,
                    60,
                    61,
                    62,
                    63,
                    64,
                    65,
                    66,
                    67,
                    68,
                    69,
                    70,
                    71,
                    72,
                    73,
                    74,
                    75,
                    76,
                    77,
                    78,
                    79,
                    80,
                    81,
                    82,
                    83,
                    84,
                    85,
                    86,
                    87,
                    88,
                    89,
                    90,
                    91,
                    92,
                    93,
                    94,
                    95,
                    96,
                    97,
                    98,
                    99,
                    100,
                    101,
                    102,
                    103,
                    104,
                    105,
                    106,
                    107,
                    108,
                    109,
                    110,
                    111,
                    112,
                    113,
                    114,
                    115,
                    116,
                    117,
                    118,
                    119,
                    120,
                    121,
                    122,
                    123,
                    124,
                    125,
                    126,
                    127,
                    128,
                    129,
                    130,
                    131,
                    132,
                    133,
                    134,
                    135,
                    136,
                    137,
                    138,
                    139,
                    140,
                    141,
                    142,
                    143,
                    144,
                    145,
                    146,
                    147,
                    148,
                    149,
                    150,
                    151,
                    152,
                    153,
                    154,
                    155,
                    156,
                    157,
                    158
                  ],
                  "y": [
                    23.2,
                    24,
                    23.9,
                    26.3,
                    26.5,
                    26.8,
                    26.8,
                    27.6,
                    27.6,
                    28.5,
                    28.4,
                    28.7,
                    29.1,
                    29.5,
                    29.4,
                    29.4,
                    30.4,
                    30.4,
                    30.9,
                    31,
                    31.3,
                    31.4,
                    31.5,
                    31.8,
                    31.9,
                    31.8,
                    32,
                    32.7,
                    32.8,
                    33.5,
                    35,
                    35,
                    36.2,
                    37.4,
                    38,
                    12.9,
                    16.5,
                    17.5,
                    18.2,
                    18.6,
                    19,
                    19.1,
                    19.4,
                    20.4,
                    20.5,
                    20.5,
                    21,
                    21.1,
                    22,
                    22,
                    22.1,
                    23.6,
                    24,
                    25,
                    29.5,
                    23.6,
                    24.1,
                    25.6,
                    28.5,
                    33.7,
                    37.3,
                    13.5,
                    14.3,
                    16.3,
                    17.5,
                    18.4,
                    19,
                    19,
                    19.8,
                    21.2,
                    23,
                    24,
                    7.5,
                    12.5,
                    13.8,
                    15,
                    15.7,
                    16.2,
                    16.8,
                    17.2,
                    17.8,
                    18.2,
                    19,
                    19,
                    19,
                    19.3,
                    20,
                    20,
                    20,
                    20,
                    20,
                    20.5,
                    20.5,
                    20.7,
                    21,
                    21.5,
                    22,
                    22,
                    22.6,
                    23,
                    23.5,
                    25,
                    25.2,
                    25.4,
                    25.4,
                    25.4,
                    25.9,
                    26.9,
                    27.8,
                    30.5,
                    32,
                    32.5,
                    34,
                    34,
                    34.5,
                    34.6,
                    36.5,
                    36.5,
                    36.6,
                    36.9,
                    37,
                    37,
                    37.1,
                    39,
                    39.8,
                    40.1,
                    40.2,
                    41.1,
                    30,
                    31.7,
                    32.7,
                    34.8,
                    35.5,
                    36,
                    40,
                    40,
                    40.1,
                    42,
                    43.2,
                    44.8,
                    48.3,
                    52,
                    56,
                    56,
                    59,
                    9.3,
                    10,
                    10.1,
                    10.4,
                    10.7,
                    10.8,
                    11.3,
                    11.3,
                    11.4,
                    11.5,
                    11.7,
                    12.1,
                    13.2,
                    13.8
                  ]
                },
                {
                  "line": {
                    "color": "rgba(128, 0, 128, 1.0)",
                    "dash": "solid",
                    "shape": "linear",
                    "width": 1.3
                  },
                  "mode": "lines",
                  "name": "Length2",
                  "text": "",
                  "type": "scatter",
                  "x": [
                    0,
                    1,
                    2,
                    3,
                    4,
                    5,
                    6,
                    7,
                    8,
                    9,
                    10,
                    11,
                    12,
                    13,
                    14,
                    15,
                    16,
                    17,
                    18,
                    19,
                    20,
                    21,
                    22,
                    23,
                    24,
                    25,
                    26,
                    27,
                    28,
                    29,
                    30,
                    31,
                    32,
                    33,
                    34,
                    35,
                    36,
                    37,
                    38,
                    39,
                    40,
                    41,
                    42,
                    43,
                    44,
                    45,
                    46,
                    47,
                    48,
                    49,
                    50,
                    51,
                    52,
                    53,
                    54,
                    55,
                    56,
                    57,
                    58,
                    59,
                    60,
                    61,
                    62,
                    63,
                    64,
                    65,
                    66,
                    67,
                    68,
                    69,
                    70,
                    71,
                    72,
                    73,
                    74,
                    75,
                    76,
                    77,
                    78,
                    79,
                    80,
                    81,
                    82,
                    83,
                    84,
                    85,
                    86,
                    87,
                    88,
                    89,
                    90,
                    91,
                    92,
                    93,
                    94,
                    95,
                    96,
                    97,
                    98,
                    99,
                    100,
                    101,
                    102,
                    103,
                    104,
                    105,
                    106,
                    107,
                    108,
                    109,
                    110,
                    111,
                    112,
                    113,
                    114,
                    115,
                    116,
                    117,
                    118,
                    119,
                    120,
                    121,
                    122,
                    123,
                    124,
                    125,
                    126,
                    127,
                    128,
                    129,
                    130,
                    131,
                    132,
                    133,
                    134,
                    135,
                    136,
                    137,
                    138,
                    139,
                    140,
                    141,
                    142,
                    143,
                    144,
                    145,
                    146,
                    147,
                    148,
                    149,
                    150,
                    151,
                    152,
                    153,
                    154,
                    155,
                    156,
                    157,
                    158
                  ],
                  "y": [
                    25.4,
                    26.3,
                    26.5,
                    29,
                    29,
                    29.7,
                    29.7,
                    30,
                    30,
                    30.7,
                    31,
                    31,
                    31.5,
                    32,
                    32,
                    32,
                    33,
                    33,
                    33.5,
                    33.5,
                    34,
                    34,
                    34.5,
                    35,
                    35,
                    35,
                    35,
                    36,
                    36,
                    37,
                    38.5,
                    38.5,
                    39.5,
                    41,
                    41,
                    14.1,
                    18.2,
                    18.8,
                    19.8,
                    20,
                    20.5,
                    20.8,
                    21,
                    22,
                    22,
                    22.5,
                    22.5,
                    22.5,
                    24,
                    23.4,
                    23.5,
                    25.2,
                    26,
                    27,
                    31.7,
                    26,
                    26.5,
                    28,
                    31,
                    36.4,
                    40,
                    14.7,
                    15.5,
                    17.7,
                    19,
                    20,
                    20.7,
                    20.7,
                    21.5,
                    23,
                    25,
                    26,
                    8.4,
                    13.7,
                    15,
                    16.2,
                    17.4,
                    18,
                    18.7,
                    19,
                    19.6,
                    20,
                    21,
                    21,
                    21,
                    21.3,
                    22,
                    22,
                    22,
                    22,
                    22,
                    22.5,
                    22.5,
                    22.7,
                    23,
                    23.5,
                    24,
                    24,
                    24.6,
                    25,
                    25.6,
                    26.5,
                    27.3,
                    27.5,
                    27.5,
                    27.5,
                    28,
                    28.7,
                    30,
                    32.8,
                    34.5,
                    35,
                    36.5,
                    36,
                    37,
                    37,
                    39,
                    39,
                    39,
                    40,
                    40,
                    40,
                    40,
                    42,
                    43,
                    43,
                    43.5,
                    44,
                    32.3,
                    34,
                    35,
                    37.3,
                    38,
                    38.5,
                    42.5,
                    42.5,
                    43,
                    45,
                    46,
                    48,
                    51.7,
                    56,
                    60,
                    60,
                    63.4,
                    9.8,
                    10.5,
                    10.6,
                    11,
                    11.2,
                    11.3,
                    11.8,
                    11.8,
                    12,
                    12.2,
                    12.4,
                    13,
                    14.3,
                    15
                  ]
                },
                {
                  "line": {
                    "color": "rgba(219, 64, 82, 1.0)",
                    "dash": "solid",
                    "shape": "linear",
                    "width": 1.3
                  },
                  "mode": "lines",
                  "name": "Length3",
                  "text": "",
                  "type": "scatter",
                  "x": [
                    0,
                    1,
                    2,
                    3,
                    4,
                    5,
                    6,
                    7,
                    8,
                    9,
                    10,
                    11,
                    12,
                    13,
                    14,
                    15,
                    16,
                    17,
                    18,
                    19,
                    20,
                    21,
                    22,
                    23,
                    24,
                    25,
                    26,
                    27,
                    28,
                    29,
                    30,
                    31,
                    32,
                    33,
                    34,
                    35,
                    36,
                    37,
                    38,
                    39,
                    40,
                    41,
                    42,
                    43,
                    44,
                    45,
                    46,
                    47,
                    48,
                    49,
                    50,
                    51,
                    52,
                    53,
                    54,
                    55,
                    56,
                    57,
                    58,
                    59,
                    60,
                    61,
                    62,
                    63,
                    64,
                    65,
                    66,
                    67,
                    68,
                    69,
                    70,
                    71,
                    72,
                    73,
                    74,
                    75,
                    76,
                    77,
                    78,
                    79,
                    80,
                    81,
                    82,
                    83,
                    84,
                    85,
                    86,
                    87,
                    88,
                    89,
                    90,
                    91,
                    92,
                    93,
                    94,
                    95,
                    96,
                    97,
                    98,
                    99,
                    100,
                    101,
                    102,
                    103,
                    104,
                    105,
                    106,
                    107,
                    108,
                    109,
                    110,
                    111,
                    112,
                    113,
                    114,
                    115,
                    116,
                    117,
                    118,
                    119,
                    120,
                    121,
                    122,
                    123,
                    124,
                    125,
                    126,
                    127,
                    128,
                    129,
                    130,
                    131,
                    132,
                    133,
                    134,
                    135,
                    136,
                    137,
                    138,
                    139,
                    140,
                    141,
                    142,
                    143,
                    144,
                    145,
                    146,
                    147,
                    148,
                    149,
                    150,
                    151,
                    152,
                    153,
                    154,
                    155,
                    156,
                    157,
                    158
                  ],
                  "y": [
                    30,
                    31.2,
                    31.1,
                    33.5,
                    34,
                    34.7,
                    34.5,
                    35,
                    35.1,
                    36.2,
                    36.2,
                    36.2,
                    36.4,
                    37.3,
                    37.2,
                    37.2,
                    38.3,
                    38.5,
                    38.6,
                    38.7,
                    39.5,
                    39.2,
                    39.7,
                    40.6,
                    40.5,
                    40.9,
                    40.6,
                    41.5,
                    41.6,
                    42.6,
                    44.1,
                    44,
                    45.3,
                    45.9,
                    46.5,
                    16.2,
                    20.3,
                    21.2,
                    22.2,
                    22.2,
                    22.8,
                    23.1,
                    23.7,
                    24.7,
                    24.3,
                    25.3,
                    25,
                    25,
                    27.2,
                    26.7,
                    26.8,
                    27.9,
                    29.2,
                    30.6,
                    35,
                    28.7,
                    29.3,
                    30.8,
                    34,
                    39.6,
                    43.5,
                    16.5,
                    17.4,
                    19.8,
                    21.3,
                    22.4,
                    23.2,
                    23.2,
                    24.1,
                    25.8,
                    28,
                    29,
                    8.8,
                    14.7,
                    16,
                    17.2,
                    18.5,
                    19.2,
                    19.4,
                    20.2,
                    20.8,
                    21,
                    22.5,
                    22.5,
                    22.5,
                    22.8,
                    23.5,
                    23.5,
                    23.5,
                    23.5,
                    23.5,
                    24,
                    24,
                    24.2,
                    24.5,
                    25,
                    25.5,
                    25.5,
                    26.2,
                    26.5,
                    27,
                    28,
                    28.7,
                    28.9,
                    28.9,
                    28.9,
                    29.4,
                    30.1,
                    31.6,
                    34,
                    36.5,
                    37.3,
                    39,
                    38.3,
                    39.4,
                    39.3,
                    41.4,
                    41.4,
                    41.3,
                    42.3,
                    42.5,
                    42.4,
                    42.5,
                    44.6,
                    45.2,
                    45.5,
                    46,
                    46.6,
                    34.8,
                    37.8,
                    38.8,
                    39.8,
                    40.5,
                    41,
                    45.5,
                    45.5,
                    45.8,
                    48,
                    48.7,
                    51.2,
                    55.1,
                    59.7,
                    64,
                    64,
                    68,
                    10.8,
                    11.6,
                    11.6,
                    12,
                    12.4,
                    12.6,
                    13.1,
                    13.1,
                    13.2,
                    13.4,
                    13.5,
                    13.8,
                    15.2,
                    16.2
                  ]
                },
                {
                  "line": {
                    "color": "rgba(0, 128, 128, 1.0)",
                    "dash": "solid",
                    "shape": "linear",
                    "width": 1.3
                  },
                  "mode": "lines",
                  "name": "Height",
                  "text": "",
                  "type": "scatter",
                  "x": [
                    0,
                    1,
                    2,
                    3,
                    4,
                    5,
                    6,
                    7,
                    8,
                    9,
                    10,
                    11,
                    12,
                    13,
                    14,
                    15,
                    16,
                    17,
                    18,
                    19,
                    20,
                    21,
                    22,
                    23,
                    24,
                    25,
                    26,
                    27,
                    28,
                    29,
                    30,
                    31,
                    32,
                    33,
                    34,
                    35,
                    36,
                    37,
                    38,
                    39,
                    40,
                    41,
                    42,
                    43,
                    44,
                    45,
                    46,
                    47,
                    48,
                    49,
                    50,
                    51,
                    52,
                    53,
                    54,
                    55,
                    56,
                    57,
                    58,
                    59,
                    60,
                    61,
                    62,
                    63,
                    64,
                    65,
                    66,
                    67,
                    68,
                    69,
                    70,
                    71,
                    72,
                    73,
                    74,
                    75,
                    76,
                    77,
                    78,
                    79,
                    80,
                    81,
                    82,
                    83,
                    84,
                    85,
                    86,
                    87,
                    88,
                    89,
                    90,
                    91,
                    92,
                    93,
                    94,
                    95,
                    96,
                    97,
                    98,
                    99,
                    100,
                    101,
                    102,
                    103,
                    104,
                    105,
                    106,
                    107,
                    108,
                    109,
                    110,
                    111,
                    112,
                    113,
                    114,
                    115,
                    116,
                    117,
                    118,
                    119,
                    120,
                    121,
                    122,
                    123,
                    124,
                    125,
                    126,
                    127,
                    128,
                    129,
                    130,
                    131,
                    132,
                    133,
                    134,
                    135,
                    136,
                    137,
                    138,
                    139,
                    140,
                    141,
                    142,
                    143,
                    144,
                    145,
                    146,
                    147,
                    148,
                    149,
                    150,
                    151,
                    152,
                    153,
                    154,
                    155,
                    156,
                    157,
                    158
                  ],
                  "y": [
                    11.52,
                    12.48,
                    12.3778,
                    12.73,
                    12.444,
                    13.6024,
                    14.1795,
                    12.67,
                    14.0049,
                    14.2266,
                    14.2628,
                    14.3714,
                    13.7592,
                    13.9129,
                    14.9544,
                    15.438,
                    14.8604,
                    14.938,
                    15.633,
                    14.4738,
                    15.1285,
                    15.9936,
                    15.5227,
                    15.4686,
                    16.2405,
                    16.36,
                    16.3618,
                    16.517,
                    16.8896,
                    18.957,
                    18.0369,
                    18.084,
                    18.7542,
                    18.6354,
                    17.6235,
                    4.1472,
                    5.2983,
                    5.5756,
                    5.6166,
                    6.216,
                    6.4752,
                    6.1677,
                    6.1146,
                    5.8045,
                    6.6339,
                    7.0334,
                    6.55,
                    6.4,
                    7.5344,
                    6.9153,
                    7.3968,
                    7.0866,
                    8.8768,
                    8.568,
                    9.485,
                    8.3804,
                    8.1454,
                    8.778,
                    10.744,
                    11.7612,
                    12.354,
                    6.8475,
                    6.5772,
                    7.4052,
                    8.3922,
                    8.8928,
                    8.5376,
                    9.396,
                    9.7364,
                    10.3458,
                    11.088,
                    11.368,
                    2.112,
                    3.528,
                    3.824,
                    4.5924,
                    4.588,
                    5.2224,
                    5.1992,
                    5.6358,
                    5.1376,
                    5.082,
                    5.6925,
                    5.9175,
                    5.6925,
                    6.384,
                    6.11,
                    5.64,
                    6.11,
                    5.875,
                    5.5225,
                    5.856,
                    6.792,
                    5.9532,
                    5.2185,
                    6.275,
                    7.293,
                    6.375,
                    6.7334,
                    6.4395,
                    6.561,
                    7.168,
                    8.323,
                    7.1672,
                    7.0516,
                    7.2828,
                    7.8204,
                    7.5852,
                    7.6156,
                    10.03,
                    10.2565,
                    11.4884,
                    10.881,
                    10.6091,
                    10.835,
                    10.5717,
                    11.1366,
                    11.1366,
                    12.4313,
                    11.9286,
                    11.73,
                    12.3808,
                    11.135,
                    12.8002,
                    11.9328,
                    12.5125,
                    12.604,
                    12.4888,
                    5.568,
                    5.7078,
                    5.9364,
                    6.2884,
                    7.29,
                    6.396,
                    7.28,
                    6.825,
                    7.786,
                    6.96,
                    7.792,
                    7.68,
                    8.9262,
                    10.6863,
                    9.6,
                    9.6,
                    10.812,
                    1.7388,
                    1.972,
                    1.7284,
                    2.196,
                    2.0832,
                    1.9782,
                    2.2139,
                    2.2139,
                    2.2044,
                    2.0904,
                    2.43,
                    2.277,
                    2.8728,
                    2.9322
                  ]
                },
                {
                  "line": {
                    "color": "rgba(255, 255, 51, 1.0)",
                    "dash": "solid",
                    "shape": "linear",
                    "width": 1.3
                  },
                  "mode": "lines",
                  "name": "Width",
                  "text": "",
                  "type": "scatter",
                  "x": [
                    0,
                    1,
                    2,
                    3,
                    4,
                    5,
                    6,
                    7,
                    8,
                    9,
                    10,
                    11,
                    12,
                    13,
                    14,
                    15,
                    16,
                    17,
                    18,
                    19,
                    20,
                    21,
                    22,
                    23,
                    24,
                    25,
                    26,
                    27,
                    28,
                    29,
                    30,
                    31,
                    32,
                    33,
                    34,
                    35,
                    36,
                    37,
                    38,
                    39,
                    40,
                    41,
                    42,
                    43,
                    44,
                    45,
                    46,
                    47,
                    48,
                    49,
                    50,
                    51,
                    52,
                    53,
                    54,
                    55,
                    56,
                    57,
                    58,
                    59,
                    60,
                    61,
                    62,
                    63,
                    64,
                    65,
                    66,
                    67,
                    68,
                    69,
                    70,
                    71,
                    72,
                    73,
                    74,
                    75,
                    76,
                    77,
                    78,
                    79,
                    80,
                    81,
                    82,
                    83,
                    84,
                    85,
                    86,
                    87,
                    88,
                    89,
                    90,
                    91,
                    92,
                    93,
                    94,
                    95,
                    96,
                    97,
                    98,
                    99,
                    100,
                    101,
                    102,
                    103,
                    104,
                    105,
                    106,
                    107,
                    108,
                    109,
                    110,
                    111,
                    112,
                    113,
                    114,
                    115,
                    116,
                    117,
                    118,
                    119,
                    120,
                    121,
                    122,
                    123,
                    124,
                    125,
                    126,
                    127,
                    128,
                    129,
                    130,
                    131,
                    132,
                    133,
                    134,
                    135,
                    136,
                    137,
                    138,
                    139,
                    140,
                    141,
                    142,
                    143,
                    144,
                    145,
                    146,
                    147,
                    148,
                    149,
                    150,
                    151,
                    152,
                    153,
                    154,
                    155,
                    156,
                    157,
                    158
                  ],
                  "y": [
                    4.02,
                    4.3056,
                    4.6961,
                    4.4555,
                    5.134,
                    4.9274,
                    5.2785,
                    4.69,
                    4.8438,
                    4.9594,
                    5.1042,
                    4.8146,
                    4.368,
                    5.0728,
                    5.1708,
                    5.58,
                    5.2854,
                    5.1975,
                    5.1338,
                    5.7276,
                    5.5695,
                    5.3704,
                    5.2801,
                    6.1306,
                    5.589,
                    6.0532,
                    6.09,
                    5.8515,
                    6.1984,
                    6.603,
                    6.3063,
                    6.292,
                    6.7497,
                    6.7473,
                    6.3705,
                    2.268,
                    2.8217,
                    2.9044,
                    3.1746,
                    3.5742,
                    3.3516,
                    3.3957,
                    3.2943,
                    3.7544,
                    3.5478,
                    3.8203,
                    3.325,
                    3.8,
                    3.8352,
                    3.6312,
                    4.1272,
                    3.906,
                    4.4968,
                    4.7736,
                    5.355,
                    4.2476,
                    4.2485,
                    4.6816,
                    6.562,
                    6.5736,
                    6.525,
                    2.3265,
                    2.3142,
                    2.673,
                    2.9181,
                    3.2928,
                    3.2944,
                    3.4104,
                    3.1571,
                    3.6636,
                    4.144,
                    4.234,
                    1.408,
                    1.9992,
                    2.432,
                    2.6316,
                    2.9415,
                    3.3216,
                    3.1234,
                    3.0502,
                    3.0368,
                    2.772,
                    3.555,
                    3.3075,
                    3.6675,
                    3.534,
                    3.4075,
                    3.525,
                    3.525,
                    3.525,
                    3.995,
                    3.624,
                    3.624,
                    3.63,
                    3.626,
                    3.725,
                    3.723,
                    3.825,
                    4.1658,
                    3.6835,
                    4.239,
                    4.144,
                    5.1373,
                    4.335,
                    4.335,
                    4.5662,
                    4.2042,
                    4.6354,
                    4.7716,
                    6.018,
                    6.3875,
                    7.7957,
                    6.864,
                    6.7408,
                    6.2646,
                    6.3666,
                    7.4934,
                    6.003,
                    7.3514,
                    7.1064,
                    7.225,
                    7.4624,
                    6.63,
                    6.8684,
                    7.2772,
                    7.4165,
                    8.142,
                    7.5958,
                    3.3756,
                    4.158,
                    4.3844,
                    4.0198,
                    4.5765,
                    3.977,
                    4.3225,
                    4.459,
                    5.1296,
                    4.896,
                    4.87,
                    5.376,
                    6.1712,
                    6.9849,
                    6.144,
                    6.144,
                    7.48,
                    1.0476,
                    1.16,
                    1.1484,
                    1.38,
                    1.2772,
                    1.2852,
                    1.2838,
                    1.1659,
                    1.1484,
                    1.3936,
                    1.269,
                    1.2558,
                    2.0672,
                    1.8792
                  ]
                }
              ],
              "layout": {
                "legend": {
                  "bgcolor": "#1A1A1C",
                  "font": {
                    "color": "#D9D9D9"
                  }
                },
                "paper_bgcolor": "#1A1A1C",
                "plot_bgcolor": "#1A1A1C",
                "template": {
                  "data": {
                    "bar": [
                      {
                        "error_x": {
                          "color": "#2a3f5f"
                        },
                        "error_y": {
                          "color": "#2a3f5f"
                        },
                        "marker": {
                          "line": {
                            "color": "#E5ECF6",
                            "width": 0.5
                          },
                          "pattern": {
                            "fillmode": "overlay",
                            "size": 10,
                            "solidity": 0.2
                          }
                        },
                        "type": "bar"
                      }
                    ],
                    "barpolar": [
                      {
                        "marker": {
                          "line": {
                            "color": "#E5ECF6",
                            "width": 0.5
                          },
                          "pattern": {
                            "fillmode": "overlay",
                            "size": 10,
                            "solidity": 0.2
                          }
                        },
                        "type": "barpolar"
                      }
                    ],
                    "carpet": [
                      {
                        "aaxis": {
                          "endlinecolor": "#2a3f5f",
                          "gridcolor": "white",
                          "linecolor": "white",
                          "minorgridcolor": "white",
                          "startlinecolor": "#2a3f5f"
                        },
                        "baxis": {
                          "endlinecolor": "#2a3f5f",
                          "gridcolor": "white",
                          "linecolor": "white",
                          "minorgridcolor": "white",
                          "startlinecolor": "#2a3f5f"
                        },
                        "type": "carpet"
                      }
                    ],
                    "choropleth": [
                      {
                        "colorbar": {
                          "outlinewidth": 0,
                          "ticks": ""
                        },
                        "type": "choropleth"
                      }
                    ],
                    "contour": [
                      {
                        "colorbar": {
                          "outlinewidth": 0,
                          "ticks": ""
                        },
                        "colorscale": [
                          [
                            0,
                            "#0d0887"
                          ],
                          [
                            0.1111111111111111,
                            "#46039f"
                          ],
                          [
                            0.2222222222222222,
                            "#7201a8"
                          ],
                          [
                            0.3333333333333333,
                            "#9c179e"
                          ],
                          [
                            0.4444444444444444,
                            "#bd3786"
                          ],
                          [
                            0.5555555555555556,
                            "#d8576b"
                          ],
                          [
                            0.6666666666666666,
                            "#ed7953"
                          ],
                          [
                            0.7777777777777778,
                            "#fb9f3a"
                          ],
                          [
                            0.8888888888888888,
                            "#fdca26"
                          ],
                          [
                            1,
                            "#f0f921"
                          ]
                        ],
                        "type": "contour"
                      }
                    ],
                    "contourcarpet": [
                      {
                        "colorbar": {
                          "outlinewidth": 0,
                          "ticks": ""
                        },
                        "type": "contourcarpet"
                      }
                    ],
                    "heatmap": [
                      {
                        "colorbar": {
                          "outlinewidth": 0,
                          "ticks": ""
                        },
                        "colorscale": [
                          [
                            0,
                            "#0d0887"
                          ],
                          [
                            0.1111111111111111,
                            "#46039f"
                          ],
                          [
                            0.2222222222222222,
                            "#7201a8"
                          ],
                          [
                            0.3333333333333333,
                            "#9c179e"
                          ],
                          [
                            0.4444444444444444,
                            "#bd3786"
                          ],
                          [
                            0.5555555555555556,
                            "#d8576b"
                          ],
                          [
                            0.6666666666666666,
                            "#ed7953"
                          ],
                          [
                            0.7777777777777778,
                            "#fb9f3a"
                          ],
                          [
                            0.8888888888888888,
                            "#fdca26"
                          ],
                          [
                            1,
                            "#f0f921"
                          ]
                        ],
                        "type": "heatmap"
                      }
                    ],
                    "heatmapgl": [
                      {
                        "colorbar": {
                          "outlinewidth": 0,
                          "ticks": ""
                        },
                        "colorscale": [
                          [
                            0,
                            "#0d0887"
                          ],
                          [
                            0.1111111111111111,
                            "#46039f"
                          ],
                          [
                            0.2222222222222222,
                            "#7201a8"
                          ],
                          [
                            0.3333333333333333,
                            "#9c179e"
                          ],
                          [
                            0.4444444444444444,
                            "#bd3786"
                          ],
                          [
                            0.5555555555555556,
                            "#d8576b"
                          ],
                          [
                            0.6666666666666666,
                            "#ed7953"
                          ],
                          [
                            0.7777777777777778,
                            "#fb9f3a"
                          ],
                          [
                            0.8888888888888888,
                            "#fdca26"
                          ],
                          [
                            1,
                            "#f0f921"
                          ]
                        ],
                        "type": "heatmapgl"
                      }
                    ],
                    "histogram": [
                      {
                        "marker": {
                          "pattern": {
                            "fillmode": "overlay",
                            "size": 10,
                            "solidity": 0.2
                          }
                        },
                        "type": "histogram"
                      }
                    ],
                    "histogram2d": [
                      {
                        "colorbar": {
                          "outlinewidth": 0,
                          "ticks": ""
                        },
                        "colorscale": [
                          [
                            0,
                            "#0d0887"
                          ],
                          [
                            0.1111111111111111,
                            "#46039f"
                          ],
                          [
                            0.2222222222222222,
                            "#7201a8"
                          ],
                          [
                            0.3333333333333333,
                            "#9c179e"
                          ],
                          [
                            0.4444444444444444,
                            "#bd3786"
                          ],
                          [
                            0.5555555555555556,
                            "#d8576b"
                          ],
                          [
                            0.6666666666666666,
                            "#ed7953"
                          ],
                          [
                            0.7777777777777778,
                            "#fb9f3a"
                          ],
                          [
                            0.8888888888888888,
                            "#fdca26"
                          ],
                          [
                            1,
                            "#f0f921"
                          ]
                        ],
                        "type": "histogram2d"
                      }
                    ],
                    "histogram2dcontour": [
                      {
                        "colorbar": {
                          "outlinewidth": 0,
                          "ticks": ""
                        },
                        "colorscale": [
                          [
                            0,
                            "#0d0887"
                          ],
                          [
                            0.1111111111111111,
                            "#46039f"
                          ],
                          [
                            0.2222222222222222,
                            "#7201a8"
                          ],
                          [
                            0.3333333333333333,
                            "#9c179e"
                          ],
                          [
                            0.4444444444444444,
                            "#bd3786"
                          ],
                          [
                            0.5555555555555556,
                            "#d8576b"
                          ],
                          [
                            0.6666666666666666,
                            "#ed7953"
                          ],
                          [
                            0.7777777777777778,
                            "#fb9f3a"
                          ],
                          [
                            0.8888888888888888,
                            "#fdca26"
                          ],
                          [
                            1,
                            "#f0f921"
                          ]
                        ],
                        "type": "histogram2dcontour"
                      }
                    ],
                    "mesh3d": [
                      {
                        "colorbar": {
                          "outlinewidth": 0,
                          "ticks": ""
                        },
                        "type": "mesh3d"
                      }
                    ],
                    "parcoords": [
                      {
                        "line": {
                          "colorbar": {
                            "outlinewidth": 0,
                            "ticks": ""
                          }
                        },
                        "type": "parcoords"
                      }
                    ],
                    "pie": [
                      {
                        "automargin": true,
                        "type": "pie"
                      }
                    ],
                    "scatter": [
                      {
                        "marker": {
                          "colorbar": {
                            "outlinewidth": 0,
                            "ticks": ""
                          }
                        },
                        "type": "scatter"
                      }
                    ],
                    "scatter3d": [
                      {
                        "line": {
                          "colorbar": {
                            "outlinewidth": 0,
                            "ticks": ""
                          }
                        },
                        "marker": {
                          "colorbar": {
                            "outlinewidth": 0,
                            "ticks": ""
                          }
                        },
                        "type": "scatter3d"
                      }
                    ],
                    "scattercarpet": [
                      {
                        "marker": {
                          "colorbar": {
                            "outlinewidth": 0,
                            "ticks": ""
                          }
                        },
                        "type": "scattercarpet"
                      }
                    ],
                    "scattergeo": [
                      {
                        "marker": {
                          "colorbar": {
                            "outlinewidth": 0,
                            "ticks": ""
                          }
                        },
                        "type": "scattergeo"
                      }
                    ],
                    "scattergl": [
                      {
                        "marker": {
                          "colorbar": {
                            "outlinewidth": 0,
                            "ticks": ""
                          }
                        },
                        "type": "scattergl"
                      }
                    ],
                    "scattermapbox": [
                      {
                        "marker": {
                          "colorbar": {
                            "outlinewidth": 0,
                            "ticks": ""
                          }
                        },
                        "type": "scattermapbox"
                      }
                    ],
                    "scatterpolar": [
                      {
                        "marker": {
                          "colorbar": {
                            "outlinewidth": 0,
                            "ticks": ""
                          }
                        },
                        "type": "scatterpolar"
                      }
                    ],
                    "scatterpolargl": [
                      {
                        "marker": {
                          "colorbar": {
                            "outlinewidth": 0,
                            "ticks": ""
                          }
                        },
                        "type": "scatterpolargl"
                      }
                    ],
                    "scatterternary": [
                      {
                        "marker": {
                          "colorbar": {
                            "outlinewidth": 0,
                            "ticks": ""
                          }
                        },
                        "type": "scatterternary"
                      }
                    ],
                    "surface": [
                      {
                        "colorbar": {
                          "outlinewidth": 0,
                          "ticks": ""
                        },
                        "colorscale": [
                          [
                            0,
                            "#0d0887"
                          ],
                          [
                            0.1111111111111111,
                            "#46039f"
                          ],
                          [
                            0.2222222222222222,
                            "#7201a8"
                          ],
                          [
                            0.3333333333333333,
                            "#9c179e"
                          ],
                          [
                            0.4444444444444444,
                            "#bd3786"
                          ],
                          [
                            0.5555555555555556,
                            "#d8576b"
                          ],
                          [
                            0.6666666666666666,
                            "#ed7953"
                          ],
                          [
                            0.7777777777777778,
                            "#fb9f3a"
                          ],
                          [
                            0.8888888888888888,
                            "#fdca26"
                          ],
                          [
                            1,
                            "#f0f921"
                          ]
                        ],
                        "type": "surface"
                      }
                    ],
                    "table": [
                      {
                        "cells": {
                          "fill": {
                            "color": "#EBF0F8"
                          },
                          "line": {
                            "color": "white"
                          }
                        },
                        "header": {
                          "fill": {
                            "color": "#C8D4E3"
                          },
                          "line": {
                            "color": "white"
                          }
                        },
                        "type": "table"
                      }
                    ]
                  },
                  "layout": {
                    "annotationdefaults": {
                      "arrowcolor": "#2a3f5f",
                      "arrowhead": 0,
                      "arrowwidth": 1
                    },
                    "autotypenumbers": "strict",
                    "coloraxis": {
                      "colorbar": {
                        "outlinewidth": 0,
                        "ticks": ""
                      }
                    },
                    "colorscale": {
                      "diverging": [
                        [
                          0,
                          "#8e0152"
                        ],
                        [
                          0.1,
                          "#c51b7d"
                        ],
                        [
                          0.2,
                          "#de77ae"
                        ],
                        [
                          0.3,
                          "#f1b6da"
                        ],
                        [
                          0.4,
                          "#fde0ef"
                        ],
                        [
                          0.5,
                          "#f7f7f7"
                        ],
                        [
                          0.6,
                          "#e6f5d0"
                        ],
                        [
                          0.7,
                          "#b8e186"
                        ],
                        [
                          0.8,
                          "#7fbc41"
                        ],
                        [
                          0.9,
                          "#4d9221"
                        ],
                        [
                          1,
                          "#276419"
                        ]
                      ],
                      "sequential": [
                        [
                          0,
                          "#0d0887"
                        ],
                        [
                          0.1111111111111111,
                          "#46039f"
                        ],
                        [
                          0.2222222222222222,
                          "#7201a8"
                        ],
                        [
                          0.3333333333333333,
                          "#9c179e"
                        ],
                        [
                          0.4444444444444444,
                          "#bd3786"
                        ],
                        [
                          0.5555555555555556,
                          "#d8576b"
                        ],
                        [
                          0.6666666666666666,
                          "#ed7953"
                        ],
                        [
                          0.7777777777777778,
                          "#fb9f3a"
                        ],
                        [
                          0.8888888888888888,
                          "#fdca26"
                        ],
                        [
                          1,
                          "#f0f921"
                        ]
                      ],
                      "sequentialminus": [
                        [
                          0,
                          "#0d0887"
                        ],
                        [
                          0.1111111111111111,
                          "#46039f"
                        ],
                        [
                          0.2222222222222222,
                          "#7201a8"
                        ],
                        [
                          0.3333333333333333,
                          "#9c179e"
                        ],
                        [
                          0.4444444444444444,
                          "#bd3786"
                        ],
                        [
                          0.5555555555555556,
                          "#d8576b"
                        ],
                        [
                          0.6666666666666666,
                          "#ed7953"
                        ],
                        [
                          0.7777777777777778,
                          "#fb9f3a"
                        ],
                        [
                          0.8888888888888888,
                          "#fdca26"
                        ],
                        [
                          1,
                          "#f0f921"
                        ]
                      ]
                    },
                    "colorway": [
                      "#636efa",
                      "#EF553B",
                      "#00cc96",
                      "#ab63fa",
                      "#FFA15A",
                      "#19d3f3",
                      "#FF6692",
                      "#B6E880",
                      "#FF97FF",
                      "#FECB52"
                    ],
                    "font": {
                      "color": "#2a3f5f"
                    },
                    "geo": {
                      "bgcolor": "white",
                      "lakecolor": "white",
                      "landcolor": "#E5ECF6",
                      "showlakes": true,
                      "showland": true,
                      "subunitcolor": "white"
                    },
                    "hoverlabel": {
                      "align": "left"
                    },
                    "hovermode": "closest",
                    "mapbox": {
                      "style": "light"
                    },
                    "paper_bgcolor": "white",
                    "plot_bgcolor": "#E5ECF6",
                    "polar": {
                      "angularaxis": {
                        "gridcolor": "white",
                        "linecolor": "white",
                        "ticks": ""
                      },
                      "bgcolor": "#E5ECF6",
                      "radialaxis": {
                        "gridcolor": "white",
                        "linecolor": "white",
                        "ticks": ""
                      }
                    },
                    "scene": {
                      "xaxis": {
                        "backgroundcolor": "#E5ECF6",
                        "gridcolor": "white",
                        "gridwidth": 2,
                        "linecolor": "white",
                        "showbackground": true,
                        "ticks": "",
                        "zerolinecolor": "white"
                      },
                      "yaxis": {
                        "backgroundcolor": "#E5ECF6",
                        "gridcolor": "white",
                        "gridwidth": 2,
                        "linecolor": "white",
                        "showbackground": true,
                        "ticks": "",
                        "zerolinecolor": "white"
                      },
                      "zaxis": {
                        "backgroundcolor": "#E5ECF6",
                        "gridcolor": "white",
                        "gridwidth": 2,
                        "linecolor": "white",
                        "showbackground": true,
                        "ticks": "",
                        "zerolinecolor": "white"
                      }
                    },
                    "shapedefaults": {
                      "line": {
                        "color": "#2a3f5f"
                      }
                    },
                    "ternary": {
                      "aaxis": {
                        "gridcolor": "white",
                        "linecolor": "white",
                        "ticks": ""
                      },
                      "baxis": {
                        "gridcolor": "white",
                        "linecolor": "white",
                        "ticks": ""
                      },
                      "bgcolor": "#E5ECF6",
                      "caxis": {
                        "gridcolor": "white",
                        "linecolor": "white",
                        "ticks": ""
                      }
                    },
                    "title": {
                      "x": 0.05
                    },
                    "xaxis": {
                      "automargin": true,
                      "gridcolor": "white",
                      "linecolor": "white",
                      "ticks": "",
                      "title": {
                        "standoff": 15
                      },
                      "zerolinecolor": "white",
                      "zerolinewidth": 2
                    },
                    "yaxis": {
                      "automargin": true,
                      "gridcolor": "white",
                      "linecolor": "white",
                      "ticks": "",
                      "title": {
                        "standoff": 15
                      },
                      "zerolinecolor": "white",
                      "zerolinewidth": 2
                    }
                  }
                },
                "title": {
                  "font": {
                    "color": "#D9D9D9"
                  }
                },
                "xaxis": {
                  "gridcolor": "#434343",
                  "showgrid": true,
                  "tickfont": {
                    "color": "#C2C2C2"
                  },
                  "title": {
                    "font": {
                      "color": "#D9D9D9"
                    },
                    "text": ""
                  },
                  "zerolinecolor": "#666570"
                },
                "yaxis": {
                  "gridcolor": "#434343",
                  "showgrid": true,
                  "tickfont": {
                    "color": "#C2C2C2"
                  },
                  "title": {
                    "font": {
                      "color": "#D9D9D9"
                    },
                    "text": ""
                  },
                  "zerolinecolor": "#666570"
                }
              }
            },
            "text/html": [
              "<div>                            <div id=\"c96bc1be-3437-49c4-88d5-df18c450e44b\" class=\"plotly-graph-div\" style=\"height:525px; width:100%;\"></div>            <script type=\"text/javascript\">                require([\"plotly\"], function(Plotly) {                    window.PLOTLYENV=window.PLOTLYENV || {};\n",
              "                    window.PLOTLYENV.BASE_URL='https://plot.ly';                                    if (document.getElementById(\"c96bc1be-3437-49c4-88d5-df18c450e44b\")) {                    Plotly.newPlot(                        \"c96bc1be-3437-49c4-88d5-df18c450e44b\",                        [{\"line\":{\"color\":\"rgba(255, 153, 51, 1.0)\",\"dash\":\"solid\",\"shape\":\"linear\",\"width\":1.3},\"mode\":\"lines\",\"name\":\"Species\",\"text\":\"\",\"type\":\"scatter\",\"x\":[0,1,2,3,4,5,6,7,8,9,10,11,12,13,14,15,16,17,18,19,20,21,22,23,24,25,26,27,28,29,30,31,32,33,34,35,36,37,38,39,40,41,42,43,44,45,46,47,48,49,50,51,52,53,54,55,56,57,58,59,60,61,62,63,64,65,66,67,68,69,70,71,72,73,74,75,76,77,78,79,80,81,82,83,84,85,86,87,88,89,90,91,92,93,94,95,96,97,98,99,100,101,102,103,104,105,106,107,108,109,110,111,112,113,114,115,116,117,118,119,120,121,122,123,124,125,126,127,128,129,130,131,132,133,134,135,136,137,138,139,140,141,142,143,144,145,146,147,148,149,150,151,152,153,154,155,156,157,158],\"y\":[0,0,0,0,0,0,0,0,0,0,0,0,0,0,0,0,0,0,0,0,0,0,0,0,0,0,0,0,0,0,0,0,0,0,0,4,4,4,4,4,4,4,4,4,4,4,4,4,4,4,4,4,4,4,4,6,6,6,6,6,6,1,1,1,1,1,1,1,1,1,1,1,2,2,2,2,2,2,2,2,2,2,2,2,2,2,2,2,2,2,2,2,2,2,2,2,2,2,2,2,2,2,2,2,2,2,2,2,2,2,2,2,2,2,2,2,2,2,2,2,2,2,2,2,2,2,2,2,3,3,3,3,3,3,3,3,3,3,3,3,3,3,3,3,3,5,5,5,5,5,5,5,5,5,5,5,5,5,5]},{\"line\":{\"color\":\"rgba(55, 128, 191, 1.0)\",\"dash\":\"solid\",\"shape\":\"linear\",\"width\":1.3},\"mode\":\"lines\",\"name\":\"Weight\",\"text\":\"\",\"type\":\"scatter\",\"x\":[0,1,2,3,4,5,6,7,8,9,10,11,12,13,14,15,16,17,18,19,20,21,22,23,24,25,26,27,28,29,30,31,32,33,34,35,36,37,38,39,40,41,42,43,44,45,46,47,48,49,50,51,52,53,54,55,56,57,58,59,60,61,62,63,64,65,66,67,68,69,70,71,72,73,74,75,76,77,78,79,80,81,82,83,84,85,86,87,88,89,90,91,92,93,94,95,96,97,98,99,100,101,102,103,104,105,106,107,108,109,110,111,112,113,114,115,116,117,118,119,120,121,122,123,124,125,126,127,128,129,130,131,132,133,134,135,136,137,138,139,140,141,142,143,144,145,146,147,148,149,150,151,152,153,154,155,156,157,158],\"y\":[242.0,290.0,340.0,363.0,430.0,450.0,500.0,390.0,450.0,500.0,475.0,500.0,500.0,340.0,600.0,600.0,700.0,700.0,610.0,650.0,575.0,685.0,620.0,680.0,700.0,725.0,720.0,714.0,850.0,1000.0,920.0,955.0,925.0,975.0,950.0,40.0,69.0,78.0,87.0,120.0,0.0,110.0,120.0,150.0,145.0,160.0,140.0,160.0,169.0,161.0,200.0,180.0,290.0,272.0,390.0,270.0,270.0,306.0,540.0,800.0,1000.0,55.0,60.0,90.0,120.0,150.0,140.0,170.0,145.0,200.0,273.0,300.0,5.9,32.0,40.0,51.5,70.0,100.0,78.0,80.0,85.0,85.0,110.0,115.0,125.0,130.0,120.0,120.0,130.0,135.0,110.0,130.0,150.0,145.0,150.0,170.0,225.0,145.0,188.0,180.0,197.0,218.0,300.0,260.0,265.0,250.0,250.0,300.0,320.0,514.0,556.0,840.0,685.0,700.0,700.0,690.0,900.0,650.0,820.0,850.0,900.0,1015.0,820.0,1100.0,1000.0,1100.0,1000.0,1000.0,200.0,300.0,300.0,300.0,430.0,345.0,456.0,510.0,540.0,500.0,567.0,770.0,950.0,1250.0,1600.0,1550.0,1650.0,6.7,7.5,7.0,9.7,9.8,8.7,10.0,9.9,9.8,12.2,13.4,12.2,19.7,19.9]},{\"line\":{\"color\":\"rgba(50, 171, 96, 1.0)\",\"dash\":\"solid\",\"shape\":\"linear\",\"width\":1.3},\"mode\":\"lines\",\"name\":\"Length1\",\"text\":\"\",\"type\":\"scatter\",\"x\":[0,1,2,3,4,5,6,7,8,9,10,11,12,13,14,15,16,17,18,19,20,21,22,23,24,25,26,27,28,29,30,31,32,33,34,35,36,37,38,39,40,41,42,43,44,45,46,47,48,49,50,51,52,53,54,55,56,57,58,59,60,61,62,63,64,65,66,67,68,69,70,71,72,73,74,75,76,77,78,79,80,81,82,83,84,85,86,87,88,89,90,91,92,93,94,95,96,97,98,99,100,101,102,103,104,105,106,107,108,109,110,111,112,113,114,115,116,117,118,119,120,121,122,123,124,125,126,127,128,129,130,131,132,133,134,135,136,137,138,139,140,141,142,143,144,145,146,147,148,149,150,151,152,153,154,155,156,157,158],\"y\":[23.2,24.0,23.9,26.3,26.5,26.8,26.8,27.6,27.6,28.5,28.4,28.7,29.1,29.5,29.4,29.4,30.4,30.4,30.9,31.0,31.3,31.4,31.5,31.8,31.9,31.8,32.0,32.7,32.8,33.5,35.0,35.0,36.2,37.4,38.0,12.9,16.5,17.5,18.2,18.6,19.0,19.1,19.4,20.4,20.5,20.5,21.0,21.1,22.0,22.0,22.1,23.6,24.0,25.0,29.5,23.6,24.1,25.6,28.5,33.7,37.3,13.5,14.3,16.3,17.5,18.4,19.0,19.0,19.8,21.2,23.0,24.0,7.5,12.5,13.8,15.0,15.7,16.2,16.8,17.2,17.8,18.2,19.0,19.0,19.0,19.3,20.0,20.0,20.0,20.0,20.0,20.5,20.5,20.7,21.0,21.5,22.0,22.0,22.6,23.0,23.5,25.0,25.2,25.4,25.4,25.4,25.9,26.9,27.8,30.5,32.0,32.5,34.0,34.0,34.5,34.6,36.5,36.5,36.6,36.9,37.0,37.0,37.1,39.0,39.8,40.1,40.2,41.1,30.0,31.7,32.7,34.8,35.5,36.0,40.0,40.0,40.1,42.0,43.2,44.8,48.3,52.0,56.0,56.0,59.0,9.3,10.0,10.1,10.4,10.7,10.8,11.3,11.3,11.4,11.5,11.7,12.1,13.2,13.8]},{\"line\":{\"color\":\"rgba(128, 0, 128, 1.0)\",\"dash\":\"solid\",\"shape\":\"linear\",\"width\":1.3},\"mode\":\"lines\",\"name\":\"Length2\",\"text\":\"\",\"type\":\"scatter\",\"x\":[0,1,2,3,4,5,6,7,8,9,10,11,12,13,14,15,16,17,18,19,20,21,22,23,24,25,26,27,28,29,30,31,32,33,34,35,36,37,38,39,40,41,42,43,44,45,46,47,48,49,50,51,52,53,54,55,56,57,58,59,60,61,62,63,64,65,66,67,68,69,70,71,72,73,74,75,76,77,78,79,80,81,82,83,84,85,86,87,88,89,90,91,92,93,94,95,96,97,98,99,100,101,102,103,104,105,106,107,108,109,110,111,112,113,114,115,116,117,118,119,120,121,122,123,124,125,126,127,128,129,130,131,132,133,134,135,136,137,138,139,140,141,142,143,144,145,146,147,148,149,150,151,152,153,154,155,156,157,158],\"y\":[25.4,26.3,26.5,29.0,29.0,29.7,29.7,30.0,30.0,30.7,31.0,31.0,31.5,32.0,32.0,32.0,33.0,33.0,33.5,33.5,34.0,34.0,34.5,35.0,35.0,35.0,35.0,36.0,36.0,37.0,38.5,38.5,39.5,41.0,41.0,14.1,18.2,18.8,19.8,20.0,20.5,20.8,21.0,22.0,22.0,22.5,22.5,22.5,24.0,23.4,23.5,25.2,26.0,27.0,31.7,26.0,26.5,28.0,31.0,36.4,40.0,14.7,15.5,17.7,19.0,20.0,20.7,20.7,21.5,23.0,25.0,26.0,8.4,13.7,15.0,16.2,17.4,18.0,18.7,19.0,19.6,20.0,21.0,21.0,21.0,21.3,22.0,22.0,22.0,22.0,22.0,22.5,22.5,22.7,23.0,23.5,24.0,24.0,24.6,25.0,25.6,26.5,27.3,27.5,27.5,27.5,28.0,28.7,30.0,32.8,34.5,35.0,36.5,36.0,37.0,37.0,39.0,39.0,39.0,40.0,40.0,40.0,40.0,42.0,43.0,43.0,43.5,44.0,32.3,34.0,35.0,37.3,38.0,38.5,42.5,42.5,43.0,45.0,46.0,48.0,51.7,56.0,60.0,60.0,63.4,9.8,10.5,10.6,11.0,11.2,11.3,11.8,11.8,12.0,12.2,12.4,13.0,14.3,15.0]},{\"line\":{\"color\":\"rgba(219, 64, 82, 1.0)\",\"dash\":\"solid\",\"shape\":\"linear\",\"width\":1.3},\"mode\":\"lines\",\"name\":\"Length3\",\"text\":\"\",\"type\":\"scatter\",\"x\":[0,1,2,3,4,5,6,7,8,9,10,11,12,13,14,15,16,17,18,19,20,21,22,23,24,25,26,27,28,29,30,31,32,33,34,35,36,37,38,39,40,41,42,43,44,45,46,47,48,49,50,51,52,53,54,55,56,57,58,59,60,61,62,63,64,65,66,67,68,69,70,71,72,73,74,75,76,77,78,79,80,81,82,83,84,85,86,87,88,89,90,91,92,93,94,95,96,97,98,99,100,101,102,103,104,105,106,107,108,109,110,111,112,113,114,115,116,117,118,119,120,121,122,123,124,125,126,127,128,129,130,131,132,133,134,135,136,137,138,139,140,141,142,143,144,145,146,147,148,149,150,151,152,153,154,155,156,157,158],\"y\":[30.0,31.2,31.1,33.5,34.0,34.7,34.5,35.0,35.1,36.2,36.2,36.2,36.4,37.3,37.2,37.2,38.3,38.5,38.6,38.7,39.5,39.2,39.7,40.6,40.5,40.9,40.6,41.5,41.6,42.6,44.1,44.0,45.3,45.9,46.5,16.2,20.3,21.2,22.2,22.2,22.8,23.1,23.7,24.7,24.3,25.3,25.0,25.0,27.2,26.7,26.8,27.9,29.2,30.6,35.0,28.7,29.3,30.8,34.0,39.6,43.5,16.5,17.4,19.8,21.3,22.4,23.2,23.2,24.1,25.8,28.0,29.0,8.8,14.7,16.0,17.2,18.5,19.2,19.4,20.2,20.8,21.0,22.5,22.5,22.5,22.8,23.5,23.5,23.5,23.5,23.5,24.0,24.0,24.2,24.5,25.0,25.5,25.5,26.2,26.5,27.0,28.0,28.7,28.9,28.9,28.9,29.4,30.1,31.6,34.0,36.5,37.3,39.0,38.3,39.4,39.3,41.4,41.4,41.3,42.3,42.5,42.4,42.5,44.6,45.2,45.5,46.0,46.6,34.8,37.8,38.8,39.8,40.5,41.0,45.5,45.5,45.8,48.0,48.7,51.2,55.1,59.7,64.0,64.0,68.0,10.8,11.6,11.6,12.0,12.4,12.6,13.1,13.1,13.2,13.4,13.5,13.8,15.2,16.2]},{\"line\":{\"color\":\"rgba(0, 128, 128, 1.0)\",\"dash\":\"solid\",\"shape\":\"linear\",\"width\":1.3},\"mode\":\"lines\",\"name\":\"Height\",\"text\":\"\",\"type\":\"scatter\",\"x\":[0,1,2,3,4,5,6,7,8,9,10,11,12,13,14,15,16,17,18,19,20,21,22,23,24,25,26,27,28,29,30,31,32,33,34,35,36,37,38,39,40,41,42,43,44,45,46,47,48,49,50,51,52,53,54,55,56,57,58,59,60,61,62,63,64,65,66,67,68,69,70,71,72,73,74,75,76,77,78,79,80,81,82,83,84,85,86,87,88,89,90,91,92,93,94,95,96,97,98,99,100,101,102,103,104,105,106,107,108,109,110,111,112,113,114,115,116,117,118,119,120,121,122,123,124,125,126,127,128,129,130,131,132,133,134,135,136,137,138,139,140,141,142,143,144,145,146,147,148,149,150,151,152,153,154,155,156,157,158],\"y\":[11.52,12.48,12.3778,12.73,12.444,13.6024,14.1795,12.67,14.0049,14.2266,14.2628,14.3714,13.7592,13.9129,14.9544,15.438,14.8604,14.938,15.633,14.4738,15.1285,15.9936,15.5227,15.4686,16.2405,16.36,16.3618,16.517,16.8896,18.957,18.0369,18.084,18.7542,18.6354,17.6235,4.1472,5.2983,5.5756,5.6166,6.216,6.4752,6.1677,6.1146,5.8045,6.6339,7.0334,6.55,6.4,7.5344,6.9153,7.3968,7.0866,8.8768,8.568,9.485,8.3804,8.1454,8.778,10.744,11.7612,12.354,6.8475,6.5772,7.4052,8.3922,8.8928,8.5376,9.396,9.7364,10.3458,11.088,11.368,2.112,3.528,3.824,4.5924,4.588,5.2224,5.1992,5.6358,5.1376,5.082,5.6925,5.9175,5.6925,6.384,6.11,5.64,6.11,5.875,5.5225,5.856,6.792,5.9532,5.2185,6.275,7.293,6.375,6.7334,6.4395,6.561,7.168,8.323,7.1672,7.0516,7.2828,7.8204,7.5852,7.6156,10.03,10.2565,11.4884,10.881,10.6091,10.835,10.5717,11.1366,11.1366,12.4313,11.9286,11.73,12.3808,11.135,12.8002,11.9328,12.5125,12.604,12.4888,5.568,5.7078,5.9364,6.2884,7.29,6.396,7.28,6.825,7.786,6.96,7.792,7.68,8.9262,10.6863,9.6,9.6,10.812,1.7388,1.972,1.7284,2.196,2.0832,1.9782,2.2139,2.2139,2.2044,2.0904,2.43,2.277,2.8728,2.9322]},{\"line\":{\"color\":\"rgba(255, 255, 51, 1.0)\",\"dash\":\"solid\",\"shape\":\"linear\",\"width\":1.3},\"mode\":\"lines\",\"name\":\"Width\",\"text\":\"\",\"type\":\"scatter\",\"x\":[0,1,2,3,4,5,6,7,8,9,10,11,12,13,14,15,16,17,18,19,20,21,22,23,24,25,26,27,28,29,30,31,32,33,34,35,36,37,38,39,40,41,42,43,44,45,46,47,48,49,50,51,52,53,54,55,56,57,58,59,60,61,62,63,64,65,66,67,68,69,70,71,72,73,74,75,76,77,78,79,80,81,82,83,84,85,86,87,88,89,90,91,92,93,94,95,96,97,98,99,100,101,102,103,104,105,106,107,108,109,110,111,112,113,114,115,116,117,118,119,120,121,122,123,124,125,126,127,128,129,130,131,132,133,134,135,136,137,138,139,140,141,142,143,144,145,146,147,148,149,150,151,152,153,154,155,156,157,158],\"y\":[4.02,4.3056,4.6961,4.4555,5.134,4.9274,5.2785,4.69,4.8438,4.9594,5.1042,4.8146,4.368,5.0728,5.1708,5.58,5.2854,5.1975,5.1338,5.7276,5.5695,5.3704,5.2801,6.1306,5.589,6.0532,6.09,5.8515,6.1984,6.603,6.3063,6.292,6.7497,6.7473,6.3705,2.268,2.8217,2.9044,3.1746,3.5742,3.3516,3.3957,3.2943,3.7544,3.5478,3.8203,3.325,3.8,3.8352,3.6312,4.1272,3.906,4.4968,4.7736,5.355,4.2476,4.2485,4.6816,6.562,6.5736,6.525,2.3265,2.3142,2.673,2.9181,3.2928,3.2944,3.4104,3.1571,3.6636,4.144,4.234,1.408,1.9992,2.432,2.6316,2.9415,3.3216,3.1234,3.0502,3.0368,2.772,3.555,3.3075,3.6675,3.534,3.4075,3.525,3.525,3.525,3.995,3.624,3.624,3.63,3.626,3.725,3.723,3.825,4.1658,3.6835,4.239,4.144,5.1373,4.335,4.335,4.5662,4.2042,4.6354,4.7716,6.018,6.3875,7.7957,6.864,6.7408,6.2646,6.3666,7.4934,6.003,7.3514,7.1064,7.225,7.4624,6.63,6.8684,7.2772,7.4165,8.142,7.5958,3.3756,4.158,4.3844,4.0198,4.5765,3.977,4.3225,4.459,5.1296,4.896,4.87,5.376,6.1712,6.9849,6.144,6.144,7.48,1.0476,1.16,1.1484,1.38,1.2772,1.2852,1.2838,1.1659,1.1484,1.3936,1.269,1.2558,2.0672,1.8792]}],                        {\"legend\":{\"bgcolor\":\"#1A1A1C\",\"font\":{\"color\":\"#D9D9D9\"}},\"paper_bgcolor\":\"#1A1A1C\",\"plot_bgcolor\":\"#1A1A1C\",\"template\":{\"data\":{\"bar\":[{\"error_x\":{\"color\":\"#2a3f5f\"},\"error_y\":{\"color\":\"#2a3f5f\"},\"marker\":{\"line\":{\"color\":\"#E5ECF6\",\"width\":0.5},\"pattern\":{\"fillmode\":\"overlay\",\"size\":10,\"solidity\":0.2}},\"type\":\"bar\"}],\"barpolar\":[{\"marker\":{\"line\":{\"color\":\"#E5ECF6\",\"width\":0.5},\"pattern\":{\"fillmode\":\"overlay\",\"size\":10,\"solidity\":0.2}},\"type\":\"barpolar\"}],\"carpet\":[{\"aaxis\":{\"endlinecolor\":\"#2a3f5f\",\"gridcolor\":\"white\",\"linecolor\":\"white\",\"minorgridcolor\":\"white\",\"startlinecolor\":\"#2a3f5f\"},\"baxis\":{\"endlinecolor\":\"#2a3f5f\",\"gridcolor\":\"white\",\"linecolor\":\"white\",\"minorgridcolor\":\"white\",\"startlinecolor\":\"#2a3f5f\"},\"type\":\"carpet\"}],\"choropleth\":[{\"colorbar\":{\"outlinewidth\":0,\"ticks\":\"\"},\"type\":\"choropleth\"}],\"contour\":[{\"colorbar\":{\"outlinewidth\":0,\"ticks\":\"\"},\"colorscale\":[[0.0,\"#0d0887\"],[0.1111111111111111,\"#46039f\"],[0.2222222222222222,\"#7201a8\"],[0.3333333333333333,\"#9c179e\"],[0.4444444444444444,\"#bd3786\"],[0.5555555555555556,\"#d8576b\"],[0.6666666666666666,\"#ed7953\"],[0.7777777777777778,\"#fb9f3a\"],[0.8888888888888888,\"#fdca26\"],[1.0,\"#f0f921\"]],\"type\":\"contour\"}],\"contourcarpet\":[{\"colorbar\":{\"outlinewidth\":0,\"ticks\":\"\"},\"type\":\"contourcarpet\"}],\"heatmap\":[{\"colorbar\":{\"outlinewidth\":0,\"ticks\":\"\"},\"colorscale\":[[0.0,\"#0d0887\"],[0.1111111111111111,\"#46039f\"],[0.2222222222222222,\"#7201a8\"],[0.3333333333333333,\"#9c179e\"],[0.4444444444444444,\"#bd3786\"],[0.5555555555555556,\"#d8576b\"],[0.6666666666666666,\"#ed7953\"],[0.7777777777777778,\"#fb9f3a\"],[0.8888888888888888,\"#fdca26\"],[1.0,\"#f0f921\"]],\"type\":\"heatmap\"}],\"heatmapgl\":[{\"colorbar\":{\"outlinewidth\":0,\"ticks\":\"\"},\"colorscale\":[[0.0,\"#0d0887\"],[0.1111111111111111,\"#46039f\"],[0.2222222222222222,\"#7201a8\"],[0.3333333333333333,\"#9c179e\"],[0.4444444444444444,\"#bd3786\"],[0.5555555555555556,\"#d8576b\"],[0.6666666666666666,\"#ed7953\"],[0.7777777777777778,\"#fb9f3a\"],[0.8888888888888888,\"#fdca26\"],[1.0,\"#f0f921\"]],\"type\":\"heatmapgl\"}],\"histogram\":[{\"marker\":{\"pattern\":{\"fillmode\":\"overlay\",\"size\":10,\"solidity\":0.2}},\"type\":\"histogram\"}],\"histogram2d\":[{\"colorbar\":{\"outlinewidth\":0,\"ticks\":\"\"},\"colorscale\":[[0.0,\"#0d0887\"],[0.1111111111111111,\"#46039f\"],[0.2222222222222222,\"#7201a8\"],[0.3333333333333333,\"#9c179e\"],[0.4444444444444444,\"#bd3786\"],[0.5555555555555556,\"#d8576b\"],[0.6666666666666666,\"#ed7953\"],[0.7777777777777778,\"#fb9f3a\"],[0.8888888888888888,\"#fdca26\"],[1.0,\"#f0f921\"]],\"type\":\"histogram2d\"}],\"histogram2dcontour\":[{\"colorbar\":{\"outlinewidth\":0,\"ticks\":\"\"},\"colorscale\":[[0.0,\"#0d0887\"],[0.1111111111111111,\"#46039f\"],[0.2222222222222222,\"#7201a8\"],[0.3333333333333333,\"#9c179e\"],[0.4444444444444444,\"#bd3786\"],[0.5555555555555556,\"#d8576b\"],[0.6666666666666666,\"#ed7953\"],[0.7777777777777778,\"#fb9f3a\"],[0.8888888888888888,\"#fdca26\"],[1.0,\"#f0f921\"]],\"type\":\"histogram2dcontour\"}],\"mesh3d\":[{\"colorbar\":{\"outlinewidth\":0,\"ticks\":\"\"},\"type\":\"mesh3d\"}],\"parcoords\":[{\"line\":{\"colorbar\":{\"outlinewidth\":0,\"ticks\":\"\"}},\"type\":\"parcoords\"}],\"pie\":[{\"automargin\":true,\"type\":\"pie\"}],\"scatter\":[{\"marker\":{\"colorbar\":{\"outlinewidth\":0,\"ticks\":\"\"}},\"type\":\"scatter\"}],\"scatter3d\":[{\"line\":{\"colorbar\":{\"outlinewidth\":0,\"ticks\":\"\"}},\"marker\":{\"colorbar\":{\"outlinewidth\":0,\"ticks\":\"\"}},\"type\":\"scatter3d\"}],\"scattercarpet\":[{\"marker\":{\"colorbar\":{\"outlinewidth\":0,\"ticks\":\"\"}},\"type\":\"scattercarpet\"}],\"scattergeo\":[{\"marker\":{\"colorbar\":{\"outlinewidth\":0,\"ticks\":\"\"}},\"type\":\"scattergeo\"}],\"scattergl\":[{\"marker\":{\"colorbar\":{\"outlinewidth\":0,\"ticks\":\"\"}},\"type\":\"scattergl\"}],\"scattermapbox\":[{\"marker\":{\"colorbar\":{\"outlinewidth\":0,\"ticks\":\"\"}},\"type\":\"scattermapbox\"}],\"scatterpolar\":[{\"marker\":{\"colorbar\":{\"outlinewidth\":0,\"ticks\":\"\"}},\"type\":\"scatterpolar\"}],\"scatterpolargl\":[{\"marker\":{\"colorbar\":{\"outlinewidth\":0,\"ticks\":\"\"}},\"type\":\"scatterpolargl\"}],\"scatterternary\":[{\"marker\":{\"colorbar\":{\"outlinewidth\":0,\"ticks\":\"\"}},\"type\":\"scatterternary\"}],\"surface\":[{\"colorbar\":{\"outlinewidth\":0,\"ticks\":\"\"},\"colorscale\":[[0.0,\"#0d0887\"],[0.1111111111111111,\"#46039f\"],[0.2222222222222222,\"#7201a8\"],[0.3333333333333333,\"#9c179e\"],[0.4444444444444444,\"#bd3786\"],[0.5555555555555556,\"#d8576b\"],[0.6666666666666666,\"#ed7953\"],[0.7777777777777778,\"#fb9f3a\"],[0.8888888888888888,\"#fdca26\"],[1.0,\"#f0f921\"]],\"type\":\"surface\"}],\"table\":[{\"cells\":{\"fill\":{\"color\":\"#EBF0F8\"},\"line\":{\"color\":\"white\"}},\"header\":{\"fill\":{\"color\":\"#C8D4E3\"},\"line\":{\"color\":\"white\"}},\"type\":\"table\"}]},\"layout\":{\"annotationdefaults\":{\"arrowcolor\":\"#2a3f5f\",\"arrowhead\":0,\"arrowwidth\":1},\"autotypenumbers\":\"strict\",\"coloraxis\":{\"colorbar\":{\"outlinewidth\":0,\"ticks\":\"\"}},\"colorscale\":{\"diverging\":[[0,\"#8e0152\"],[0.1,\"#c51b7d\"],[0.2,\"#de77ae\"],[0.3,\"#f1b6da\"],[0.4,\"#fde0ef\"],[0.5,\"#f7f7f7\"],[0.6,\"#e6f5d0\"],[0.7,\"#b8e186\"],[0.8,\"#7fbc41\"],[0.9,\"#4d9221\"],[1,\"#276419\"]],\"sequential\":[[0.0,\"#0d0887\"],[0.1111111111111111,\"#46039f\"],[0.2222222222222222,\"#7201a8\"],[0.3333333333333333,\"#9c179e\"],[0.4444444444444444,\"#bd3786\"],[0.5555555555555556,\"#d8576b\"],[0.6666666666666666,\"#ed7953\"],[0.7777777777777778,\"#fb9f3a\"],[0.8888888888888888,\"#fdca26\"],[1.0,\"#f0f921\"]],\"sequentialminus\":[[0.0,\"#0d0887\"],[0.1111111111111111,\"#46039f\"],[0.2222222222222222,\"#7201a8\"],[0.3333333333333333,\"#9c179e\"],[0.4444444444444444,\"#bd3786\"],[0.5555555555555556,\"#d8576b\"],[0.6666666666666666,\"#ed7953\"],[0.7777777777777778,\"#fb9f3a\"],[0.8888888888888888,\"#fdca26\"],[1.0,\"#f0f921\"]]},\"colorway\":[\"#636efa\",\"#EF553B\",\"#00cc96\",\"#ab63fa\",\"#FFA15A\",\"#19d3f3\",\"#FF6692\",\"#B6E880\",\"#FF97FF\",\"#FECB52\"],\"font\":{\"color\":\"#2a3f5f\"},\"geo\":{\"bgcolor\":\"white\",\"lakecolor\":\"white\",\"landcolor\":\"#E5ECF6\",\"showlakes\":true,\"showland\":true,\"subunitcolor\":\"white\"},\"hoverlabel\":{\"align\":\"left\"},\"hovermode\":\"closest\",\"mapbox\":{\"style\":\"light\"},\"paper_bgcolor\":\"white\",\"plot_bgcolor\":\"#E5ECF6\",\"polar\":{\"angularaxis\":{\"gridcolor\":\"white\",\"linecolor\":\"white\",\"ticks\":\"\"},\"bgcolor\":\"#E5ECF6\",\"radialaxis\":{\"gridcolor\":\"white\",\"linecolor\":\"white\",\"ticks\":\"\"}},\"scene\":{\"xaxis\":{\"backgroundcolor\":\"#E5ECF6\",\"gridcolor\":\"white\",\"gridwidth\":2,\"linecolor\":\"white\",\"showbackground\":true,\"ticks\":\"\",\"zerolinecolor\":\"white\"},\"yaxis\":{\"backgroundcolor\":\"#E5ECF6\",\"gridcolor\":\"white\",\"gridwidth\":2,\"linecolor\":\"white\",\"showbackground\":true,\"ticks\":\"\",\"zerolinecolor\":\"white\"},\"zaxis\":{\"backgroundcolor\":\"#E5ECF6\",\"gridcolor\":\"white\",\"gridwidth\":2,\"linecolor\":\"white\",\"showbackground\":true,\"ticks\":\"\",\"zerolinecolor\":\"white\"}},\"shapedefaults\":{\"line\":{\"color\":\"#2a3f5f\"}},\"ternary\":{\"aaxis\":{\"gridcolor\":\"white\",\"linecolor\":\"white\",\"ticks\":\"\"},\"baxis\":{\"gridcolor\":\"white\",\"linecolor\":\"white\",\"ticks\":\"\"},\"bgcolor\":\"#E5ECF6\",\"caxis\":{\"gridcolor\":\"white\",\"linecolor\":\"white\",\"ticks\":\"\"}},\"title\":{\"x\":0.05},\"xaxis\":{\"automargin\":true,\"gridcolor\":\"white\",\"linecolor\":\"white\",\"ticks\":\"\",\"title\":{\"standoff\":15},\"zerolinecolor\":\"white\",\"zerolinewidth\":2},\"yaxis\":{\"automargin\":true,\"gridcolor\":\"white\",\"linecolor\":\"white\",\"ticks\":\"\",\"title\":{\"standoff\":15},\"zerolinecolor\":\"white\",\"zerolinewidth\":2}}},\"title\":{\"font\":{\"color\":\"#D9D9D9\"}},\"xaxis\":{\"gridcolor\":\"#434343\",\"showgrid\":true,\"tickfont\":{\"color\":\"#C2C2C2\"},\"title\":{\"font\":{\"color\":\"#D9D9D9\"},\"text\":\"\"},\"zerolinecolor\":\"#666570\"},\"yaxis\":{\"gridcolor\":\"#434343\",\"showgrid\":true,\"tickfont\":{\"color\":\"#C2C2C2\"},\"title\":{\"font\":{\"color\":\"#D9D9D9\"},\"text\":\"\"},\"zerolinecolor\":\"#666570\"}},                        {\"showLink\": true, \"linkText\": \"Export to plot.ly\", \"plotlyServerURL\": \"https://plot.ly\", \"responsive\": true}                    ).then(function(){\n",
              "                            \n",
              "var gd = document.getElementById('c96bc1be-3437-49c4-88d5-df18c450e44b');\n",
              "var x = new MutationObserver(function (mutations, observer) {{\n",
              "        var display = window.getComputedStyle(gd).display;\n",
              "        if (!display || display === 'none') {{\n",
              "            console.log([gd, 'removed!']);\n",
              "            Plotly.purge(gd);\n",
              "            observer.disconnect();\n",
              "        }}\n",
              "}});\n",
              "\n",
              "// Listen for the removal of the full notebook cells\n",
              "var notebookContainer = gd.closest('#notebook-container');\n",
              "if (notebookContainer) {{\n",
              "    x.observe(notebookContainer, {childList: true});\n",
              "}}\n",
              "\n",
              "// Listen for the clearing of the current output cell\n",
              "var outputEl = gd.closest('.output');\n",
              "if (outputEl) {{\n",
              "    x.observe(outputEl, {childList: true});\n",
              "}}\n",
              "\n",
              "                        })                };                });            </script>        </div>"
            ]
          },
          "metadata": {},
          "output_type": "display_data"
        }
      ],
      "source": [
        "df.iplot()"
      ]
    },
    {
      "cell_type": "code",
      "execution_count": 20,
      "metadata": {
        "colab": {
          "base_uri": "https://localhost:8080/",
          "height": 546
        },
        "id": "r1dHNaasdmgv",
        "outputId": "f128b4ea-fa44-42ac-cfc6-20d99e047096"
      },
      "outputs": [
        {
          "data": {
            "application/vnd.plotly.v1+json": {
              "config": {
                "linkText": "Export to plot.ly",
                "plotlyServerURL": "https://plot.ly",
                "showLink": true
              },
              "data": [
                {
                  "boxpoints": "outliers",
                  "line": {
                    "width": 1.3
                  },
                  "marker": {
                    "color": "rgba(255, 153, 51, 1.0)"
                  },
                  "name": "Species",
                  "orientation": "v",
                  "type": "box",
                  "y": [
                    0,
                    0,
                    0,
                    0,
                    0,
                    0,
                    0,
                    0,
                    0,
                    0,
                    0,
                    0,
                    0,
                    0,
                    0,
                    0,
                    0,
                    0,
                    0,
                    0,
                    0,
                    0,
                    0,
                    0,
                    0,
                    0,
                    0,
                    0,
                    0,
                    0,
                    0,
                    0,
                    0,
                    0,
                    0,
                    4,
                    4,
                    4,
                    4,
                    4,
                    4,
                    4,
                    4,
                    4,
                    4,
                    4,
                    4,
                    4,
                    4,
                    4,
                    4,
                    4,
                    4,
                    4,
                    4,
                    6,
                    6,
                    6,
                    6,
                    6,
                    6,
                    1,
                    1,
                    1,
                    1,
                    1,
                    1,
                    1,
                    1,
                    1,
                    1,
                    1,
                    2,
                    2,
                    2,
                    2,
                    2,
                    2,
                    2,
                    2,
                    2,
                    2,
                    2,
                    2,
                    2,
                    2,
                    2,
                    2,
                    2,
                    2,
                    2,
                    2,
                    2,
                    2,
                    2,
                    2,
                    2,
                    2,
                    2,
                    2,
                    2,
                    2,
                    2,
                    2,
                    2,
                    2,
                    2,
                    2,
                    2,
                    2,
                    2,
                    2,
                    2,
                    2,
                    2,
                    2,
                    2,
                    2,
                    2,
                    2,
                    2,
                    2,
                    2,
                    2,
                    2,
                    2,
                    2,
                    2,
                    3,
                    3,
                    3,
                    3,
                    3,
                    3,
                    3,
                    3,
                    3,
                    3,
                    3,
                    3,
                    3,
                    3,
                    3,
                    3,
                    3,
                    5,
                    5,
                    5,
                    5,
                    5,
                    5,
                    5,
                    5,
                    5,
                    5,
                    5,
                    5,
                    5,
                    5
                  ]
                },
                {
                  "boxpoints": "outliers",
                  "line": {
                    "width": 1.3
                  },
                  "marker": {
                    "color": "rgba(55, 128, 191, 1.0)"
                  },
                  "name": "Weight",
                  "orientation": "v",
                  "type": "box",
                  "y": [
                    242,
                    290,
                    340,
                    363,
                    430,
                    450,
                    500,
                    390,
                    450,
                    500,
                    475,
                    500,
                    500,
                    340,
                    600,
                    600,
                    700,
                    700,
                    610,
                    650,
                    575,
                    685,
                    620,
                    680,
                    700,
                    725,
                    720,
                    714,
                    850,
                    1000,
                    920,
                    955,
                    925,
                    975,
                    950,
                    40,
                    69,
                    78,
                    87,
                    120,
                    0,
                    110,
                    120,
                    150,
                    145,
                    160,
                    140,
                    160,
                    169,
                    161,
                    200,
                    180,
                    290,
                    272,
                    390,
                    270,
                    270,
                    306,
                    540,
                    800,
                    1000,
                    55,
                    60,
                    90,
                    120,
                    150,
                    140,
                    170,
                    145,
                    200,
                    273,
                    300,
                    5.9,
                    32,
                    40,
                    51.5,
                    70,
                    100,
                    78,
                    80,
                    85,
                    85,
                    110,
                    115,
                    125,
                    130,
                    120,
                    120,
                    130,
                    135,
                    110,
                    130,
                    150,
                    145,
                    150,
                    170,
                    225,
                    145,
                    188,
                    180,
                    197,
                    218,
                    300,
                    260,
                    265,
                    250,
                    250,
                    300,
                    320,
                    514,
                    556,
                    840,
                    685,
                    700,
                    700,
                    690,
                    900,
                    650,
                    820,
                    850,
                    900,
                    1015,
                    820,
                    1100,
                    1000,
                    1100,
                    1000,
                    1000,
                    200,
                    300,
                    300,
                    300,
                    430,
                    345,
                    456,
                    510,
                    540,
                    500,
                    567,
                    770,
                    950,
                    1250,
                    1600,
                    1550,
                    1650,
                    6.7,
                    7.5,
                    7,
                    9.7,
                    9.8,
                    8.7,
                    10,
                    9.9,
                    9.8,
                    12.2,
                    13.4,
                    12.2,
                    19.7,
                    19.9
                  ]
                },
                {
                  "boxpoints": "outliers",
                  "line": {
                    "width": 1.3
                  },
                  "marker": {
                    "color": "rgba(50, 171, 96, 1.0)"
                  },
                  "name": "Length1",
                  "orientation": "v",
                  "type": "box",
                  "y": [
                    23.2,
                    24,
                    23.9,
                    26.3,
                    26.5,
                    26.8,
                    26.8,
                    27.6,
                    27.6,
                    28.5,
                    28.4,
                    28.7,
                    29.1,
                    29.5,
                    29.4,
                    29.4,
                    30.4,
                    30.4,
                    30.9,
                    31,
                    31.3,
                    31.4,
                    31.5,
                    31.8,
                    31.9,
                    31.8,
                    32,
                    32.7,
                    32.8,
                    33.5,
                    35,
                    35,
                    36.2,
                    37.4,
                    38,
                    12.9,
                    16.5,
                    17.5,
                    18.2,
                    18.6,
                    19,
                    19.1,
                    19.4,
                    20.4,
                    20.5,
                    20.5,
                    21,
                    21.1,
                    22,
                    22,
                    22.1,
                    23.6,
                    24,
                    25,
                    29.5,
                    23.6,
                    24.1,
                    25.6,
                    28.5,
                    33.7,
                    37.3,
                    13.5,
                    14.3,
                    16.3,
                    17.5,
                    18.4,
                    19,
                    19,
                    19.8,
                    21.2,
                    23,
                    24,
                    7.5,
                    12.5,
                    13.8,
                    15,
                    15.7,
                    16.2,
                    16.8,
                    17.2,
                    17.8,
                    18.2,
                    19,
                    19,
                    19,
                    19.3,
                    20,
                    20,
                    20,
                    20,
                    20,
                    20.5,
                    20.5,
                    20.7,
                    21,
                    21.5,
                    22,
                    22,
                    22.6,
                    23,
                    23.5,
                    25,
                    25.2,
                    25.4,
                    25.4,
                    25.4,
                    25.9,
                    26.9,
                    27.8,
                    30.5,
                    32,
                    32.5,
                    34,
                    34,
                    34.5,
                    34.6,
                    36.5,
                    36.5,
                    36.6,
                    36.9,
                    37,
                    37,
                    37.1,
                    39,
                    39.8,
                    40.1,
                    40.2,
                    41.1,
                    30,
                    31.7,
                    32.7,
                    34.8,
                    35.5,
                    36,
                    40,
                    40,
                    40.1,
                    42,
                    43.2,
                    44.8,
                    48.3,
                    52,
                    56,
                    56,
                    59,
                    9.3,
                    10,
                    10.1,
                    10.4,
                    10.7,
                    10.8,
                    11.3,
                    11.3,
                    11.4,
                    11.5,
                    11.7,
                    12.1,
                    13.2,
                    13.8
                  ]
                },
                {
                  "boxpoints": "outliers",
                  "line": {
                    "width": 1.3
                  },
                  "marker": {
                    "color": "rgba(128, 0, 128, 1.0)"
                  },
                  "name": "Length2",
                  "orientation": "v",
                  "type": "box",
                  "y": [
                    25.4,
                    26.3,
                    26.5,
                    29,
                    29,
                    29.7,
                    29.7,
                    30,
                    30,
                    30.7,
                    31,
                    31,
                    31.5,
                    32,
                    32,
                    32,
                    33,
                    33,
                    33.5,
                    33.5,
                    34,
                    34,
                    34.5,
                    35,
                    35,
                    35,
                    35,
                    36,
                    36,
                    37,
                    38.5,
                    38.5,
                    39.5,
                    41,
                    41,
                    14.1,
                    18.2,
                    18.8,
                    19.8,
                    20,
                    20.5,
                    20.8,
                    21,
                    22,
                    22,
                    22.5,
                    22.5,
                    22.5,
                    24,
                    23.4,
                    23.5,
                    25.2,
                    26,
                    27,
                    31.7,
                    26,
                    26.5,
                    28,
                    31,
                    36.4,
                    40,
                    14.7,
                    15.5,
                    17.7,
                    19,
                    20,
                    20.7,
                    20.7,
                    21.5,
                    23,
                    25,
                    26,
                    8.4,
                    13.7,
                    15,
                    16.2,
                    17.4,
                    18,
                    18.7,
                    19,
                    19.6,
                    20,
                    21,
                    21,
                    21,
                    21.3,
                    22,
                    22,
                    22,
                    22,
                    22,
                    22.5,
                    22.5,
                    22.7,
                    23,
                    23.5,
                    24,
                    24,
                    24.6,
                    25,
                    25.6,
                    26.5,
                    27.3,
                    27.5,
                    27.5,
                    27.5,
                    28,
                    28.7,
                    30,
                    32.8,
                    34.5,
                    35,
                    36.5,
                    36,
                    37,
                    37,
                    39,
                    39,
                    39,
                    40,
                    40,
                    40,
                    40,
                    42,
                    43,
                    43,
                    43.5,
                    44,
                    32.3,
                    34,
                    35,
                    37.3,
                    38,
                    38.5,
                    42.5,
                    42.5,
                    43,
                    45,
                    46,
                    48,
                    51.7,
                    56,
                    60,
                    60,
                    63.4,
                    9.8,
                    10.5,
                    10.6,
                    11,
                    11.2,
                    11.3,
                    11.8,
                    11.8,
                    12,
                    12.2,
                    12.4,
                    13,
                    14.3,
                    15
                  ]
                },
                {
                  "boxpoints": "outliers",
                  "line": {
                    "width": 1.3
                  },
                  "marker": {
                    "color": "rgba(219, 64, 82, 1.0)"
                  },
                  "name": "Length3",
                  "orientation": "v",
                  "type": "box",
                  "y": [
                    30,
                    31.2,
                    31.1,
                    33.5,
                    34,
                    34.7,
                    34.5,
                    35,
                    35.1,
                    36.2,
                    36.2,
                    36.2,
                    36.4,
                    37.3,
                    37.2,
                    37.2,
                    38.3,
                    38.5,
                    38.6,
                    38.7,
                    39.5,
                    39.2,
                    39.7,
                    40.6,
                    40.5,
                    40.9,
                    40.6,
                    41.5,
                    41.6,
                    42.6,
                    44.1,
                    44,
                    45.3,
                    45.9,
                    46.5,
                    16.2,
                    20.3,
                    21.2,
                    22.2,
                    22.2,
                    22.8,
                    23.1,
                    23.7,
                    24.7,
                    24.3,
                    25.3,
                    25,
                    25,
                    27.2,
                    26.7,
                    26.8,
                    27.9,
                    29.2,
                    30.6,
                    35,
                    28.7,
                    29.3,
                    30.8,
                    34,
                    39.6,
                    43.5,
                    16.5,
                    17.4,
                    19.8,
                    21.3,
                    22.4,
                    23.2,
                    23.2,
                    24.1,
                    25.8,
                    28,
                    29,
                    8.8,
                    14.7,
                    16,
                    17.2,
                    18.5,
                    19.2,
                    19.4,
                    20.2,
                    20.8,
                    21,
                    22.5,
                    22.5,
                    22.5,
                    22.8,
                    23.5,
                    23.5,
                    23.5,
                    23.5,
                    23.5,
                    24,
                    24,
                    24.2,
                    24.5,
                    25,
                    25.5,
                    25.5,
                    26.2,
                    26.5,
                    27,
                    28,
                    28.7,
                    28.9,
                    28.9,
                    28.9,
                    29.4,
                    30.1,
                    31.6,
                    34,
                    36.5,
                    37.3,
                    39,
                    38.3,
                    39.4,
                    39.3,
                    41.4,
                    41.4,
                    41.3,
                    42.3,
                    42.5,
                    42.4,
                    42.5,
                    44.6,
                    45.2,
                    45.5,
                    46,
                    46.6,
                    34.8,
                    37.8,
                    38.8,
                    39.8,
                    40.5,
                    41,
                    45.5,
                    45.5,
                    45.8,
                    48,
                    48.7,
                    51.2,
                    55.1,
                    59.7,
                    64,
                    64,
                    68,
                    10.8,
                    11.6,
                    11.6,
                    12,
                    12.4,
                    12.6,
                    13.1,
                    13.1,
                    13.2,
                    13.4,
                    13.5,
                    13.8,
                    15.2,
                    16.2
                  ]
                },
                {
                  "boxpoints": "outliers",
                  "line": {
                    "width": 1.3
                  },
                  "marker": {
                    "color": "rgba(0, 128, 128, 1.0)"
                  },
                  "name": "Height",
                  "orientation": "v",
                  "type": "box",
                  "y": [
                    11.52,
                    12.48,
                    12.3778,
                    12.73,
                    12.444,
                    13.6024,
                    14.1795,
                    12.67,
                    14.0049,
                    14.2266,
                    14.2628,
                    14.3714,
                    13.7592,
                    13.9129,
                    14.9544,
                    15.438,
                    14.8604,
                    14.938,
                    15.633,
                    14.4738,
                    15.1285,
                    15.9936,
                    15.5227,
                    15.4686,
                    16.2405,
                    16.36,
                    16.3618,
                    16.517,
                    16.8896,
                    18.957,
                    18.0369,
                    18.084,
                    18.7542,
                    18.6354,
                    17.6235,
                    4.1472,
                    5.2983,
                    5.5756,
                    5.6166,
                    6.216,
                    6.4752,
                    6.1677,
                    6.1146,
                    5.8045,
                    6.6339,
                    7.0334,
                    6.55,
                    6.4,
                    7.5344,
                    6.9153,
                    7.3968,
                    7.0866,
                    8.8768,
                    8.568,
                    9.485,
                    8.3804,
                    8.1454,
                    8.778,
                    10.744,
                    11.7612,
                    12.354,
                    6.8475,
                    6.5772,
                    7.4052,
                    8.3922,
                    8.8928,
                    8.5376,
                    9.396,
                    9.7364,
                    10.3458,
                    11.088,
                    11.368,
                    2.112,
                    3.528,
                    3.824,
                    4.5924,
                    4.588,
                    5.2224,
                    5.1992,
                    5.6358,
                    5.1376,
                    5.082,
                    5.6925,
                    5.9175,
                    5.6925,
                    6.384,
                    6.11,
                    5.64,
                    6.11,
                    5.875,
                    5.5225,
                    5.856,
                    6.792,
                    5.9532,
                    5.2185,
                    6.275,
                    7.293,
                    6.375,
                    6.7334,
                    6.4395,
                    6.561,
                    7.168,
                    8.323,
                    7.1672,
                    7.0516,
                    7.2828,
                    7.8204,
                    7.5852,
                    7.6156,
                    10.03,
                    10.2565,
                    11.4884,
                    10.881,
                    10.6091,
                    10.835,
                    10.5717,
                    11.1366,
                    11.1366,
                    12.4313,
                    11.9286,
                    11.73,
                    12.3808,
                    11.135,
                    12.8002,
                    11.9328,
                    12.5125,
                    12.604,
                    12.4888,
                    5.568,
                    5.7078,
                    5.9364,
                    6.2884,
                    7.29,
                    6.396,
                    7.28,
                    6.825,
                    7.786,
                    6.96,
                    7.792,
                    7.68,
                    8.9262,
                    10.6863,
                    9.6,
                    9.6,
                    10.812,
                    1.7388,
                    1.972,
                    1.7284,
                    2.196,
                    2.0832,
                    1.9782,
                    2.2139,
                    2.2139,
                    2.2044,
                    2.0904,
                    2.43,
                    2.277,
                    2.8728,
                    2.9322
                  ]
                },
                {
                  "boxpoints": "outliers",
                  "line": {
                    "width": 1.3
                  },
                  "marker": {
                    "color": "rgba(255, 255, 51, 1.0)"
                  },
                  "name": "Width",
                  "orientation": "v",
                  "type": "box",
                  "y": [
                    4.02,
                    4.3056,
                    4.6961,
                    4.4555,
                    5.134,
                    4.9274,
                    5.2785,
                    4.69,
                    4.8438,
                    4.9594,
                    5.1042,
                    4.8146,
                    4.368,
                    5.0728,
                    5.1708,
                    5.58,
                    5.2854,
                    5.1975,
                    5.1338,
                    5.7276,
                    5.5695,
                    5.3704,
                    5.2801,
                    6.1306,
                    5.589,
                    6.0532,
                    6.09,
                    5.8515,
                    6.1984,
                    6.603,
                    6.3063,
                    6.292,
                    6.7497,
                    6.7473,
                    6.3705,
                    2.268,
                    2.8217,
                    2.9044,
                    3.1746,
                    3.5742,
                    3.3516,
                    3.3957,
                    3.2943,
                    3.7544,
                    3.5478,
                    3.8203,
                    3.325,
                    3.8,
                    3.8352,
                    3.6312,
                    4.1272,
                    3.906,
                    4.4968,
                    4.7736,
                    5.355,
                    4.2476,
                    4.2485,
                    4.6816,
                    6.562,
                    6.5736,
                    6.525,
                    2.3265,
                    2.3142,
                    2.673,
                    2.9181,
                    3.2928,
                    3.2944,
                    3.4104,
                    3.1571,
                    3.6636,
                    4.144,
                    4.234,
                    1.408,
                    1.9992,
                    2.432,
                    2.6316,
                    2.9415,
                    3.3216,
                    3.1234,
                    3.0502,
                    3.0368,
                    2.772,
                    3.555,
                    3.3075,
                    3.6675,
                    3.534,
                    3.4075,
                    3.525,
                    3.525,
                    3.525,
                    3.995,
                    3.624,
                    3.624,
                    3.63,
                    3.626,
                    3.725,
                    3.723,
                    3.825,
                    4.1658,
                    3.6835,
                    4.239,
                    4.144,
                    5.1373,
                    4.335,
                    4.335,
                    4.5662,
                    4.2042,
                    4.6354,
                    4.7716,
                    6.018,
                    6.3875,
                    7.7957,
                    6.864,
                    6.7408,
                    6.2646,
                    6.3666,
                    7.4934,
                    6.003,
                    7.3514,
                    7.1064,
                    7.225,
                    7.4624,
                    6.63,
                    6.8684,
                    7.2772,
                    7.4165,
                    8.142,
                    7.5958,
                    3.3756,
                    4.158,
                    4.3844,
                    4.0198,
                    4.5765,
                    3.977,
                    4.3225,
                    4.459,
                    5.1296,
                    4.896,
                    4.87,
                    5.376,
                    6.1712,
                    6.9849,
                    6.144,
                    6.144,
                    7.48,
                    1.0476,
                    1.16,
                    1.1484,
                    1.38,
                    1.2772,
                    1.2852,
                    1.2838,
                    1.1659,
                    1.1484,
                    1.3936,
                    1.269,
                    1.2558,
                    2.0672,
                    1.8792
                  ]
                }
              ],
              "layout": {
                "legend": {
                  "bgcolor": "#1A1A1C",
                  "font": {
                    "color": "#D9D9D9"
                  }
                },
                "paper_bgcolor": "#1A1A1C",
                "plot_bgcolor": "#1A1A1C",
                "template": {
                  "data": {
                    "bar": [
                      {
                        "error_x": {
                          "color": "#2a3f5f"
                        },
                        "error_y": {
                          "color": "#2a3f5f"
                        },
                        "marker": {
                          "line": {
                            "color": "#E5ECF6",
                            "width": 0.5
                          },
                          "pattern": {
                            "fillmode": "overlay",
                            "size": 10,
                            "solidity": 0.2
                          }
                        },
                        "type": "bar"
                      }
                    ],
                    "barpolar": [
                      {
                        "marker": {
                          "line": {
                            "color": "#E5ECF6",
                            "width": 0.5
                          },
                          "pattern": {
                            "fillmode": "overlay",
                            "size": 10,
                            "solidity": 0.2
                          }
                        },
                        "type": "barpolar"
                      }
                    ],
                    "carpet": [
                      {
                        "aaxis": {
                          "endlinecolor": "#2a3f5f",
                          "gridcolor": "white",
                          "linecolor": "white",
                          "minorgridcolor": "white",
                          "startlinecolor": "#2a3f5f"
                        },
                        "baxis": {
                          "endlinecolor": "#2a3f5f",
                          "gridcolor": "white",
                          "linecolor": "white",
                          "minorgridcolor": "white",
                          "startlinecolor": "#2a3f5f"
                        },
                        "type": "carpet"
                      }
                    ],
                    "choropleth": [
                      {
                        "colorbar": {
                          "outlinewidth": 0,
                          "ticks": ""
                        },
                        "type": "choropleth"
                      }
                    ],
                    "contour": [
                      {
                        "colorbar": {
                          "outlinewidth": 0,
                          "ticks": ""
                        },
                        "colorscale": [
                          [
                            0,
                            "#0d0887"
                          ],
                          [
                            0.1111111111111111,
                            "#46039f"
                          ],
                          [
                            0.2222222222222222,
                            "#7201a8"
                          ],
                          [
                            0.3333333333333333,
                            "#9c179e"
                          ],
                          [
                            0.4444444444444444,
                            "#bd3786"
                          ],
                          [
                            0.5555555555555556,
                            "#d8576b"
                          ],
                          [
                            0.6666666666666666,
                            "#ed7953"
                          ],
                          [
                            0.7777777777777778,
                            "#fb9f3a"
                          ],
                          [
                            0.8888888888888888,
                            "#fdca26"
                          ],
                          [
                            1,
                            "#f0f921"
                          ]
                        ],
                        "type": "contour"
                      }
                    ],
                    "contourcarpet": [
                      {
                        "colorbar": {
                          "outlinewidth": 0,
                          "ticks": ""
                        },
                        "type": "contourcarpet"
                      }
                    ],
                    "heatmap": [
                      {
                        "colorbar": {
                          "outlinewidth": 0,
                          "ticks": ""
                        },
                        "colorscale": [
                          [
                            0,
                            "#0d0887"
                          ],
                          [
                            0.1111111111111111,
                            "#46039f"
                          ],
                          [
                            0.2222222222222222,
                            "#7201a8"
                          ],
                          [
                            0.3333333333333333,
                            "#9c179e"
                          ],
                          [
                            0.4444444444444444,
                            "#bd3786"
                          ],
                          [
                            0.5555555555555556,
                            "#d8576b"
                          ],
                          [
                            0.6666666666666666,
                            "#ed7953"
                          ],
                          [
                            0.7777777777777778,
                            "#fb9f3a"
                          ],
                          [
                            0.8888888888888888,
                            "#fdca26"
                          ],
                          [
                            1,
                            "#f0f921"
                          ]
                        ],
                        "type": "heatmap"
                      }
                    ],
                    "heatmapgl": [
                      {
                        "colorbar": {
                          "outlinewidth": 0,
                          "ticks": ""
                        },
                        "colorscale": [
                          [
                            0,
                            "#0d0887"
                          ],
                          [
                            0.1111111111111111,
                            "#46039f"
                          ],
                          [
                            0.2222222222222222,
                            "#7201a8"
                          ],
                          [
                            0.3333333333333333,
                            "#9c179e"
                          ],
                          [
                            0.4444444444444444,
                            "#bd3786"
                          ],
                          [
                            0.5555555555555556,
                            "#d8576b"
                          ],
                          [
                            0.6666666666666666,
                            "#ed7953"
                          ],
                          [
                            0.7777777777777778,
                            "#fb9f3a"
                          ],
                          [
                            0.8888888888888888,
                            "#fdca26"
                          ],
                          [
                            1,
                            "#f0f921"
                          ]
                        ],
                        "type": "heatmapgl"
                      }
                    ],
                    "histogram": [
                      {
                        "marker": {
                          "pattern": {
                            "fillmode": "overlay",
                            "size": 10,
                            "solidity": 0.2
                          }
                        },
                        "type": "histogram"
                      }
                    ],
                    "histogram2d": [
                      {
                        "colorbar": {
                          "outlinewidth": 0,
                          "ticks": ""
                        },
                        "colorscale": [
                          [
                            0,
                            "#0d0887"
                          ],
                          [
                            0.1111111111111111,
                            "#46039f"
                          ],
                          [
                            0.2222222222222222,
                            "#7201a8"
                          ],
                          [
                            0.3333333333333333,
                            "#9c179e"
                          ],
                          [
                            0.4444444444444444,
                            "#bd3786"
                          ],
                          [
                            0.5555555555555556,
                            "#d8576b"
                          ],
                          [
                            0.6666666666666666,
                            "#ed7953"
                          ],
                          [
                            0.7777777777777778,
                            "#fb9f3a"
                          ],
                          [
                            0.8888888888888888,
                            "#fdca26"
                          ],
                          [
                            1,
                            "#f0f921"
                          ]
                        ],
                        "type": "histogram2d"
                      }
                    ],
                    "histogram2dcontour": [
                      {
                        "colorbar": {
                          "outlinewidth": 0,
                          "ticks": ""
                        },
                        "colorscale": [
                          [
                            0,
                            "#0d0887"
                          ],
                          [
                            0.1111111111111111,
                            "#46039f"
                          ],
                          [
                            0.2222222222222222,
                            "#7201a8"
                          ],
                          [
                            0.3333333333333333,
                            "#9c179e"
                          ],
                          [
                            0.4444444444444444,
                            "#bd3786"
                          ],
                          [
                            0.5555555555555556,
                            "#d8576b"
                          ],
                          [
                            0.6666666666666666,
                            "#ed7953"
                          ],
                          [
                            0.7777777777777778,
                            "#fb9f3a"
                          ],
                          [
                            0.8888888888888888,
                            "#fdca26"
                          ],
                          [
                            1,
                            "#f0f921"
                          ]
                        ],
                        "type": "histogram2dcontour"
                      }
                    ],
                    "mesh3d": [
                      {
                        "colorbar": {
                          "outlinewidth": 0,
                          "ticks": ""
                        },
                        "type": "mesh3d"
                      }
                    ],
                    "parcoords": [
                      {
                        "line": {
                          "colorbar": {
                            "outlinewidth": 0,
                            "ticks": ""
                          }
                        },
                        "type": "parcoords"
                      }
                    ],
                    "pie": [
                      {
                        "automargin": true,
                        "type": "pie"
                      }
                    ],
                    "scatter": [
                      {
                        "marker": {
                          "colorbar": {
                            "outlinewidth": 0,
                            "ticks": ""
                          }
                        },
                        "type": "scatter"
                      }
                    ],
                    "scatter3d": [
                      {
                        "line": {
                          "colorbar": {
                            "outlinewidth": 0,
                            "ticks": ""
                          }
                        },
                        "marker": {
                          "colorbar": {
                            "outlinewidth": 0,
                            "ticks": ""
                          }
                        },
                        "type": "scatter3d"
                      }
                    ],
                    "scattercarpet": [
                      {
                        "marker": {
                          "colorbar": {
                            "outlinewidth": 0,
                            "ticks": ""
                          }
                        },
                        "type": "scattercarpet"
                      }
                    ],
                    "scattergeo": [
                      {
                        "marker": {
                          "colorbar": {
                            "outlinewidth": 0,
                            "ticks": ""
                          }
                        },
                        "type": "scattergeo"
                      }
                    ],
                    "scattergl": [
                      {
                        "marker": {
                          "colorbar": {
                            "outlinewidth": 0,
                            "ticks": ""
                          }
                        },
                        "type": "scattergl"
                      }
                    ],
                    "scattermapbox": [
                      {
                        "marker": {
                          "colorbar": {
                            "outlinewidth": 0,
                            "ticks": ""
                          }
                        },
                        "type": "scattermapbox"
                      }
                    ],
                    "scatterpolar": [
                      {
                        "marker": {
                          "colorbar": {
                            "outlinewidth": 0,
                            "ticks": ""
                          }
                        },
                        "type": "scatterpolar"
                      }
                    ],
                    "scatterpolargl": [
                      {
                        "marker": {
                          "colorbar": {
                            "outlinewidth": 0,
                            "ticks": ""
                          }
                        },
                        "type": "scatterpolargl"
                      }
                    ],
                    "scatterternary": [
                      {
                        "marker": {
                          "colorbar": {
                            "outlinewidth": 0,
                            "ticks": ""
                          }
                        },
                        "type": "scatterternary"
                      }
                    ],
                    "surface": [
                      {
                        "colorbar": {
                          "outlinewidth": 0,
                          "ticks": ""
                        },
                        "colorscale": [
                          [
                            0,
                            "#0d0887"
                          ],
                          [
                            0.1111111111111111,
                            "#46039f"
                          ],
                          [
                            0.2222222222222222,
                            "#7201a8"
                          ],
                          [
                            0.3333333333333333,
                            "#9c179e"
                          ],
                          [
                            0.4444444444444444,
                            "#bd3786"
                          ],
                          [
                            0.5555555555555556,
                            "#d8576b"
                          ],
                          [
                            0.6666666666666666,
                            "#ed7953"
                          ],
                          [
                            0.7777777777777778,
                            "#fb9f3a"
                          ],
                          [
                            0.8888888888888888,
                            "#fdca26"
                          ],
                          [
                            1,
                            "#f0f921"
                          ]
                        ],
                        "type": "surface"
                      }
                    ],
                    "table": [
                      {
                        "cells": {
                          "fill": {
                            "color": "#EBF0F8"
                          },
                          "line": {
                            "color": "white"
                          }
                        },
                        "header": {
                          "fill": {
                            "color": "#C8D4E3"
                          },
                          "line": {
                            "color": "white"
                          }
                        },
                        "type": "table"
                      }
                    ]
                  },
                  "layout": {
                    "annotationdefaults": {
                      "arrowcolor": "#2a3f5f",
                      "arrowhead": 0,
                      "arrowwidth": 1
                    },
                    "autotypenumbers": "strict",
                    "coloraxis": {
                      "colorbar": {
                        "outlinewidth": 0,
                        "ticks": ""
                      }
                    },
                    "colorscale": {
                      "diverging": [
                        [
                          0,
                          "#8e0152"
                        ],
                        [
                          0.1,
                          "#c51b7d"
                        ],
                        [
                          0.2,
                          "#de77ae"
                        ],
                        [
                          0.3,
                          "#f1b6da"
                        ],
                        [
                          0.4,
                          "#fde0ef"
                        ],
                        [
                          0.5,
                          "#f7f7f7"
                        ],
                        [
                          0.6,
                          "#e6f5d0"
                        ],
                        [
                          0.7,
                          "#b8e186"
                        ],
                        [
                          0.8,
                          "#7fbc41"
                        ],
                        [
                          0.9,
                          "#4d9221"
                        ],
                        [
                          1,
                          "#276419"
                        ]
                      ],
                      "sequential": [
                        [
                          0,
                          "#0d0887"
                        ],
                        [
                          0.1111111111111111,
                          "#46039f"
                        ],
                        [
                          0.2222222222222222,
                          "#7201a8"
                        ],
                        [
                          0.3333333333333333,
                          "#9c179e"
                        ],
                        [
                          0.4444444444444444,
                          "#bd3786"
                        ],
                        [
                          0.5555555555555556,
                          "#d8576b"
                        ],
                        [
                          0.6666666666666666,
                          "#ed7953"
                        ],
                        [
                          0.7777777777777778,
                          "#fb9f3a"
                        ],
                        [
                          0.8888888888888888,
                          "#fdca26"
                        ],
                        [
                          1,
                          "#f0f921"
                        ]
                      ],
                      "sequentialminus": [
                        [
                          0,
                          "#0d0887"
                        ],
                        [
                          0.1111111111111111,
                          "#46039f"
                        ],
                        [
                          0.2222222222222222,
                          "#7201a8"
                        ],
                        [
                          0.3333333333333333,
                          "#9c179e"
                        ],
                        [
                          0.4444444444444444,
                          "#bd3786"
                        ],
                        [
                          0.5555555555555556,
                          "#d8576b"
                        ],
                        [
                          0.6666666666666666,
                          "#ed7953"
                        ],
                        [
                          0.7777777777777778,
                          "#fb9f3a"
                        ],
                        [
                          0.8888888888888888,
                          "#fdca26"
                        ],
                        [
                          1,
                          "#f0f921"
                        ]
                      ]
                    },
                    "colorway": [
                      "#636efa",
                      "#EF553B",
                      "#00cc96",
                      "#ab63fa",
                      "#FFA15A",
                      "#19d3f3",
                      "#FF6692",
                      "#B6E880",
                      "#FF97FF",
                      "#FECB52"
                    ],
                    "font": {
                      "color": "#2a3f5f"
                    },
                    "geo": {
                      "bgcolor": "white",
                      "lakecolor": "white",
                      "landcolor": "#E5ECF6",
                      "showlakes": true,
                      "showland": true,
                      "subunitcolor": "white"
                    },
                    "hoverlabel": {
                      "align": "left"
                    },
                    "hovermode": "closest",
                    "mapbox": {
                      "style": "light"
                    },
                    "paper_bgcolor": "white",
                    "plot_bgcolor": "#E5ECF6",
                    "polar": {
                      "angularaxis": {
                        "gridcolor": "white",
                        "linecolor": "white",
                        "ticks": ""
                      },
                      "bgcolor": "#E5ECF6",
                      "radialaxis": {
                        "gridcolor": "white",
                        "linecolor": "white",
                        "ticks": ""
                      }
                    },
                    "scene": {
                      "xaxis": {
                        "backgroundcolor": "#E5ECF6",
                        "gridcolor": "white",
                        "gridwidth": 2,
                        "linecolor": "white",
                        "showbackground": true,
                        "ticks": "",
                        "zerolinecolor": "white"
                      },
                      "yaxis": {
                        "backgroundcolor": "#E5ECF6",
                        "gridcolor": "white",
                        "gridwidth": 2,
                        "linecolor": "white",
                        "showbackground": true,
                        "ticks": "",
                        "zerolinecolor": "white"
                      },
                      "zaxis": {
                        "backgroundcolor": "#E5ECF6",
                        "gridcolor": "white",
                        "gridwidth": 2,
                        "linecolor": "white",
                        "showbackground": true,
                        "ticks": "",
                        "zerolinecolor": "white"
                      }
                    },
                    "shapedefaults": {
                      "line": {
                        "color": "#2a3f5f"
                      }
                    },
                    "ternary": {
                      "aaxis": {
                        "gridcolor": "white",
                        "linecolor": "white",
                        "ticks": ""
                      },
                      "baxis": {
                        "gridcolor": "white",
                        "linecolor": "white",
                        "ticks": ""
                      },
                      "bgcolor": "#E5ECF6",
                      "caxis": {
                        "gridcolor": "white",
                        "linecolor": "white",
                        "ticks": ""
                      }
                    },
                    "title": {
                      "x": 0.05
                    },
                    "xaxis": {
                      "automargin": true,
                      "gridcolor": "white",
                      "linecolor": "white",
                      "ticks": "",
                      "title": {
                        "standoff": 15
                      },
                      "zerolinecolor": "white",
                      "zerolinewidth": 2
                    },
                    "yaxis": {
                      "automargin": true,
                      "gridcolor": "white",
                      "linecolor": "white",
                      "ticks": "",
                      "title": {
                        "standoff": 15
                      },
                      "zerolinecolor": "white",
                      "zerolinewidth": 2
                    }
                  }
                },
                "title": {
                  "font": {
                    "color": "#D9D9D9"
                  },
                  "text": "FISH Features Box Plot"
                },
                "xaxis": {
                  "gridcolor": "#434343",
                  "showgrid": true,
                  "tickfont": {
                    "color": "#C2C2C2"
                  },
                  "title": {
                    "font": {
                      "color": "#D9D9D9"
                    },
                    "text": "FISH Features"
                  },
                  "zerolinecolor": "#666570"
                },
                "yaxis": {
                  "gridcolor": "#434343",
                  "showgrid": true,
                  "tickfont": {
                    "color": "#C2C2C2"
                  },
                  "title": {
                    "font": {
                      "color": "#D9D9D9"
                    },
                    "text": ""
                  },
                  "zerolinecolor": "#666570"
                }
              }
            },
            "text/html": [
              "<div>                            <div id=\"5fb39ea3-7f9b-4b9f-b468-361222e3240a\" class=\"plotly-graph-div\" style=\"height:525px; width:100%;\"></div>            <script type=\"text/javascript\">                require([\"plotly\"], function(Plotly) {                    window.PLOTLYENV=window.PLOTLYENV || {};\n",
              "                    window.PLOTLYENV.BASE_URL='https://plot.ly';                                    if (document.getElementById(\"5fb39ea3-7f9b-4b9f-b468-361222e3240a\")) {                    Plotly.newPlot(                        \"5fb39ea3-7f9b-4b9f-b468-361222e3240a\",                        [{\"boxpoints\":\"outliers\",\"line\":{\"width\":1.3},\"marker\":{\"color\":\"rgba(255, 153, 51, 1.0)\"},\"name\":\"Species\",\"orientation\":\"v\",\"type\":\"box\",\"y\":[0,0,0,0,0,0,0,0,0,0,0,0,0,0,0,0,0,0,0,0,0,0,0,0,0,0,0,0,0,0,0,0,0,0,0,4,4,4,4,4,4,4,4,4,4,4,4,4,4,4,4,4,4,4,4,6,6,6,6,6,6,1,1,1,1,1,1,1,1,1,1,1,2,2,2,2,2,2,2,2,2,2,2,2,2,2,2,2,2,2,2,2,2,2,2,2,2,2,2,2,2,2,2,2,2,2,2,2,2,2,2,2,2,2,2,2,2,2,2,2,2,2,2,2,2,2,2,2,3,3,3,3,3,3,3,3,3,3,3,3,3,3,3,3,3,5,5,5,5,5,5,5,5,5,5,5,5,5,5]},{\"boxpoints\":\"outliers\",\"line\":{\"width\":1.3},\"marker\":{\"color\":\"rgba(55, 128, 191, 1.0)\"},\"name\":\"Weight\",\"orientation\":\"v\",\"type\":\"box\",\"y\":[242.0,290.0,340.0,363.0,430.0,450.0,500.0,390.0,450.0,500.0,475.0,500.0,500.0,340.0,600.0,600.0,700.0,700.0,610.0,650.0,575.0,685.0,620.0,680.0,700.0,725.0,720.0,714.0,850.0,1000.0,920.0,955.0,925.0,975.0,950.0,40.0,69.0,78.0,87.0,120.0,0.0,110.0,120.0,150.0,145.0,160.0,140.0,160.0,169.0,161.0,200.0,180.0,290.0,272.0,390.0,270.0,270.0,306.0,540.0,800.0,1000.0,55.0,60.0,90.0,120.0,150.0,140.0,170.0,145.0,200.0,273.0,300.0,5.9,32.0,40.0,51.5,70.0,100.0,78.0,80.0,85.0,85.0,110.0,115.0,125.0,130.0,120.0,120.0,130.0,135.0,110.0,130.0,150.0,145.0,150.0,170.0,225.0,145.0,188.0,180.0,197.0,218.0,300.0,260.0,265.0,250.0,250.0,300.0,320.0,514.0,556.0,840.0,685.0,700.0,700.0,690.0,900.0,650.0,820.0,850.0,900.0,1015.0,820.0,1100.0,1000.0,1100.0,1000.0,1000.0,200.0,300.0,300.0,300.0,430.0,345.0,456.0,510.0,540.0,500.0,567.0,770.0,950.0,1250.0,1600.0,1550.0,1650.0,6.7,7.5,7.0,9.7,9.8,8.7,10.0,9.9,9.8,12.2,13.4,12.2,19.7,19.9]},{\"boxpoints\":\"outliers\",\"line\":{\"width\":1.3},\"marker\":{\"color\":\"rgba(50, 171, 96, 1.0)\"},\"name\":\"Length1\",\"orientation\":\"v\",\"type\":\"box\",\"y\":[23.2,24.0,23.9,26.3,26.5,26.8,26.8,27.6,27.6,28.5,28.4,28.7,29.1,29.5,29.4,29.4,30.4,30.4,30.9,31.0,31.3,31.4,31.5,31.8,31.9,31.8,32.0,32.7,32.8,33.5,35.0,35.0,36.2,37.4,38.0,12.9,16.5,17.5,18.2,18.6,19.0,19.1,19.4,20.4,20.5,20.5,21.0,21.1,22.0,22.0,22.1,23.6,24.0,25.0,29.5,23.6,24.1,25.6,28.5,33.7,37.3,13.5,14.3,16.3,17.5,18.4,19.0,19.0,19.8,21.2,23.0,24.0,7.5,12.5,13.8,15.0,15.7,16.2,16.8,17.2,17.8,18.2,19.0,19.0,19.0,19.3,20.0,20.0,20.0,20.0,20.0,20.5,20.5,20.7,21.0,21.5,22.0,22.0,22.6,23.0,23.5,25.0,25.2,25.4,25.4,25.4,25.9,26.9,27.8,30.5,32.0,32.5,34.0,34.0,34.5,34.6,36.5,36.5,36.6,36.9,37.0,37.0,37.1,39.0,39.8,40.1,40.2,41.1,30.0,31.7,32.7,34.8,35.5,36.0,40.0,40.0,40.1,42.0,43.2,44.8,48.3,52.0,56.0,56.0,59.0,9.3,10.0,10.1,10.4,10.7,10.8,11.3,11.3,11.4,11.5,11.7,12.1,13.2,13.8]},{\"boxpoints\":\"outliers\",\"line\":{\"width\":1.3},\"marker\":{\"color\":\"rgba(128, 0, 128, 1.0)\"},\"name\":\"Length2\",\"orientation\":\"v\",\"type\":\"box\",\"y\":[25.4,26.3,26.5,29.0,29.0,29.7,29.7,30.0,30.0,30.7,31.0,31.0,31.5,32.0,32.0,32.0,33.0,33.0,33.5,33.5,34.0,34.0,34.5,35.0,35.0,35.0,35.0,36.0,36.0,37.0,38.5,38.5,39.5,41.0,41.0,14.1,18.2,18.8,19.8,20.0,20.5,20.8,21.0,22.0,22.0,22.5,22.5,22.5,24.0,23.4,23.5,25.2,26.0,27.0,31.7,26.0,26.5,28.0,31.0,36.4,40.0,14.7,15.5,17.7,19.0,20.0,20.7,20.7,21.5,23.0,25.0,26.0,8.4,13.7,15.0,16.2,17.4,18.0,18.7,19.0,19.6,20.0,21.0,21.0,21.0,21.3,22.0,22.0,22.0,22.0,22.0,22.5,22.5,22.7,23.0,23.5,24.0,24.0,24.6,25.0,25.6,26.5,27.3,27.5,27.5,27.5,28.0,28.7,30.0,32.8,34.5,35.0,36.5,36.0,37.0,37.0,39.0,39.0,39.0,40.0,40.0,40.0,40.0,42.0,43.0,43.0,43.5,44.0,32.3,34.0,35.0,37.3,38.0,38.5,42.5,42.5,43.0,45.0,46.0,48.0,51.7,56.0,60.0,60.0,63.4,9.8,10.5,10.6,11.0,11.2,11.3,11.8,11.8,12.0,12.2,12.4,13.0,14.3,15.0]},{\"boxpoints\":\"outliers\",\"line\":{\"width\":1.3},\"marker\":{\"color\":\"rgba(219, 64, 82, 1.0)\"},\"name\":\"Length3\",\"orientation\":\"v\",\"type\":\"box\",\"y\":[30.0,31.2,31.1,33.5,34.0,34.7,34.5,35.0,35.1,36.2,36.2,36.2,36.4,37.3,37.2,37.2,38.3,38.5,38.6,38.7,39.5,39.2,39.7,40.6,40.5,40.9,40.6,41.5,41.6,42.6,44.1,44.0,45.3,45.9,46.5,16.2,20.3,21.2,22.2,22.2,22.8,23.1,23.7,24.7,24.3,25.3,25.0,25.0,27.2,26.7,26.8,27.9,29.2,30.6,35.0,28.7,29.3,30.8,34.0,39.6,43.5,16.5,17.4,19.8,21.3,22.4,23.2,23.2,24.1,25.8,28.0,29.0,8.8,14.7,16.0,17.2,18.5,19.2,19.4,20.2,20.8,21.0,22.5,22.5,22.5,22.8,23.5,23.5,23.5,23.5,23.5,24.0,24.0,24.2,24.5,25.0,25.5,25.5,26.2,26.5,27.0,28.0,28.7,28.9,28.9,28.9,29.4,30.1,31.6,34.0,36.5,37.3,39.0,38.3,39.4,39.3,41.4,41.4,41.3,42.3,42.5,42.4,42.5,44.6,45.2,45.5,46.0,46.6,34.8,37.8,38.8,39.8,40.5,41.0,45.5,45.5,45.8,48.0,48.7,51.2,55.1,59.7,64.0,64.0,68.0,10.8,11.6,11.6,12.0,12.4,12.6,13.1,13.1,13.2,13.4,13.5,13.8,15.2,16.2]},{\"boxpoints\":\"outliers\",\"line\":{\"width\":1.3},\"marker\":{\"color\":\"rgba(0, 128, 128, 1.0)\"},\"name\":\"Height\",\"orientation\":\"v\",\"type\":\"box\",\"y\":[11.52,12.48,12.3778,12.73,12.444,13.6024,14.1795,12.67,14.0049,14.2266,14.2628,14.3714,13.7592,13.9129,14.9544,15.438,14.8604,14.938,15.633,14.4738,15.1285,15.9936,15.5227,15.4686,16.2405,16.36,16.3618,16.517,16.8896,18.957,18.0369,18.084,18.7542,18.6354,17.6235,4.1472,5.2983,5.5756,5.6166,6.216,6.4752,6.1677,6.1146,5.8045,6.6339,7.0334,6.55,6.4,7.5344,6.9153,7.3968,7.0866,8.8768,8.568,9.485,8.3804,8.1454,8.778,10.744,11.7612,12.354,6.8475,6.5772,7.4052,8.3922,8.8928,8.5376,9.396,9.7364,10.3458,11.088,11.368,2.112,3.528,3.824,4.5924,4.588,5.2224,5.1992,5.6358,5.1376,5.082,5.6925,5.9175,5.6925,6.384,6.11,5.64,6.11,5.875,5.5225,5.856,6.792,5.9532,5.2185,6.275,7.293,6.375,6.7334,6.4395,6.561,7.168,8.323,7.1672,7.0516,7.2828,7.8204,7.5852,7.6156,10.03,10.2565,11.4884,10.881,10.6091,10.835,10.5717,11.1366,11.1366,12.4313,11.9286,11.73,12.3808,11.135,12.8002,11.9328,12.5125,12.604,12.4888,5.568,5.7078,5.9364,6.2884,7.29,6.396,7.28,6.825,7.786,6.96,7.792,7.68,8.9262,10.6863,9.6,9.6,10.812,1.7388,1.972,1.7284,2.196,2.0832,1.9782,2.2139,2.2139,2.2044,2.0904,2.43,2.277,2.8728,2.9322]},{\"boxpoints\":\"outliers\",\"line\":{\"width\":1.3},\"marker\":{\"color\":\"rgba(255, 255, 51, 1.0)\"},\"name\":\"Width\",\"orientation\":\"v\",\"type\":\"box\",\"y\":[4.02,4.3056,4.6961,4.4555,5.134,4.9274,5.2785,4.69,4.8438,4.9594,5.1042,4.8146,4.368,5.0728,5.1708,5.58,5.2854,5.1975,5.1338,5.7276,5.5695,5.3704,5.2801,6.1306,5.589,6.0532,6.09,5.8515,6.1984,6.603,6.3063,6.292,6.7497,6.7473,6.3705,2.268,2.8217,2.9044,3.1746,3.5742,3.3516,3.3957,3.2943,3.7544,3.5478,3.8203,3.325,3.8,3.8352,3.6312,4.1272,3.906,4.4968,4.7736,5.355,4.2476,4.2485,4.6816,6.562,6.5736,6.525,2.3265,2.3142,2.673,2.9181,3.2928,3.2944,3.4104,3.1571,3.6636,4.144,4.234,1.408,1.9992,2.432,2.6316,2.9415,3.3216,3.1234,3.0502,3.0368,2.772,3.555,3.3075,3.6675,3.534,3.4075,3.525,3.525,3.525,3.995,3.624,3.624,3.63,3.626,3.725,3.723,3.825,4.1658,3.6835,4.239,4.144,5.1373,4.335,4.335,4.5662,4.2042,4.6354,4.7716,6.018,6.3875,7.7957,6.864,6.7408,6.2646,6.3666,7.4934,6.003,7.3514,7.1064,7.225,7.4624,6.63,6.8684,7.2772,7.4165,8.142,7.5958,3.3756,4.158,4.3844,4.0198,4.5765,3.977,4.3225,4.459,5.1296,4.896,4.87,5.376,6.1712,6.9849,6.144,6.144,7.48,1.0476,1.16,1.1484,1.38,1.2772,1.2852,1.2838,1.1659,1.1484,1.3936,1.269,1.2558,2.0672,1.8792]}],                        {\"legend\":{\"bgcolor\":\"#1A1A1C\",\"font\":{\"color\":\"#D9D9D9\"}},\"paper_bgcolor\":\"#1A1A1C\",\"plot_bgcolor\":\"#1A1A1C\",\"template\":{\"data\":{\"bar\":[{\"error_x\":{\"color\":\"#2a3f5f\"},\"error_y\":{\"color\":\"#2a3f5f\"},\"marker\":{\"line\":{\"color\":\"#E5ECF6\",\"width\":0.5},\"pattern\":{\"fillmode\":\"overlay\",\"size\":10,\"solidity\":0.2}},\"type\":\"bar\"}],\"barpolar\":[{\"marker\":{\"line\":{\"color\":\"#E5ECF6\",\"width\":0.5},\"pattern\":{\"fillmode\":\"overlay\",\"size\":10,\"solidity\":0.2}},\"type\":\"barpolar\"}],\"carpet\":[{\"aaxis\":{\"endlinecolor\":\"#2a3f5f\",\"gridcolor\":\"white\",\"linecolor\":\"white\",\"minorgridcolor\":\"white\",\"startlinecolor\":\"#2a3f5f\"},\"baxis\":{\"endlinecolor\":\"#2a3f5f\",\"gridcolor\":\"white\",\"linecolor\":\"white\",\"minorgridcolor\":\"white\",\"startlinecolor\":\"#2a3f5f\"},\"type\":\"carpet\"}],\"choropleth\":[{\"colorbar\":{\"outlinewidth\":0,\"ticks\":\"\"},\"type\":\"choropleth\"}],\"contour\":[{\"colorbar\":{\"outlinewidth\":0,\"ticks\":\"\"},\"colorscale\":[[0.0,\"#0d0887\"],[0.1111111111111111,\"#46039f\"],[0.2222222222222222,\"#7201a8\"],[0.3333333333333333,\"#9c179e\"],[0.4444444444444444,\"#bd3786\"],[0.5555555555555556,\"#d8576b\"],[0.6666666666666666,\"#ed7953\"],[0.7777777777777778,\"#fb9f3a\"],[0.8888888888888888,\"#fdca26\"],[1.0,\"#f0f921\"]],\"type\":\"contour\"}],\"contourcarpet\":[{\"colorbar\":{\"outlinewidth\":0,\"ticks\":\"\"},\"type\":\"contourcarpet\"}],\"heatmap\":[{\"colorbar\":{\"outlinewidth\":0,\"ticks\":\"\"},\"colorscale\":[[0.0,\"#0d0887\"],[0.1111111111111111,\"#46039f\"],[0.2222222222222222,\"#7201a8\"],[0.3333333333333333,\"#9c179e\"],[0.4444444444444444,\"#bd3786\"],[0.5555555555555556,\"#d8576b\"],[0.6666666666666666,\"#ed7953\"],[0.7777777777777778,\"#fb9f3a\"],[0.8888888888888888,\"#fdca26\"],[1.0,\"#f0f921\"]],\"type\":\"heatmap\"}],\"heatmapgl\":[{\"colorbar\":{\"outlinewidth\":0,\"ticks\":\"\"},\"colorscale\":[[0.0,\"#0d0887\"],[0.1111111111111111,\"#46039f\"],[0.2222222222222222,\"#7201a8\"],[0.3333333333333333,\"#9c179e\"],[0.4444444444444444,\"#bd3786\"],[0.5555555555555556,\"#d8576b\"],[0.6666666666666666,\"#ed7953\"],[0.7777777777777778,\"#fb9f3a\"],[0.8888888888888888,\"#fdca26\"],[1.0,\"#f0f921\"]],\"type\":\"heatmapgl\"}],\"histogram\":[{\"marker\":{\"pattern\":{\"fillmode\":\"overlay\",\"size\":10,\"solidity\":0.2}},\"type\":\"histogram\"}],\"histogram2d\":[{\"colorbar\":{\"outlinewidth\":0,\"ticks\":\"\"},\"colorscale\":[[0.0,\"#0d0887\"],[0.1111111111111111,\"#46039f\"],[0.2222222222222222,\"#7201a8\"],[0.3333333333333333,\"#9c179e\"],[0.4444444444444444,\"#bd3786\"],[0.5555555555555556,\"#d8576b\"],[0.6666666666666666,\"#ed7953\"],[0.7777777777777778,\"#fb9f3a\"],[0.8888888888888888,\"#fdca26\"],[1.0,\"#f0f921\"]],\"type\":\"histogram2d\"}],\"histogram2dcontour\":[{\"colorbar\":{\"outlinewidth\":0,\"ticks\":\"\"},\"colorscale\":[[0.0,\"#0d0887\"],[0.1111111111111111,\"#46039f\"],[0.2222222222222222,\"#7201a8\"],[0.3333333333333333,\"#9c179e\"],[0.4444444444444444,\"#bd3786\"],[0.5555555555555556,\"#d8576b\"],[0.6666666666666666,\"#ed7953\"],[0.7777777777777778,\"#fb9f3a\"],[0.8888888888888888,\"#fdca26\"],[1.0,\"#f0f921\"]],\"type\":\"histogram2dcontour\"}],\"mesh3d\":[{\"colorbar\":{\"outlinewidth\":0,\"ticks\":\"\"},\"type\":\"mesh3d\"}],\"parcoords\":[{\"line\":{\"colorbar\":{\"outlinewidth\":0,\"ticks\":\"\"}},\"type\":\"parcoords\"}],\"pie\":[{\"automargin\":true,\"type\":\"pie\"}],\"scatter\":[{\"marker\":{\"colorbar\":{\"outlinewidth\":0,\"ticks\":\"\"}},\"type\":\"scatter\"}],\"scatter3d\":[{\"line\":{\"colorbar\":{\"outlinewidth\":0,\"ticks\":\"\"}},\"marker\":{\"colorbar\":{\"outlinewidth\":0,\"ticks\":\"\"}},\"type\":\"scatter3d\"}],\"scattercarpet\":[{\"marker\":{\"colorbar\":{\"outlinewidth\":0,\"ticks\":\"\"}},\"type\":\"scattercarpet\"}],\"scattergeo\":[{\"marker\":{\"colorbar\":{\"outlinewidth\":0,\"ticks\":\"\"}},\"type\":\"scattergeo\"}],\"scattergl\":[{\"marker\":{\"colorbar\":{\"outlinewidth\":0,\"ticks\":\"\"}},\"type\":\"scattergl\"}],\"scattermapbox\":[{\"marker\":{\"colorbar\":{\"outlinewidth\":0,\"ticks\":\"\"}},\"type\":\"scattermapbox\"}],\"scatterpolar\":[{\"marker\":{\"colorbar\":{\"outlinewidth\":0,\"ticks\":\"\"}},\"type\":\"scatterpolar\"}],\"scatterpolargl\":[{\"marker\":{\"colorbar\":{\"outlinewidth\":0,\"ticks\":\"\"}},\"type\":\"scatterpolargl\"}],\"scatterternary\":[{\"marker\":{\"colorbar\":{\"outlinewidth\":0,\"ticks\":\"\"}},\"type\":\"scatterternary\"}],\"surface\":[{\"colorbar\":{\"outlinewidth\":0,\"ticks\":\"\"},\"colorscale\":[[0.0,\"#0d0887\"],[0.1111111111111111,\"#46039f\"],[0.2222222222222222,\"#7201a8\"],[0.3333333333333333,\"#9c179e\"],[0.4444444444444444,\"#bd3786\"],[0.5555555555555556,\"#d8576b\"],[0.6666666666666666,\"#ed7953\"],[0.7777777777777778,\"#fb9f3a\"],[0.8888888888888888,\"#fdca26\"],[1.0,\"#f0f921\"]],\"type\":\"surface\"}],\"table\":[{\"cells\":{\"fill\":{\"color\":\"#EBF0F8\"},\"line\":{\"color\":\"white\"}},\"header\":{\"fill\":{\"color\":\"#C8D4E3\"},\"line\":{\"color\":\"white\"}},\"type\":\"table\"}]},\"layout\":{\"annotationdefaults\":{\"arrowcolor\":\"#2a3f5f\",\"arrowhead\":0,\"arrowwidth\":1},\"autotypenumbers\":\"strict\",\"coloraxis\":{\"colorbar\":{\"outlinewidth\":0,\"ticks\":\"\"}},\"colorscale\":{\"diverging\":[[0,\"#8e0152\"],[0.1,\"#c51b7d\"],[0.2,\"#de77ae\"],[0.3,\"#f1b6da\"],[0.4,\"#fde0ef\"],[0.5,\"#f7f7f7\"],[0.6,\"#e6f5d0\"],[0.7,\"#b8e186\"],[0.8,\"#7fbc41\"],[0.9,\"#4d9221\"],[1,\"#276419\"]],\"sequential\":[[0.0,\"#0d0887\"],[0.1111111111111111,\"#46039f\"],[0.2222222222222222,\"#7201a8\"],[0.3333333333333333,\"#9c179e\"],[0.4444444444444444,\"#bd3786\"],[0.5555555555555556,\"#d8576b\"],[0.6666666666666666,\"#ed7953\"],[0.7777777777777778,\"#fb9f3a\"],[0.8888888888888888,\"#fdca26\"],[1.0,\"#f0f921\"]],\"sequentialminus\":[[0.0,\"#0d0887\"],[0.1111111111111111,\"#46039f\"],[0.2222222222222222,\"#7201a8\"],[0.3333333333333333,\"#9c179e\"],[0.4444444444444444,\"#bd3786\"],[0.5555555555555556,\"#d8576b\"],[0.6666666666666666,\"#ed7953\"],[0.7777777777777778,\"#fb9f3a\"],[0.8888888888888888,\"#fdca26\"],[1.0,\"#f0f921\"]]},\"colorway\":[\"#636efa\",\"#EF553B\",\"#00cc96\",\"#ab63fa\",\"#FFA15A\",\"#19d3f3\",\"#FF6692\",\"#B6E880\",\"#FF97FF\",\"#FECB52\"],\"font\":{\"color\":\"#2a3f5f\"},\"geo\":{\"bgcolor\":\"white\",\"lakecolor\":\"white\",\"landcolor\":\"#E5ECF6\",\"showlakes\":true,\"showland\":true,\"subunitcolor\":\"white\"},\"hoverlabel\":{\"align\":\"left\"},\"hovermode\":\"closest\",\"mapbox\":{\"style\":\"light\"},\"paper_bgcolor\":\"white\",\"plot_bgcolor\":\"#E5ECF6\",\"polar\":{\"angularaxis\":{\"gridcolor\":\"white\",\"linecolor\":\"white\",\"ticks\":\"\"},\"bgcolor\":\"#E5ECF6\",\"radialaxis\":{\"gridcolor\":\"white\",\"linecolor\":\"white\",\"ticks\":\"\"}},\"scene\":{\"xaxis\":{\"backgroundcolor\":\"#E5ECF6\",\"gridcolor\":\"white\",\"gridwidth\":2,\"linecolor\":\"white\",\"showbackground\":true,\"ticks\":\"\",\"zerolinecolor\":\"white\"},\"yaxis\":{\"backgroundcolor\":\"#E5ECF6\",\"gridcolor\":\"white\",\"gridwidth\":2,\"linecolor\":\"white\",\"showbackground\":true,\"ticks\":\"\",\"zerolinecolor\":\"white\"},\"zaxis\":{\"backgroundcolor\":\"#E5ECF6\",\"gridcolor\":\"white\",\"gridwidth\":2,\"linecolor\":\"white\",\"showbackground\":true,\"ticks\":\"\",\"zerolinecolor\":\"white\"}},\"shapedefaults\":{\"line\":{\"color\":\"#2a3f5f\"}},\"ternary\":{\"aaxis\":{\"gridcolor\":\"white\",\"linecolor\":\"white\",\"ticks\":\"\"},\"baxis\":{\"gridcolor\":\"white\",\"linecolor\":\"white\",\"ticks\":\"\"},\"bgcolor\":\"#E5ECF6\",\"caxis\":{\"gridcolor\":\"white\",\"linecolor\":\"white\",\"ticks\":\"\"}},\"title\":{\"x\":0.05},\"xaxis\":{\"automargin\":true,\"gridcolor\":\"white\",\"linecolor\":\"white\",\"ticks\":\"\",\"title\":{\"standoff\":15},\"zerolinecolor\":\"white\",\"zerolinewidth\":2},\"yaxis\":{\"automargin\":true,\"gridcolor\":\"white\",\"linecolor\":\"white\",\"ticks\":\"\",\"title\":{\"standoff\":15},\"zerolinecolor\":\"white\",\"zerolinewidth\":2}}},\"title\":{\"font\":{\"color\":\"#D9D9D9\"},\"text\":\"FISH Features Box Plot\"},\"xaxis\":{\"gridcolor\":\"#434343\",\"showgrid\":true,\"tickfont\":{\"color\":\"#C2C2C2\"},\"title\":{\"font\":{\"color\":\"#D9D9D9\"},\"text\":\"FISH Features\"},\"zerolinecolor\":\"#666570\"},\"yaxis\":{\"gridcolor\":\"#434343\",\"showgrid\":true,\"tickfont\":{\"color\":\"#C2C2C2\"},\"title\":{\"font\":{\"color\":\"#D9D9D9\"},\"text\":\"\"},\"zerolinecolor\":\"#666570\"}},                        {\"showLink\": true, \"linkText\": \"Export to plot.ly\", \"plotlyServerURL\": \"https://plot.ly\", \"responsive\": true}                    ).then(function(){\n",
              "                            \n",
              "var gd = document.getElementById('5fb39ea3-7f9b-4b9f-b468-361222e3240a');\n",
              "var x = new MutationObserver(function (mutations, observer) {{\n",
              "        var display = window.getComputedStyle(gd).display;\n",
              "        if (!display || display === 'none') {{\n",
              "            console.log([gd, 'removed!']);\n",
              "            Plotly.purge(gd);\n",
              "            observer.disconnect();\n",
              "        }}\n",
              "}});\n",
              "\n",
              "// Listen for the removal of the full notebook cells\n",
              "var notebookContainer = gd.closest('#notebook-container');\n",
              "if (notebookContainer) {{\n",
              "    x.observe(notebookContainer, {childList: true});\n",
              "}}\n",
              "\n",
              "// Listen for the clearing of the current output cell\n",
              "var outputEl = gd.closest('.output');\n",
              "if (outputEl) {{\n",
              "    x.observe(outputEl, {childList: true});\n",
              "}}\n",
              "\n",
              "                        })                };                });            </script>        </div>"
            ]
          },
          "metadata": {},
          "output_type": "display_data"
        }
      ],
      "source": [
        "df.iplot(kind=\"box\", boxpoints=\"outliers\",xTitle=\"FISH Features\", title=\"FISH Features Box Plot\")"
      ]
    },
    {
      "cell_type": "code",
      "execution_count": 21,
      "metadata": {
        "colab": {
          "base_uri": "https://localhost:8080/",
          "height": 546
        },
        "id": "Q-jTm3UIeiEB",
        "outputId": "09081706-364d-4b18-85fb-bf3155ae8ae0"
      },
      "outputs": [
        {
          "data": {
            "application/vnd.plotly.v1+json": {
              "config": {
                "linkText": "Export to plot.ly",
                "plotlyServerURL": "https://plot.ly",
                "showLink": true
              },
              "data": [
                {
                  "marker": {
                    "color": [
                      "tomato",
                      "tomato",
                      "tomato",
                      "tomato",
                      "tomato",
                      "tomato",
                      "tomato",
                      "tomato",
                      "tomato",
                      "tomato",
                      "tomato",
                      "tomato",
                      "tomato",
                      "tomato",
                      "tomato",
                      "tomato",
                      "tomato",
                      "tomato",
                      "tomato",
                      "tomato",
                      "tomato",
                      "tomato",
                      "tomato",
                      "tomato",
                      "tomato",
                      "tomato",
                      "tomato",
                      "tomato",
                      "tomato",
                      "tomato",
                      "tomato",
                      "tomato",
                      "tomato",
                      "tomato",
                      "tomato",
                      "tomato",
                      "tomato",
                      "tomato",
                      "tomato",
                      "tomato",
                      "tomato",
                      "tomato",
                      "tomato",
                      "tomato",
                      "tomato",
                      "tomato",
                      "tomato",
                      "tomato",
                      "tomato",
                      "tomato",
                      "tomato",
                      "tomato",
                      "tomato",
                      "tomato",
                      "tomato",
                      "tomato",
                      "tomato",
                      "tomato",
                      "tomato",
                      "tomato",
                      "tomato",
                      "tomato",
                      "tomato",
                      "tomato",
                      "tomato",
                      "tomato",
                      "tomato",
                      "tomato",
                      "tomato",
                      "tomato"
                    ],
                    "line": {
                      "width": 1.3
                    },
                    "size": [
                      51,
                      57,
                      66,
                      60,
                      75,
                      71,
                      79,
                      66,
                      69,
                      72,
                      75,
                      68,
                      58,
                      74,
                      76,
                      85,
                      79,
                      77,
                      75,
                      89,
                      85,
                      81,
                      79,
                      98,
                      86,
                      96,
                      97,
                      91,
                      99,
                      108,
                      102,
                      101,
                      112,
                      111,
                      103,
                      12,
                      24,
                      26,
                      32,
                      41,
                      36,
                      37,
                      34,
                      45,
                      40,
                      46,
                      35,
                      46,
                      46,
                      42,
                      53,
                      48,
                      61,
                      67,
                      80,
                      56,
                      56,
                      65,
                      107,
                      108,
                      106,
                      13,
                      13,
                      21,
                      26,
                      34,
                      34,
                      37,
                      31,
                      43
                    ],
                    "symbol": "circle"
                  },
                  "mode": "markers",
                  "text": "",
                  "type": "scatter",
                  "x": [
                    11.52,
                    12.48,
                    12.3778,
                    12.73,
                    12.444,
                    13.6024,
                    14.1795,
                    12.67,
                    14.0049,
                    14.2266,
                    14.2628,
                    14.3714,
                    13.7592,
                    13.9129,
                    14.9544,
                    15.438,
                    14.8604,
                    14.938,
                    15.633,
                    14.4738,
                    15.1285,
                    15.9936,
                    15.5227,
                    15.4686,
                    16.2405,
                    16.36,
                    16.3618,
                    16.517,
                    16.8896,
                    18.957,
                    18.0369,
                    18.084,
                    18.7542,
                    18.6354,
                    17.6235,
                    4.1472,
                    5.2983,
                    5.5756,
                    5.6166,
                    6.216,
                    6.4752,
                    6.1677,
                    6.1146,
                    5.8045,
                    6.6339,
                    7.0334,
                    6.55,
                    6.4,
                    7.5344,
                    6.9153,
                    7.3968,
                    7.0866,
                    8.8768,
                    8.568,
                    9.485,
                    8.3804,
                    8.1454,
                    8.778,
                    10.744,
                    11.7612,
                    12.354,
                    6.8475,
                    6.5772,
                    7.4052,
                    8.3922,
                    8.8928,
                    8.5376,
                    9.396,
                    9.7364,
                    10.3458
                  ],
                  "y": [
                    4.02,
                    4.3056,
                    4.6961,
                    4.4555,
                    5.134,
                    4.9274,
                    5.2785,
                    4.69,
                    4.8438,
                    4.9594,
                    5.1042,
                    4.8146,
                    4.368,
                    5.0728,
                    5.1708,
                    5.58,
                    5.2854,
                    5.1975,
                    5.1338,
                    5.7276,
                    5.5695,
                    5.3704,
                    5.2801,
                    6.1306,
                    5.589,
                    6.0532,
                    6.09,
                    5.8515,
                    6.1984,
                    6.603,
                    6.3063,
                    6.292,
                    6.7497,
                    6.7473,
                    6.3705,
                    2.268,
                    2.8217,
                    2.9044,
                    3.1746,
                    3.5742,
                    3.3516,
                    3.3957,
                    3.2943,
                    3.7544,
                    3.5478,
                    3.8203,
                    3.325,
                    3.8,
                    3.8352,
                    3.6312,
                    4.1272,
                    3.906,
                    4.4968,
                    4.7736,
                    5.355,
                    4.2476,
                    4.2485,
                    4.6816,
                    6.562,
                    6.5736,
                    6.525,
                    2.3265,
                    2.3142,
                    2.673,
                    2.9181,
                    3.2928,
                    3.2944,
                    3.4104,
                    3.1571,
                    3.6636
                  ]
                }
              ],
              "layout": {
                "legend": {
                  "bgcolor": "#1A1A1C",
                  "font": {
                    "color": "#D9D9D9"
                  }
                },
                "paper_bgcolor": "#1A1A1C",
                "plot_bgcolor": "#1A1A1C",
                "template": {
                  "data": {
                    "bar": [
                      {
                        "error_x": {
                          "color": "#2a3f5f"
                        },
                        "error_y": {
                          "color": "#2a3f5f"
                        },
                        "marker": {
                          "line": {
                            "color": "#E5ECF6",
                            "width": 0.5
                          },
                          "pattern": {
                            "fillmode": "overlay",
                            "size": 10,
                            "solidity": 0.2
                          }
                        },
                        "type": "bar"
                      }
                    ],
                    "barpolar": [
                      {
                        "marker": {
                          "line": {
                            "color": "#E5ECF6",
                            "width": 0.5
                          },
                          "pattern": {
                            "fillmode": "overlay",
                            "size": 10,
                            "solidity": 0.2
                          }
                        },
                        "type": "barpolar"
                      }
                    ],
                    "carpet": [
                      {
                        "aaxis": {
                          "endlinecolor": "#2a3f5f",
                          "gridcolor": "white",
                          "linecolor": "white",
                          "minorgridcolor": "white",
                          "startlinecolor": "#2a3f5f"
                        },
                        "baxis": {
                          "endlinecolor": "#2a3f5f",
                          "gridcolor": "white",
                          "linecolor": "white",
                          "minorgridcolor": "white",
                          "startlinecolor": "#2a3f5f"
                        },
                        "type": "carpet"
                      }
                    ],
                    "choropleth": [
                      {
                        "colorbar": {
                          "outlinewidth": 0,
                          "ticks": ""
                        },
                        "type": "choropleth"
                      }
                    ],
                    "contour": [
                      {
                        "colorbar": {
                          "outlinewidth": 0,
                          "ticks": ""
                        },
                        "colorscale": [
                          [
                            0,
                            "#0d0887"
                          ],
                          [
                            0.1111111111111111,
                            "#46039f"
                          ],
                          [
                            0.2222222222222222,
                            "#7201a8"
                          ],
                          [
                            0.3333333333333333,
                            "#9c179e"
                          ],
                          [
                            0.4444444444444444,
                            "#bd3786"
                          ],
                          [
                            0.5555555555555556,
                            "#d8576b"
                          ],
                          [
                            0.6666666666666666,
                            "#ed7953"
                          ],
                          [
                            0.7777777777777778,
                            "#fb9f3a"
                          ],
                          [
                            0.8888888888888888,
                            "#fdca26"
                          ],
                          [
                            1,
                            "#f0f921"
                          ]
                        ],
                        "type": "contour"
                      }
                    ],
                    "contourcarpet": [
                      {
                        "colorbar": {
                          "outlinewidth": 0,
                          "ticks": ""
                        },
                        "type": "contourcarpet"
                      }
                    ],
                    "heatmap": [
                      {
                        "colorbar": {
                          "outlinewidth": 0,
                          "ticks": ""
                        },
                        "colorscale": [
                          [
                            0,
                            "#0d0887"
                          ],
                          [
                            0.1111111111111111,
                            "#46039f"
                          ],
                          [
                            0.2222222222222222,
                            "#7201a8"
                          ],
                          [
                            0.3333333333333333,
                            "#9c179e"
                          ],
                          [
                            0.4444444444444444,
                            "#bd3786"
                          ],
                          [
                            0.5555555555555556,
                            "#d8576b"
                          ],
                          [
                            0.6666666666666666,
                            "#ed7953"
                          ],
                          [
                            0.7777777777777778,
                            "#fb9f3a"
                          ],
                          [
                            0.8888888888888888,
                            "#fdca26"
                          ],
                          [
                            1,
                            "#f0f921"
                          ]
                        ],
                        "type": "heatmap"
                      }
                    ],
                    "heatmapgl": [
                      {
                        "colorbar": {
                          "outlinewidth": 0,
                          "ticks": ""
                        },
                        "colorscale": [
                          [
                            0,
                            "#0d0887"
                          ],
                          [
                            0.1111111111111111,
                            "#46039f"
                          ],
                          [
                            0.2222222222222222,
                            "#7201a8"
                          ],
                          [
                            0.3333333333333333,
                            "#9c179e"
                          ],
                          [
                            0.4444444444444444,
                            "#bd3786"
                          ],
                          [
                            0.5555555555555556,
                            "#d8576b"
                          ],
                          [
                            0.6666666666666666,
                            "#ed7953"
                          ],
                          [
                            0.7777777777777778,
                            "#fb9f3a"
                          ],
                          [
                            0.8888888888888888,
                            "#fdca26"
                          ],
                          [
                            1,
                            "#f0f921"
                          ]
                        ],
                        "type": "heatmapgl"
                      }
                    ],
                    "histogram": [
                      {
                        "marker": {
                          "pattern": {
                            "fillmode": "overlay",
                            "size": 10,
                            "solidity": 0.2
                          }
                        },
                        "type": "histogram"
                      }
                    ],
                    "histogram2d": [
                      {
                        "colorbar": {
                          "outlinewidth": 0,
                          "ticks": ""
                        },
                        "colorscale": [
                          [
                            0,
                            "#0d0887"
                          ],
                          [
                            0.1111111111111111,
                            "#46039f"
                          ],
                          [
                            0.2222222222222222,
                            "#7201a8"
                          ],
                          [
                            0.3333333333333333,
                            "#9c179e"
                          ],
                          [
                            0.4444444444444444,
                            "#bd3786"
                          ],
                          [
                            0.5555555555555556,
                            "#d8576b"
                          ],
                          [
                            0.6666666666666666,
                            "#ed7953"
                          ],
                          [
                            0.7777777777777778,
                            "#fb9f3a"
                          ],
                          [
                            0.8888888888888888,
                            "#fdca26"
                          ],
                          [
                            1,
                            "#f0f921"
                          ]
                        ],
                        "type": "histogram2d"
                      }
                    ],
                    "histogram2dcontour": [
                      {
                        "colorbar": {
                          "outlinewidth": 0,
                          "ticks": ""
                        },
                        "colorscale": [
                          [
                            0,
                            "#0d0887"
                          ],
                          [
                            0.1111111111111111,
                            "#46039f"
                          ],
                          [
                            0.2222222222222222,
                            "#7201a8"
                          ],
                          [
                            0.3333333333333333,
                            "#9c179e"
                          ],
                          [
                            0.4444444444444444,
                            "#bd3786"
                          ],
                          [
                            0.5555555555555556,
                            "#d8576b"
                          ],
                          [
                            0.6666666666666666,
                            "#ed7953"
                          ],
                          [
                            0.7777777777777778,
                            "#fb9f3a"
                          ],
                          [
                            0.8888888888888888,
                            "#fdca26"
                          ],
                          [
                            1,
                            "#f0f921"
                          ]
                        ],
                        "type": "histogram2dcontour"
                      }
                    ],
                    "mesh3d": [
                      {
                        "colorbar": {
                          "outlinewidth": 0,
                          "ticks": ""
                        },
                        "type": "mesh3d"
                      }
                    ],
                    "parcoords": [
                      {
                        "line": {
                          "colorbar": {
                            "outlinewidth": 0,
                            "ticks": ""
                          }
                        },
                        "type": "parcoords"
                      }
                    ],
                    "pie": [
                      {
                        "automargin": true,
                        "type": "pie"
                      }
                    ],
                    "scatter": [
                      {
                        "marker": {
                          "colorbar": {
                            "outlinewidth": 0,
                            "ticks": ""
                          }
                        },
                        "type": "scatter"
                      }
                    ],
                    "scatter3d": [
                      {
                        "line": {
                          "colorbar": {
                            "outlinewidth": 0,
                            "ticks": ""
                          }
                        },
                        "marker": {
                          "colorbar": {
                            "outlinewidth": 0,
                            "ticks": ""
                          }
                        },
                        "type": "scatter3d"
                      }
                    ],
                    "scattercarpet": [
                      {
                        "marker": {
                          "colorbar": {
                            "outlinewidth": 0,
                            "ticks": ""
                          }
                        },
                        "type": "scattercarpet"
                      }
                    ],
                    "scattergeo": [
                      {
                        "marker": {
                          "colorbar": {
                            "outlinewidth": 0,
                            "ticks": ""
                          }
                        },
                        "type": "scattergeo"
                      }
                    ],
                    "scattergl": [
                      {
                        "marker": {
                          "colorbar": {
                            "outlinewidth": 0,
                            "ticks": ""
                          }
                        },
                        "type": "scattergl"
                      }
                    ],
                    "scattermapbox": [
                      {
                        "marker": {
                          "colorbar": {
                            "outlinewidth": 0,
                            "ticks": ""
                          }
                        },
                        "type": "scattermapbox"
                      }
                    ],
                    "scatterpolar": [
                      {
                        "marker": {
                          "colorbar": {
                            "outlinewidth": 0,
                            "ticks": ""
                          }
                        },
                        "type": "scatterpolar"
                      }
                    ],
                    "scatterpolargl": [
                      {
                        "marker": {
                          "colorbar": {
                            "outlinewidth": 0,
                            "ticks": ""
                          }
                        },
                        "type": "scatterpolargl"
                      }
                    ],
                    "scatterternary": [
                      {
                        "marker": {
                          "colorbar": {
                            "outlinewidth": 0,
                            "ticks": ""
                          }
                        },
                        "type": "scatterternary"
                      }
                    ],
                    "surface": [
                      {
                        "colorbar": {
                          "outlinewidth": 0,
                          "ticks": ""
                        },
                        "colorscale": [
                          [
                            0,
                            "#0d0887"
                          ],
                          [
                            0.1111111111111111,
                            "#46039f"
                          ],
                          [
                            0.2222222222222222,
                            "#7201a8"
                          ],
                          [
                            0.3333333333333333,
                            "#9c179e"
                          ],
                          [
                            0.4444444444444444,
                            "#bd3786"
                          ],
                          [
                            0.5555555555555556,
                            "#d8576b"
                          ],
                          [
                            0.6666666666666666,
                            "#ed7953"
                          ],
                          [
                            0.7777777777777778,
                            "#fb9f3a"
                          ],
                          [
                            0.8888888888888888,
                            "#fdca26"
                          ],
                          [
                            1,
                            "#f0f921"
                          ]
                        ],
                        "type": "surface"
                      }
                    ],
                    "table": [
                      {
                        "cells": {
                          "fill": {
                            "color": "#EBF0F8"
                          },
                          "line": {
                            "color": "white"
                          }
                        },
                        "header": {
                          "fill": {
                            "color": "#C8D4E3"
                          },
                          "line": {
                            "color": "white"
                          }
                        },
                        "type": "table"
                      }
                    ]
                  },
                  "layout": {
                    "annotationdefaults": {
                      "arrowcolor": "#2a3f5f",
                      "arrowhead": 0,
                      "arrowwidth": 1
                    },
                    "autotypenumbers": "strict",
                    "coloraxis": {
                      "colorbar": {
                        "outlinewidth": 0,
                        "ticks": ""
                      }
                    },
                    "colorscale": {
                      "diverging": [
                        [
                          0,
                          "#8e0152"
                        ],
                        [
                          0.1,
                          "#c51b7d"
                        ],
                        [
                          0.2,
                          "#de77ae"
                        ],
                        [
                          0.3,
                          "#f1b6da"
                        ],
                        [
                          0.4,
                          "#fde0ef"
                        ],
                        [
                          0.5,
                          "#f7f7f7"
                        ],
                        [
                          0.6,
                          "#e6f5d0"
                        ],
                        [
                          0.7,
                          "#b8e186"
                        ],
                        [
                          0.8,
                          "#7fbc41"
                        ],
                        [
                          0.9,
                          "#4d9221"
                        ],
                        [
                          1,
                          "#276419"
                        ]
                      ],
                      "sequential": [
                        [
                          0,
                          "#0d0887"
                        ],
                        [
                          0.1111111111111111,
                          "#46039f"
                        ],
                        [
                          0.2222222222222222,
                          "#7201a8"
                        ],
                        [
                          0.3333333333333333,
                          "#9c179e"
                        ],
                        [
                          0.4444444444444444,
                          "#bd3786"
                        ],
                        [
                          0.5555555555555556,
                          "#d8576b"
                        ],
                        [
                          0.6666666666666666,
                          "#ed7953"
                        ],
                        [
                          0.7777777777777778,
                          "#fb9f3a"
                        ],
                        [
                          0.8888888888888888,
                          "#fdca26"
                        ],
                        [
                          1,
                          "#f0f921"
                        ]
                      ],
                      "sequentialminus": [
                        [
                          0,
                          "#0d0887"
                        ],
                        [
                          0.1111111111111111,
                          "#46039f"
                        ],
                        [
                          0.2222222222222222,
                          "#7201a8"
                        ],
                        [
                          0.3333333333333333,
                          "#9c179e"
                        ],
                        [
                          0.4444444444444444,
                          "#bd3786"
                        ],
                        [
                          0.5555555555555556,
                          "#d8576b"
                        ],
                        [
                          0.6666666666666666,
                          "#ed7953"
                        ],
                        [
                          0.7777777777777778,
                          "#fb9f3a"
                        ],
                        [
                          0.8888888888888888,
                          "#fdca26"
                        ],
                        [
                          1,
                          "#f0f921"
                        ]
                      ]
                    },
                    "colorway": [
                      "#636efa",
                      "#EF553B",
                      "#00cc96",
                      "#ab63fa",
                      "#FFA15A",
                      "#19d3f3",
                      "#FF6692",
                      "#B6E880",
                      "#FF97FF",
                      "#FECB52"
                    ],
                    "font": {
                      "color": "#2a3f5f"
                    },
                    "geo": {
                      "bgcolor": "white",
                      "lakecolor": "white",
                      "landcolor": "#E5ECF6",
                      "showlakes": true,
                      "showland": true,
                      "subunitcolor": "white"
                    },
                    "hoverlabel": {
                      "align": "left"
                    },
                    "hovermode": "closest",
                    "mapbox": {
                      "style": "light"
                    },
                    "paper_bgcolor": "white",
                    "plot_bgcolor": "#E5ECF6",
                    "polar": {
                      "angularaxis": {
                        "gridcolor": "white",
                        "linecolor": "white",
                        "ticks": ""
                      },
                      "bgcolor": "#E5ECF6",
                      "radialaxis": {
                        "gridcolor": "white",
                        "linecolor": "white",
                        "ticks": ""
                      }
                    },
                    "scene": {
                      "xaxis": {
                        "backgroundcolor": "#E5ECF6",
                        "gridcolor": "white",
                        "gridwidth": 2,
                        "linecolor": "white",
                        "showbackground": true,
                        "ticks": "",
                        "zerolinecolor": "white"
                      },
                      "yaxis": {
                        "backgroundcolor": "#E5ECF6",
                        "gridcolor": "white",
                        "gridwidth": 2,
                        "linecolor": "white",
                        "showbackground": true,
                        "ticks": "",
                        "zerolinecolor": "white"
                      },
                      "zaxis": {
                        "backgroundcolor": "#E5ECF6",
                        "gridcolor": "white",
                        "gridwidth": 2,
                        "linecolor": "white",
                        "showbackground": true,
                        "ticks": "",
                        "zerolinecolor": "white"
                      }
                    },
                    "shapedefaults": {
                      "line": {
                        "color": "#2a3f5f"
                      }
                    },
                    "ternary": {
                      "aaxis": {
                        "gridcolor": "white",
                        "linecolor": "white",
                        "ticks": ""
                      },
                      "baxis": {
                        "gridcolor": "white",
                        "linecolor": "white",
                        "ticks": ""
                      },
                      "bgcolor": "#E5ECF6",
                      "caxis": {
                        "gridcolor": "white",
                        "linecolor": "white",
                        "ticks": ""
                      }
                    },
                    "title": {
                      "x": 0.05
                    },
                    "xaxis": {
                      "automargin": true,
                      "gridcolor": "white",
                      "linecolor": "white",
                      "ticks": "",
                      "title": {
                        "standoff": 15
                      },
                      "zerolinecolor": "white",
                      "zerolinewidth": 2
                    },
                    "yaxis": {
                      "automargin": true,
                      "gridcolor": "white",
                      "linecolor": "white",
                      "ticks": "",
                      "title": {
                        "standoff": 15
                      },
                      "zerolinecolor": "white",
                      "zerolinewidth": 2
                    }
                  }
                },
                "title": {
                  "font": {
                    "color": "#D9D9D9"
                  },
                  "text": "Fish Height vs Fish Width Bubble Chart"
                },
                "xaxis": {
                  "gridcolor": "#434343",
                  "showgrid": true,
                  "tickfont": {
                    "color": "#C2C2C2"
                  },
                  "title": {
                    "font": {
                      "color": "#D9D9D9"
                    },
                    "text": "Fish Height"
                  },
                  "zerolinecolor": "#666570"
                },
                "yaxis": {
                  "gridcolor": "#434343",
                  "showgrid": true,
                  "tickfont": {
                    "color": "#C2C2C2"
                  },
                  "title": {
                    "font": {
                      "color": "#D9D9D9"
                    },
                    "text": "Fish Width"
                  },
                  "zerolinecolor": "#666570"
                }
              }
            },
            "text/html": [
              "<div>                            <div id=\"2944a369-60fb-4c8e-a783-d8282c80f468\" class=\"plotly-graph-div\" style=\"height:525px; width:100%;\"></div>            <script type=\"text/javascript\">                require([\"plotly\"], function(Plotly) {                    window.PLOTLYENV=window.PLOTLYENV || {};\n",
              "                    window.PLOTLYENV.BASE_URL='https://plot.ly';                                    if (document.getElementById(\"2944a369-60fb-4c8e-a783-d8282c80f468\")) {                    Plotly.newPlot(                        \"2944a369-60fb-4c8e-a783-d8282c80f468\",                        [{\"marker\":{\"color\":[\"tomato\",\"tomato\",\"tomato\",\"tomato\",\"tomato\",\"tomato\",\"tomato\",\"tomato\",\"tomato\",\"tomato\",\"tomato\",\"tomato\",\"tomato\",\"tomato\",\"tomato\",\"tomato\",\"tomato\",\"tomato\",\"tomato\",\"tomato\",\"tomato\",\"tomato\",\"tomato\",\"tomato\",\"tomato\",\"tomato\",\"tomato\",\"tomato\",\"tomato\",\"tomato\",\"tomato\",\"tomato\",\"tomato\",\"tomato\",\"tomato\",\"tomato\",\"tomato\",\"tomato\",\"tomato\",\"tomato\",\"tomato\",\"tomato\",\"tomato\",\"tomato\",\"tomato\",\"tomato\",\"tomato\",\"tomato\",\"tomato\",\"tomato\",\"tomato\",\"tomato\",\"tomato\",\"tomato\",\"tomato\",\"tomato\",\"tomato\",\"tomato\",\"tomato\",\"tomato\",\"tomato\",\"tomato\",\"tomato\",\"tomato\",\"tomato\",\"tomato\",\"tomato\",\"tomato\",\"tomato\",\"tomato\"],\"line\":{\"width\":1.3},\"size\":[51,57,66,60,75,71,79,66,69,72,75,68,58,74,76,85,79,77,75,89,85,81,79,98,86,96,97,91,99,108,102,101,112,111,103,12,24,26,32,41,36,37,34,45,40,46,35,46,46,42,53,48,61,67,80,56,56,65,107,108,106,13,13,21,26,34,34,37,31,43],\"symbol\":\"circle\"},\"mode\":\"markers\",\"text\":\"\",\"type\":\"scatter\",\"x\":[11.52,12.48,12.3778,12.73,12.444,13.6024,14.1795,12.67,14.0049,14.2266,14.2628,14.3714,13.7592,13.9129,14.9544,15.438,14.8604,14.938,15.633,14.4738,15.1285,15.9936,15.5227,15.4686,16.2405,16.36,16.3618,16.517,16.8896,18.957,18.0369,18.084,18.7542,18.6354,17.6235,4.1472,5.2983,5.5756,5.6166,6.216,6.4752,6.1677,6.1146,5.8045,6.6339,7.0334,6.55,6.4,7.5344,6.9153,7.3968,7.0866,8.8768,8.568,9.485,8.3804,8.1454,8.778,10.744,11.7612,12.354,6.8475,6.5772,7.4052,8.3922,8.8928,8.5376,9.396,9.7364,10.3458],\"y\":[4.02,4.3056,4.6961,4.4555,5.134,4.9274,5.2785,4.69,4.8438,4.9594,5.1042,4.8146,4.368,5.0728,5.1708,5.58,5.2854,5.1975,5.1338,5.7276,5.5695,5.3704,5.2801,6.1306,5.589,6.0532,6.09,5.8515,6.1984,6.603,6.3063,6.292,6.7497,6.7473,6.3705,2.268,2.8217,2.9044,3.1746,3.5742,3.3516,3.3957,3.2943,3.7544,3.5478,3.8203,3.325,3.8,3.8352,3.6312,4.1272,3.906,4.4968,4.7736,5.355,4.2476,4.2485,4.6816,6.562,6.5736,6.525,2.3265,2.3142,2.673,2.9181,3.2928,3.2944,3.4104,3.1571,3.6636]}],                        {\"legend\":{\"bgcolor\":\"#1A1A1C\",\"font\":{\"color\":\"#D9D9D9\"}},\"paper_bgcolor\":\"#1A1A1C\",\"plot_bgcolor\":\"#1A1A1C\",\"template\":{\"data\":{\"bar\":[{\"error_x\":{\"color\":\"#2a3f5f\"},\"error_y\":{\"color\":\"#2a3f5f\"},\"marker\":{\"line\":{\"color\":\"#E5ECF6\",\"width\":0.5},\"pattern\":{\"fillmode\":\"overlay\",\"size\":10,\"solidity\":0.2}},\"type\":\"bar\"}],\"barpolar\":[{\"marker\":{\"line\":{\"color\":\"#E5ECF6\",\"width\":0.5},\"pattern\":{\"fillmode\":\"overlay\",\"size\":10,\"solidity\":0.2}},\"type\":\"barpolar\"}],\"carpet\":[{\"aaxis\":{\"endlinecolor\":\"#2a3f5f\",\"gridcolor\":\"white\",\"linecolor\":\"white\",\"minorgridcolor\":\"white\",\"startlinecolor\":\"#2a3f5f\"},\"baxis\":{\"endlinecolor\":\"#2a3f5f\",\"gridcolor\":\"white\",\"linecolor\":\"white\",\"minorgridcolor\":\"white\",\"startlinecolor\":\"#2a3f5f\"},\"type\":\"carpet\"}],\"choropleth\":[{\"colorbar\":{\"outlinewidth\":0,\"ticks\":\"\"},\"type\":\"choropleth\"}],\"contour\":[{\"colorbar\":{\"outlinewidth\":0,\"ticks\":\"\"},\"colorscale\":[[0.0,\"#0d0887\"],[0.1111111111111111,\"#46039f\"],[0.2222222222222222,\"#7201a8\"],[0.3333333333333333,\"#9c179e\"],[0.4444444444444444,\"#bd3786\"],[0.5555555555555556,\"#d8576b\"],[0.6666666666666666,\"#ed7953\"],[0.7777777777777778,\"#fb9f3a\"],[0.8888888888888888,\"#fdca26\"],[1.0,\"#f0f921\"]],\"type\":\"contour\"}],\"contourcarpet\":[{\"colorbar\":{\"outlinewidth\":0,\"ticks\":\"\"},\"type\":\"contourcarpet\"}],\"heatmap\":[{\"colorbar\":{\"outlinewidth\":0,\"ticks\":\"\"},\"colorscale\":[[0.0,\"#0d0887\"],[0.1111111111111111,\"#46039f\"],[0.2222222222222222,\"#7201a8\"],[0.3333333333333333,\"#9c179e\"],[0.4444444444444444,\"#bd3786\"],[0.5555555555555556,\"#d8576b\"],[0.6666666666666666,\"#ed7953\"],[0.7777777777777778,\"#fb9f3a\"],[0.8888888888888888,\"#fdca26\"],[1.0,\"#f0f921\"]],\"type\":\"heatmap\"}],\"heatmapgl\":[{\"colorbar\":{\"outlinewidth\":0,\"ticks\":\"\"},\"colorscale\":[[0.0,\"#0d0887\"],[0.1111111111111111,\"#46039f\"],[0.2222222222222222,\"#7201a8\"],[0.3333333333333333,\"#9c179e\"],[0.4444444444444444,\"#bd3786\"],[0.5555555555555556,\"#d8576b\"],[0.6666666666666666,\"#ed7953\"],[0.7777777777777778,\"#fb9f3a\"],[0.8888888888888888,\"#fdca26\"],[1.0,\"#f0f921\"]],\"type\":\"heatmapgl\"}],\"histogram\":[{\"marker\":{\"pattern\":{\"fillmode\":\"overlay\",\"size\":10,\"solidity\":0.2}},\"type\":\"histogram\"}],\"histogram2d\":[{\"colorbar\":{\"outlinewidth\":0,\"ticks\":\"\"},\"colorscale\":[[0.0,\"#0d0887\"],[0.1111111111111111,\"#46039f\"],[0.2222222222222222,\"#7201a8\"],[0.3333333333333333,\"#9c179e\"],[0.4444444444444444,\"#bd3786\"],[0.5555555555555556,\"#d8576b\"],[0.6666666666666666,\"#ed7953\"],[0.7777777777777778,\"#fb9f3a\"],[0.8888888888888888,\"#fdca26\"],[1.0,\"#f0f921\"]],\"type\":\"histogram2d\"}],\"histogram2dcontour\":[{\"colorbar\":{\"outlinewidth\":0,\"ticks\":\"\"},\"colorscale\":[[0.0,\"#0d0887\"],[0.1111111111111111,\"#46039f\"],[0.2222222222222222,\"#7201a8\"],[0.3333333333333333,\"#9c179e\"],[0.4444444444444444,\"#bd3786\"],[0.5555555555555556,\"#d8576b\"],[0.6666666666666666,\"#ed7953\"],[0.7777777777777778,\"#fb9f3a\"],[0.8888888888888888,\"#fdca26\"],[1.0,\"#f0f921\"]],\"type\":\"histogram2dcontour\"}],\"mesh3d\":[{\"colorbar\":{\"outlinewidth\":0,\"ticks\":\"\"},\"type\":\"mesh3d\"}],\"parcoords\":[{\"line\":{\"colorbar\":{\"outlinewidth\":0,\"ticks\":\"\"}},\"type\":\"parcoords\"}],\"pie\":[{\"automargin\":true,\"type\":\"pie\"}],\"scatter\":[{\"marker\":{\"colorbar\":{\"outlinewidth\":0,\"ticks\":\"\"}},\"type\":\"scatter\"}],\"scatter3d\":[{\"line\":{\"colorbar\":{\"outlinewidth\":0,\"ticks\":\"\"}},\"marker\":{\"colorbar\":{\"outlinewidth\":0,\"ticks\":\"\"}},\"type\":\"scatter3d\"}],\"scattercarpet\":[{\"marker\":{\"colorbar\":{\"outlinewidth\":0,\"ticks\":\"\"}},\"type\":\"scattercarpet\"}],\"scattergeo\":[{\"marker\":{\"colorbar\":{\"outlinewidth\":0,\"ticks\":\"\"}},\"type\":\"scattergeo\"}],\"scattergl\":[{\"marker\":{\"colorbar\":{\"outlinewidth\":0,\"ticks\":\"\"}},\"type\":\"scattergl\"}],\"scattermapbox\":[{\"marker\":{\"colorbar\":{\"outlinewidth\":0,\"ticks\":\"\"}},\"type\":\"scattermapbox\"}],\"scatterpolar\":[{\"marker\":{\"colorbar\":{\"outlinewidth\":0,\"ticks\":\"\"}},\"type\":\"scatterpolar\"}],\"scatterpolargl\":[{\"marker\":{\"colorbar\":{\"outlinewidth\":0,\"ticks\":\"\"}},\"type\":\"scatterpolargl\"}],\"scatterternary\":[{\"marker\":{\"colorbar\":{\"outlinewidth\":0,\"ticks\":\"\"}},\"type\":\"scatterternary\"}],\"surface\":[{\"colorbar\":{\"outlinewidth\":0,\"ticks\":\"\"},\"colorscale\":[[0.0,\"#0d0887\"],[0.1111111111111111,\"#46039f\"],[0.2222222222222222,\"#7201a8\"],[0.3333333333333333,\"#9c179e\"],[0.4444444444444444,\"#bd3786\"],[0.5555555555555556,\"#d8576b\"],[0.6666666666666666,\"#ed7953\"],[0.7777777777777778,\"#fb9f3a\"],[0.8888888888888888,\"#fdca26\"],[1.0,\"#f0f921\"]],\"type\":\"surface\"}],\"table\":[{\"cells\":{\"fill\":{\"color\":\"#EBF0F8\"},\"line\":{\"color\":\"white\"}},\"header\":{\"fill\":{\"color\":\"#C8D4E3\"},\"line\":{\"color\":\"white\"}},\"type\":\"table\"}]},\"layout\":{\"annotationdefaults\":{\"arrowcolor\":\"#2a3f5f\",\"arrowhead\":0,\"arrowwidth\":1},\"autotypenumbers\":\"strict\",\"coloraxis\":{\"colorbar\":{\"outlinewidth\":0,\"ticks\":\"\"}},\"colorscale\":{\"diverging\":[[0,\"#8e0152\"],[0.1,\"#c51b7d\"],[0.2,\"#de77ae\"],[0.3,\"#f1b6da\"],[0.4,\"#fde0ef\"],[0.5,\"#f7f7f7\"],[0.6,\"#e6f5d0\"],[0.7,\"#b8e186\"],[0.8,\"#7fbc41\"],[0.9,\"#4d9221\"],[1,\"#276419\"]],\"sequential\":[[0.0,\"#0d0887\"],[0.1111111111111111,\"#46039f\"],[0.2222222222222222,\"#7201a8\"],[0.3333333333333333,\"#9c179e\"],[0.4444444444444444,\"#bd3786\"],[0.5555555555555556,\"#d8576b\"],[0.6666666666666666,\"#ed7953\"],[0.7777777777777778,\"#fb9f3a\"],[0.8888888888888888,\"#fdca26\"],[1.0,\"#f0f921\"]],\"sequentialminus\":[[0.0,\"#0d0887\"],[0.1111111111111111,\"#46039f\"],[0.2222222222222222,\"#7201a8\"],[0.3333333333333333,\"#9c179e\"],[0.4444444444444444,\"#bd3786\"],[0.5555555555555556,\"#d8576b\"],[0.6666666666666666,\"#ed7953\"],[0.7777777777777778,\"#fb9f3a\"],[0.8888888888888888,\"#fdca26\"],[1.0,\"#f0f921\"]]},\"colorway\":[\"#636efa\",\"#EF553B\",\"#00cc96\",\"#ab63fa\",\"#FFA15A\",\"#19d3f3\",\"#FF6692\",\"#B6E880\",\"#FF97FF\",\"#FECB52\"],\"font\":{\"color\":\"#2a3f5f\"},\"geo\":{\"bgcolor\":\"white\",\"lakecolor\":\"white\",\"landcolor\":\"#E5ECF6\",\"showlakes\":true,\"showland\":true,\"subunitcolor\":\"white\"},\"hoverlabel\":{\"align\":\"left\"},\"hovermode\":\"closest\",\"mapbox\":{\"style\":\"light\"},\"paper_bgcolor\":\"white\",\"plot_bgcolor\":\"#E5ECF6\",\"polar\":{\"angularaxis\":{\"gridcolor\":\"white\",\"linecolor\":\"white\",\"ticks\":\"\"},\"bgcolor\":\"#E5ECF6\",\"radialaxis\":{\"gridcolor\":\"white\",\"linecolor\":\"white\",\"ticks\":\"\"}},\"scene\":{\"xaxis\":{\"backgroundcolor\":\"#E5ECF6\",\"gridcolor\":\"white\",\"gridwidth\":2,\"linecolor\":\"white\",\"showbackground\":true,\"ticks\":\"\",\"zerolinecolor\":\"white\"},\"yaxis\":{\"backgroundcolor\":\"#E5ECF6\",\"gridcolor\":\"white\",\"gridwidth\":2,\"linecolor\":\"white\",\"showbackground\":true,\"ticks\":\"\",\"zerolinecolor\":\"white\"},\"zaxis\":{\"backgroundcolor\":\"#E5ECF6\",\"gridcolor\":\"white\",\"gridwidth\":2,\"linecolor\":\"white\",\"showbackground\":true,\"ticks\":\"\",\"zerolinecolor\":\"white\"}},\"shapedefaults\":{\"line\":{\"color\":\"#2a3f5f\"}},\"ternary\":{\"aaxis\":{\"gridcolor\":\"white\",\"linecolor\":\"white\",\"ticks\":\"\"},\"baxis\":{\"gridcolor\":\"white\",\"linecolor\":\"white\",\"ticks\":\"\"},\"bgcolor\":\"#E5ECF6\",\"caxis\":{\"gridcolor\":\"white\",\"linecolor\":\"white\",\"ticks\":\"\"}},\"title\":{\"x\":0.05},\"xaxis\":{\"automargin\":true,\"gridcolor\":\"white\",\"linecolor\":\"white\",\"ticks\":\"\",\"title\":{\"standoff\":15},\"zerolinecolor\":\"white\",\"zerolinewidth\":2},\"yaxis\":{\"automargin\":true,\"gridcolor\":\"white\",\"linecolor\":\"white\",\"ticks\":\"\",\"title\":{\"standoff\":15},\"zerolinecolor\":\"white\",\"zerolinewidth\":2}}},\"title\":{\"font\":{\"color\":\"#D9D9D9\"},\"text\":\"Fish Height vs Fish Width Bubble Chart\"},\"xaxis\":{\"gridcolor\":\"#434343\",\"showgrid\":true,\"tickfont\":{\"color\":\"#C2C2C2\"},\"title\":{\"font\":{\"color\":\"#D9D9D9\"},\"text\":\"Fish Height\"},\"zerolinecolor\":\"#666570\"},\"yaxis\":{\"gridcolor\":\"#434343\",\"showgrid\":true,\"tickfont\":{\"color\":\"#C2C2C2\"},\"title\":{\"font\":{\"color\":\"#D9D9D9\"},\"text\":\"Fish Width\"},\"zerolinecolor\":\"#666570\"}},                        {\"showLink\": true, \"linkText\": \"Export to plot.ly\", \"plotlyServerURL\": \"https://plot.ly\", \"responsive\": true}                    ).then(function(){\n",
              "                            \n",
              "var gd = document.getElementById('2944a369-60fb-4c8e-a783-d8282c80f468');\n",
              "var x = new MutationObserver(function (mutations, observer) {{\n",
              "        var display = window.getComputedStyle(gd).display;\n",
              "        if (!display || display === 'none') {{\n",
              "            console.log([gd, 'removed!']);\n",
              "            Plotly.purge(gd);\n",
              "            observer.disconnect();\n",
              "        }}\n",
              "}});\n",
              "\n",
              "// Listen for the removal of the full notebook cells\n",
              "var notebookContainer = gd.closest('#notebook-container');\n",
              "if (notebookContainer) {{\n",
              "    x.observe(notebookContainer, {childList: true});\n",
              "}}\n",
              "\n",
              "// Listen for the clearing of the current output cell\n",
              "var outputEl = gd.closest('.output');\n",
              "if (outputEl) {{\n",
              "    x.observe(outputEl, {childList: true});\n",
              "}}\n",
              "\n",
              "                        })                };                });            </script>        </div>"
            ]
          },
          "metadata": {},
          "output_type": "display_data"
        }
      ],
      "source": [
        "df[:70].iplot(kind=\"bubble\", x=\"Height\", y=\"Width\", size=\"Width\",\n",
        "              colors=[\"tomato\"],\n",
        "              xTitle=\"Fish Height\", yTitle=\"Fish Width\",\n",
        "              title=\"Fish Height vs Fish Width Bubble Chart\")"
      ]
    },
    {
      "cell_type": "code",
      "execution_count": 22,
      "metadata": {
        "colab": {
          "base_uri": "https://localhost:8080/",
          "height": 546
        },
        "id": "6yVMd9gOgvpA",
        "outputId": "41ad4b9e-e30d-48b9-a05b-64b15b5b18ff"
      },
      "outputs": [
        {
          "data": {
            "application/vnd.plotly.v1+json": {
              "config": {
                "linkText": "Export to plot.ly",
                "plotlyServerURL": "https://plot.ly",
                "showLink": true
              },
              "data": [
                {
                  "marker": {
                    "color": [
                      "rgba(30, 144, 255, 1.0)",
                      "rgba(0, 255, 0, 1.0)",
                      "rgba(255, 99, 71, 1.0)",
                      "rgba(255, 99, 71, 0.976)",
                      "rgba(30, 144, 255, 0.976)",
                      "rgba(0, 255, 0, 0.976)",
                      "rgba(0, 255, 0, 0.952)",
                      "rgba(255, 99, 71, 0.952)",
                      "rgba(30, 144, 255, 0.952)",
                      "rgba(30, 144, 255, 0.9279999999999999)",
                      "rgba(0, 255, 0, 0.9279999999999999)",
                      "rgba(255, 99, 71, 0.9279999999999999)",
                      "rgba(255, 99, 71, 0.9039999999999999)",
                      "rgba(30, 144, 255, 0.9039999999999999)",
                      "rgba(0, 255, 0, 0.9039999999999999)",
                      "rgba(0, 255, 0, 0.8800000000000001)",
                      "rgba(255, 99, 71, 0.8800000000000001)",
                      "rgba(30, 144, 255, 0.8800000000000001)",
                      "rgba(30, 144, 255, 0.8560000000000001)",
                      "rgba(0, 255, 0, 0.8560000000000001)",
                      "rgba(255, 99, 71, 0.8560000000000001)",
                      "rgba(255, 99, 71, 0.8320000000000001)",
                      "rgba(30, 144, 255, 0.8320000000000001)",
                      "rgba(0, 255, 0, 0.8320000000000001)",
                      "rgba(0, 255, 0, 0.808)",
                      "rgba(255, 99, 71, 0.808)",
                      "rgba(30, 144, 255, 0.808)",
                      "rgba(30, 144, 255, 0.784)",
                      "rgba(0, 255, 0, 0.784)",
                      "rgba(255, 99, 71, 0.784)",
                      "rgba(255, 99, 71, 0.76)",
                      "rgba(30, 144, 255, 0.76)",
                      "rgba(0, 255, 0, 0.76)",
                      "rgba(0, 255, 0, 0.736)",
                      "rgba(255, 99, 71, 0.736)",
                      "rgba(30, 144, 255, 0.736)",
                      "rgba(30, 144, 255, 0.712)",
                      "rgba(0, 255, 0, 0.712)",
                      "rgba(255, 99, 71, 0.712)",
                      "rgba(255, 99, 71, 0.688)",
                      "rgba(30, 144, 255, 0.688)",
                      "rgba(0, 255, 0, 0.688)",
                      "rgba(0, 255, 0, 0.6640000000000001)",
                      "rgba(255, 99, 71, 0.6640000000000001)",
                      "rgba(30, 144, 255, 0.6640000000000001)",
                      "rgba(30, 144, 255, 0.6400000000000001)",
                      "rgba(0, 255, 0, 0.6400000000000001)",
                      "rgba(255, 99, 71, 0.6400000000000001)",
                      "rgba(255, 99, 71, 0.6160000000000001)",
                      "rgba(30, 144, 255, 0.6160000000000001)",
                      "rgba(0, 255, 0, 0.6160000000000001)",
                      "rgba(0, 255, 0, 0.5920000000000001)",
                      "rgba(255, 99, 71, 0.5920000000000001)",
                      "rgba(30, 144, 255, 0.5920000000000001)",
                      "rgba(30, 144, 255, 0.5680000000000001)",
                      "rgba(0, 255, 0, 0.5680000000000001)",
                      "rgba(255, 99, 71, 0.5680000000000001)",
                      "rgba(255, 99, 71, 0.544)",
                      "rgba(30, 144, 255, 0.544)",
                      "rgba(0, 255, 0, 0.544)",
                      "rgba(0, 255, 0, 0.52)",
                      "rgba(255, 99, 71, 0.52)",
                      "rgba(30, 144, 255, 0.52)",
                      "rgba(30, 144, 255, 0.49600000000000005)",
                      "rgba(0, 255, 0, 0.49600000000000005)",
                      "rgba(255, 99, 71, 0.49600000000000005)",
                      "rgba(255, 99, 71, 0.47200000000000025)",
                      "rgba(30, 144, 255, 0.47200000000000025)",
                      "rgba(0, 255, 0, 0.47200000000000025)",
                      "rgba(0, 255, 0, 0.44800000000000023)",
                      "rgba(255, 99, 71, 0.44800000000000023)",
                      "rgba(30, 144, 255, 0.44800000000000023)",
                      "rgba(30, 144, 255, 0.4240000000000002)",
                      "rgba(0, 255, 0, 0.4240000000000002)",
                      "rgba(255, 99, 71, 0.4240000000000002)",
                      "rgba(255, 99, 71, 0.4000000000000002)",
                      "rgba(30, 144, 255, 0.4000000000000002)",
                      "rgba(0, 255, 0, 0.4000000000000002)",
                      "rgba(0, 255, 0, 0.37600000000000017)",
                      "rgba(255, 99, 71, 0.37600000000000017)",
                      "rgba(30, 144, 255, 0.37600000000000017)",
                      "rgba(30, 144, 255, 0.35200000000000015)",
                      "rgba(0, 255, 0, 0.35200000000000015)",
                      "rgba(255, 99, 71, 0.35200000000000015)",
                      "rgba(255, 99, 71, 0.3280000000000001)",
                      "rgba(30, 144, 255, 0.3280000000000001)",
                      "rgba(0, 255, 0, 0.3280000000000001)",
                      "rgba(0, 255, 0, 0.3040000000000001)",
                      "rgba(255, 99, 71, 0.3040000000000001)",
                      "rgba(30, 144, 255, 0.3040000000000001)",
                      "rgba(30, 144, 255, 0.2800000000000003)",
                      "rgba(0, 255, 0, 0.2800000000000003)",
                      "rgba(255, 99, 71, 0.2800000000000003)",
                      "rgba(255, 99, 71, 0.2560000000000003)",
                      "rgba(30, 144, 255, 0.2560000000000003)",
                      "rgba(0, 255, 0, 0.2560000000000003)",
                      "rgba(0, 255, 0, 0.23200000000000026)",
                      "rgba(255, 99, 71, 0.23200000000000026)",
                      "rgba(30, 144, 255, 0.23200000000000026)",
                      "rgba(30, 144, 255, 0.20800000000000024)"
                    ],
                    "opacity": 0.8,
                    "size": [
                      60,
                      66,
                      73,
                      69,
                      81,
                      77,
                      84,
                      73,
                      76,
                      78,
                      81,
                      75,
                      67,
                      80,
                      82,
                      90,
                      84,
                      82,
                      81,
                      92,
                      89,
                      86,
                      84,
                      100,
                      90,
                      98,
                      99,
                      95,
                      101,
                      109,
                      103,
                      103,
                      112,
                      111,
                      104,
                      28,
                      38,
                      40,
                      45,
                      52,
                      48,
                      49,
                      47,
                      55,
                      52,
                      57,
                      47,
                      56,
                      57,
                      53,
                      62,
                      58,
                      69,
                      75,
                      85,
                      65,
                      65,
                      73,
                      108,
                      108,
                      107,
                      29,
                      28,
                      35,
                      40,
                      47,
                      47,
                      49,
                      44,
                      54,
                      63,
                      64,
                      12,
                      23,
                      31,
                      34,
                      40,
                      47,
                      44,
                      42,
                      42,
                      37,
                      52,
                      47,
                      54,
                      51,
                      49,
                      51,
                      51,
                      51,
                      60,
                      53,
                      53,
                      53,
                      53,
                      55,
                      55,
                      57,
                      63,
                      54
                    ],
                    "symbol": "circle"
                  },
                  "mode": "markers",
                  "text": [
                    "0",
                    "1",
                    "2",
                    "3",
                    "4",
                    "5",
                    "6",
                    "7",
                    "8",
                    "9",
                    "10",
                    "11",
                    "12",
                    "13",
                    "14",
                    "15",
                    "16",
                    "17",
                    "18",
                    "19",
                    "20",
                    "21",
                    "22",
                    "23",
                    "24",
                    "25",
                    "26",
                    "27",
                    "28",
                    "29",
                    "30",
                    "31",
                    "32",
                    "33",
                    "34",
                    "35",
                    "36",
                    "37",
                    "38",
                    "39",
                    "40",
                    "41",
                    "42",
                    "43",
                    "44",
                    "45",
                    "46",
                    "47",
                    "48",
                    "49",
                    "50",
                    "51",
                    "52",
                    "53",
                    "54",
                    "55",
                    "56",
                    "57",
                    "58",
                    "59",
                    "60",
                    "61",
                    "62",
                    "63",
                    "64",
                    "65",
                    "66",
                    "67",
                    "68",
                    "69",
                    "70",
                    "71",
                    "72",
                    "73",
                    "74",
                    "75",
                    "76",
                    "77",
                    "78",
                    "79",
                    "80",
                    "81",
                    "82",
                    "83",
                    "84",
                    "85",
                    "86",
                    "87",
                    "88",
                    "89",
                    "90",
                    "91",
                    "92",
                    "93",
                    "94",
                    "95",
                    "96",
                    "97",
                    "98",
                    "99"
                  ],
                  "type": "scatter3d",
                  "x": [
                    11.52,
                    12.48,
                    12.3778,
                    12.73,
                    12.444,
                    13.6024,
                    14.1795,
                    12.67,
                    14.0049,
                    14.2266,
                    14.2628,
                    14.3714,
                    13.7592,
                    13.9129,
                    14.9544,
                    15.438,
                    14.8604,
                    14.938,
                    15.633,
                    14.4738,
                    15.1285,
                    15.9936,
                    15.5227,
                    15.4686,
                    16.2405,
                    16.36,
                    16.3618,
                    16.517,
                    16.8896,
                    18.957,
                    18.0369,
                    18.084,
                    18.7542,
                    18.6354,
                    17.6235,
                    4.1472,
                    5.2983,
                    5.5756,
                    5.6166,
                    6.216,
                    6.4752,
                    6.1677,
                    6.1146,
                    5.8045,
                    6.6339,
                    7.0334,
                    6.55,
                    6.4,
                    7.5344,
                    6.9153,
                    7.3968,
                    7.0866,
                    8.8768,
                    8.568,
                    9.485,
                    8.3804,
                    8.1454,
                    8.778,
                    10.744,
                    11.7612,
                    12.354,
                    6.8475,
                    6.5772,
                    7.4052,
                    8.3922,
                    8.8928,
                    8.5376,
                    9.396,
                    9.7364,
                    10.3458,
                    11.088,
                    11.368,
                    2.112,
                    3.528,
                    3.824,
                    4.5924,
                    4.588,
                    5.2224,
                    5.1992,
                    5.6358,
                    5.1376,
                    5.082,
                    5.6925,
                    5.9175,
                    5.6925,
                    6.384,
                    6.11,
                    5.64,
                    6.11,
                    5.875,
                    5.5225,
                    5.856,
                    6.792,
                    5.9532,
                    5.2185,
                    6.275,
                    7.293,
                    6.375,
                    6.7334,
                    6.4395
                  ],
                  "y": [
                    4.02,
                    4.3056,
                    4.6961,
                    4.4555,
                    5.134,
                    4.9274,
                    5.2785,
                    4.69,
                    4.8438,
                    4.9594,
                    5.1042,
                    4.8146,
                    4.368,
                    5.0728,
                    5.1708,
                    5.58,
                    5.2854,
                    5.1975,
                    5.1338,
                    5.7276,
                    5.5695,
                    5.3704,
                    5.2801,
                    6.1306,
                    5.589,
                    6.0532,
                    6.09,
                    5.8515,
                    6.1984,
                    6.603,
                    6.3063,
                    6.292,
                    6.7497,
                    6.7473,
                    6.3705,
                    2.268,
                    2.8217,
                    2.9044,
                    3.1746,
                    3.5742,
                    3.3516,
                    3.3957,
                    3.2943,
                    3.7544,
                    3.5478,
                    3.8203,
                    3.325,
                    3.8,
                    3.8352,
                    3.6312,
                    4.1272,
                    3.906,
                    4.4968,
                    4.7736,
                    5.355,
                    4.2476,
                    4.2485,
                    4.6816,
                    6.562,
                    6.5736,
                    6.525,
                    2.3265,
                    2.3142,
                    2.673,
                    2.9181,
                    3.2928,
                    3.2944,
                    3.4104,
                    3.1571,
                    3.6636,
                    4.144,
                    4.234,
                    1.408,
                    1.9992,
                    2.432,
                    2.6316,
                    2.9415,
                    3.3216,
                    3.1234,
                    3.0502,
                    3.0368,
                    2.772,
                    3.555,
                    3.3075,
                    3.6675,
                    3.534,
                    3.4075,
                    3.525,
                    3.525,
                    3.525,
                    3.995,
                    3.624,
                    3.624,
                    3.63,
                    3.626,
                    3.725,
                    3.723,
                    3.825,
                    4.1658,
                    3.6835
                  ],
                  "z": [
                    0,
                    0,
                    0,
                    0,
                    0,
                    0,
                    0,
                    0,
                    0,
                    0,
                    0,
                    0,
                    0,
                    0,
                    0,
                    0,
                    0,
                    0,
                    0,
                    0,
                    0,
                    0,
                    0,
                    0,
                    0,
                    0,
                    0,
                    0,
                    0,
                    0,
                    0,
                    0,
                    0,
                    0,
                    0,
                    4,
                    4,
                    4,
                    4,
                    4,
                    4,
                    4,
                    4,
                    4,
                    4,
                    4,
                    4,
                    4,
                    4,
                    4,
                    4,
                    4,
                    4,
                    4,
                    4,
                    6,
                    6,
                    6,
                    6,
                    6,
                    6,
                    1,
                    1,
                    1,
                    1,
                    1,
                    1,
                    1,
                    1,
                    1,
                    1,
                    1,
                    2,
                    2,
                    2,
                    2,
                    2,
                    2,
                    2,
                    2,
                    2,
                    2,
                    2,
                    2,
                    2,
                    2,
                    2,
                    2,
                    2,
                    2,
                    2,
                    2,
                    2,
                    2,
                    2,
                    2,
                    2,
                    2,
                    2,
                    2
                  ]
                }
              ],
              "layout": {
                "legend": {
                  "bgcolor": "#1A1A1C",
                  "font": {
                    "color": "#D9D9D9"
                  }
                },
                "paper_bgcolor": "#1A1A1C",
                "plot_bgcolor": "#1A1A1C",
                "scene": {
                  "xaxis": {
                    "gridcolor": "#434343",
                    "showgrid": true,
                    "tickfont": {
                      "color": "#C2C2C2"
                    },
                    "title": {
                      "font": {
                        "color": "#D9D9D9"
                      },
                      "text": "Fish Height"
                    },
                    "zerolinecolor": "#666570"
                  },
                  "yaxis": {
                    "gridcolor": "#434343",
                    "showgrid": true,
                    "tickfont": {
                      "color": "#C2C2C2"
                    },
                    "title": {
                      "font": {
                        "color": "#D9D9D9"
                      },
                      "text": "Fish Width"
                    },
                    "zerolinecolor": "#666570"
                  },
                  "zaxis": {
                    "gridcolor": "#434343",
                    "showgrid": true,
                    "tickfont": {
                      "color": "#C2C2C2"
                    },
                    "title": {
                      "font": {
                        "color": "#D9D9D9"
                      },
                      "text": ""
                    },
                    "zerolinecolor": "#666570"
                  }
                },
                "template": {
                  "data": {
                    "bar": [
                      {
                        "error_x": {
                          "color": "#2a3f5f"
                        },
                        "error_y": {
                          "color": "#2a3f5f"
                        },
                        "marker": {
                          "line": {
                            "color": "#E5ECF6",
                            "width": 0.5
                          },
                          "pattern": {
                            "fillmode": "overlay",
                            "size": 10,
                            "solidity": 0.2
                          }
                        },
                        "type": "bar"
                      }
                    ],
                    "barpolar": [
                      {
                        "marker": {
                          "line": {
                            "color": "#E5ECF6",
                            "width": 0.5
                          },
                          "pattern": {
                            "fillmode": "overlay",
                            "size": 10,
                            "solidity": 0.2
                          }
                        },
                        "type": "barpolar"
                      }
                    ],
                    "carpet": [
                      {
                        "aaxis": {
                          "endlinecolor": "#2a3f5f",
                          "gridcolor": "white",
                          "linecolor": "white",
                          "minorgridcolor": "white",
                          "startlinecolor": "#2a3f5f"
                        },
                        "baxis": {
                          "endlinecolor": "#2a3f5f",
                          "gridcolor": "white",
                          "linecolor": "white",
                          "minorgridcolor": "white",
                          "startlinecolor": "#2a3f5f"
                        },
                        "type": "carpet"
                      }
                    ],
                    "choropleth": [
                      {
                        "colorbar": {
                          "outlinewidth": 0,
                          "ticks": ""
                        },
                        "type": "choropleth"
                      }
                    ],
                    "contour": [
                      {
                        "colorbar": {
                          "outlinewidth": 0,
                          "ticks": ""
                        },
                        "colorscale": [
                          [
                            0,
                            "#0d0887"
                          ],
                          [
                            0.1111111111111111,
                            "#46039f"
                          ],
                          [
                            0.2222222222222222,
                            "#7201a8"
                          ],
                          [
                            0.3333333333333333,
                            "#9c179e"
                          ],
                          [
                            0.4444444444444444,
                            "#bd3786"
                          ],
                          [
                            0.5555555555555556,
                            "#d8576b"
                          ],
                          [
                            0.6666666666666666,
                            "#ed7953"
                          ],
                          [
                            0.7777777777777778,
                            "#fb9f3a"
                          ],
                          [
                            0.8888888888888888,
                            "#fdca26"
                          ],
                          [
                            1,
                            "#f0f921"
                          ]
                        ],
                        "type": "contour"
                      }
                    ],
                    "contourcarpet": [
                      {
                        "colorbar": {
                          "outlinewidth": 0,
                          "ticks": ""
                        },
                        "type": "contourcarpet"
                      }
                    ],
                    "heatmap": [
                      {
                        "colorbar": {
                          "outlinewidth": 0,
                          "ticks": ""
                        },
                        "colorscale": [
                          [
                            0,
                            "#0d0887"
                          ],
                          [
                            0.1111111111111111,
                            "#46039f"
                          ],
                          [
                            0.2222222222222222,
                            "#7201a8"
                          ],
                          [
                            0.3333333333333333,
                            "#9c179e"
                          ],
                          [
                            0.4444444444444444,
                            "#bd3786"
                          ],
                          [
                            0.5555555555555556,
                            "#d8576b"
                          ],
                          [
                            0.6666666666666666,
                            "#ed7953"
                          ],
                          [
                            0.7777777777777778,
                            "#fb9f3a"
                          ],
                          [
                            0.8888888888888888,
                            "#fdca26"
                          ],
                          [
                            1,
                            "#f0f921"
                          ]
                        ],
                        "type": "heatmap"
                      }
                    ],
                    "heatmapgl": [
                      {
                        "colorbar": {
                          "outlinewidth": 0,
                          "ticks": ""
                        },
                        "colorscale": [
                          [
                            0,
                            "#0d0887"
                          ],
                          [
                            0.1111111111111111,
                            "#46039f"
                          ],
                          [
                            0.2222222222222222,
                            "#7201a8"
                          ],
                          [
                            0.3333333333333333,
                            "#9c179e"
                          ],
                          [
                            0.4444444444444444,
                            "#bd3786"
                          ],
                          [
                            0.5555555555555556,
                            "#d8576b"
                          ],
                          [
                            0.6666666666666666,
                            "#ed7953"
                          ],
                          [
                            0.7777777777777778,
                            "#fb9f3a"
                          ],
                          [
                            0.8888888888888888,
                            "#fdca26"
                          ],
                          [
                            1,
                            "#f0f921"
                          ]
                        ],
                        "type": "heatmapgl"
                      }
                    ],
                    "histogram": [
                      {
                        "marker": {
                          "pattern": {
                            "fillmode": "overlay",
                            "size": 10,
                            "solidity": 0.2
                          }
                        },
                        "type": "histogram"
                      }
                    ],
                    "histogram2d": [
                      {
                        "colorbar": {
                          "outlinewidth": 0,
                          "ticks": ""
                        },
                        "colorscale": [
                          [
                            0,
                            "#0d0887"
                          ],
                          [
                            0.1111111111111111,
                            "#46039f"
                          ],
                          [
                            0.2222222222222222,
                            "#7201a8"
                          ],
                          [
                            0.3333333333333333,
                            "#9c179e"
                          ],
                          [
                            0.4444444444444444,
                            "#bd3786"
                          ],
                          [
                            0.5555555555555556,
                            "#d8576b"
                          ],
                          [
                            0.6666666666666666,
                            "#ed7953"
                          ],
                          [
                            0.7777777777777778,
                            "#fb9f3a"
                          ],
                          [
                            0.8888888888888888,
                            "#fdca26"
                          ],
                          [
                            1,
                            "#f0f921"
                          ]
                        ],
                        "type": "histogram2d"
                      }
                    ],
                    "histogram2dcontour": [
                      {
                        "colorbar": {
                          "outlinewidth": 0,
                          "ticks": ""
                        },
                        "colorscale": [
                          [
                            0,
                            "#0d0887"
                          ],
                          [
                            0.1111111111111111,
                            "#46039f"
                          ],
                          [
                            0.2222222222222222,
                            "#7201a8"
                          ],
                          [
                            0.3333333333333333,
                            "#9c179e"
                          ],
                          [
                            0.4444444444444444,
                            "#bd3786"
                          ],
                          [
                            0.5555555555555556,
                            "#d8576b"
                          ],
                          [
                            0.6666666666666666,
                            "#ed7953"
                          ],
                          [
                            0.7777777777777778,
                            "#fb9f3a"
                          ],
                          [
                            0.8888888888888888,
                            "#fdca26"
                          ],
                          [
                            1,
                            "#f0f921"
                          ]
                        ],
                        "type": "histogram2dcontour"
                      }
                    ],
                    "mesh3d": [
                      {
                        "colorbar": {
                          "outlinewidth": 0,
                          "ticks": ""
                        },
                        "type": "mesh3d"
                      }
                    ],
                    "parcoords": [
                      {
                        "line": {
                          "colorbar": {
                            "outlinewidth": 0,
                            "ticks": ""
                          }
                        },
                        "type": "parcoords"
                      }
                    ],
                    "pie": [
                      {
                        "automargin": true,
                        "type": "pie"
                      }
                    ],
                    "scatter": [
                      {
                        "marker": {
                          "colorbar": {
                            "outlinewidth": 0,
                            "ticks": ""
                          }
                        },
                        "type": "scatter"
                      }
                    ],
                    "scatter3d": [
                      {
                        "line": {
                          "colorbar": {
                            "outlinewidth": 0,
                            "ticks": ""
                          }
                        },
                        "marker": {
                          "colorbar": {
                            "outlinewidth": 0,
                            "ticks": ""
                          }
                        },
                        "type": "scatter3d"
                      }
                    ],
                    "scattercarpet": [
                      {
                        "marker": {
                          "colorbar": {
                            "outlinewidth": 0,
                            "ticks": ""
                          }
                        },
                        "type": "scattercarpet"
                      }
                    ],
                    "scattergeo": [
                      {
                        "marker": {
                          "colorbar": {
                            "outlinewidth": 0,
                            "ticks": ""
                          }
                        },
                        "type": "scattergeo"
                      }
                    ],
                    "scattergl": [
                      {
                        "marker": {
                          "colorbar": {
                            "outlinewidth": 0,
                            "ticks": ""
                          }
                        },
                        "type": "scattergl"
                      }
                    ],
                    "scattermapbox": [
                      {
                        "marker": {
                          "colorbar": {
                            "outlinewidth": 0,
                            "ticks": ""
                          }
                        },
                        "type": "scattermapbox"
                      }
                    ],
                    "scatterpolar": [
                      {
                        "marker": {
                          "colorbar": {
                            "outlinewidth": 0,
                            "ticks": ""
                          }
                        },
                        "type": "scatterpolar"
                      }
                    ],
                    "scatterpolargl": [
                      {
                        "marker": {
                          "colorbar": {
                            "outlinewidth": 0,
                            "ticks": ""
                          }
                        },
                        "type": "scatterpolargl"
                      }
                    ],
                    "scatterternary": [
                      {
                        "marker": {
                          "colorbar": {
                            "outlinewidth": 0,
                            "ticks": ""
                          }
                        },
                        "type": "scatterternary"
                      }
                    ],
                    "surface": [
                      {
                        "colorbar": {
                          "outlinewidth": 0,
                          "ticks": ""
                        },
                        "colorscale": [
                          [
                            0,
                            "#0d0887"
                          ],
                          [
                            0.1111111111111111,
                            "#46039f"
                          ],
                          [
                            0.2222222222222222,
                            "#7201a8"
                          ],
                          [
                            0.3333333333333333,
                            "#9c179e"
                          ],
                          [
                            0.4444444444444444,
                            "#bd3786"
                          ],
                          [
                            0.5555555555555556,
                            "#d8576b"
                          ],
                          [
                            0.6666666666666666,
                            "#ed7953"
                          ],
                          [
                            0.7777777777777778,
                            "#fb9f3a"
                          ],
                          [
                            0.8888888888888888,
                            "#fdca26"
                          ],
                          [
                            1,
                            "#f0f921"
                          ]
                        ],
                        "type": "surface"
                      }
                    ],
                    "table": [
                      {
                        "cells": {
                          "fill": {
                            "color": "#EBF0F8"
                          },
                          "line": {
                            "color": "white"
                          }
                        },
                        "header": {
                          "fill": {
                            "color": "#C8D4E3"
                          },
                          "line": {
                            "color": "white"
                          }
                        },
                        "type": "table"
                      }
                    ]
                  },
                  "layout": {
                    "annotationdefaults": {
                      "arrowcolor": "#2a3f5f",
                      "arrowhead": 0,
                      "arrowwidth": 1
                    },
                    "autotypenumbers": "strict",
                    "coloraxis": {
                      "colorbar": {
                        "outlinewidth": 0,
                        "ticks": ""
                      }
                    },
                    "colorscale": {
                      "diverging": [
                        [
                          0,
                          "#8e0152"
                        ],
                        [
                          0.1,
                          "#c51b7d"
                        ],
                        [
                          0.2,
                          "#de77ae"
                        ],
                        [
                          0.3,
                          "#f1b6da"
                        ],
                        [
                          0.4,
                          "#fde0ef"
                        ],
                        [
                          0.5,
                          "#f7f7f7"
                        ],
                        [
                          0.6,
                          "#e6f5d0"
                        ],
                        [
                          0.7,
                          "#b8e186"
                        ],
                        [
                          0.8,
                          "#7fbc41"
                        ],
                        [
                          0.9,
                          "#4d9221"
                        ],
                        [
                          1,
                          "#276419"
                        ]
                      ],
                      "sequential": [
                        [
                          0,
                          "#0d0887"
                        ],
                        [
                          0.1111111111111111,
                          "#46039f"
                        ],
                        [
                          0.2222222222222222,
                          "#7201a8"
                        ],
                        [
                          0.3333333333333333,
                          "#9c179e"
                        ],
                        [
                          0.4444444444444444,
                          "#bd3786"
                        ],
                        [
                          0.5555555555555556,
                          "#d8576b"
                        ],
                        [
                          0.6666666666666666,
                          "#ed7953"
                        ],
                        [
                          0.7777777777777778,
                          "#fb9f3a"
                        ],
                        [
                          0.8888888888888888,
                          "#fdca26"
                        ],
                        [
                          1,
                          "#f0f921"
                        ]
                      ],
                      "sequentialminus": [
                        [
                          0,
                          "#0d0887"
                        ],
                        [
                          0.1111111111111111,
                          "#46039f"
                        ],
                        [
                          0.2222222222222222,
                          "#7201a8"
                        ],
                        [
                          0.3333333333333333,
                          "#9c179e"
                        ],
                        [
                          0.4444444444444444,
                          "#bd3786"
                        ],
                        [
                          0.5555555555555556,
                          "#d8576b"
                        ],
                        [
                          0.6666666666666666,
                          "#ed7953"
                        ],
                        [
                          0.7777777777777778,
                          "#fb9f3a"
                        ],
                        [
                          0.8888888888888888,
                          "#fdca26"
                        ],
                        [
                          1,
                          "#f0f921"
                        ]
                      ]
                    },
                    "colorway": [
                      "#636efa",
                      "#EF553B",
                      "#00cc96",
                      "#ab63fa",
                      "#FFA15A",
                      "#19d3f3",
                      "#FF6692",
                      "#B6E880",
                      "#FF97FF",
                      "#FECB52"
                    ],
                    "font": {
                      "color": "#2a3f5f"
                    },
                    "geo": {
                      "bgcolor": "white",
                      "lakecolor": "white",
                      "landcolor": "#E5ECF6",
                      "showlakes": true,
                      "showland": true,
                      "subunitcolor": "white"
                    },
                    "hoverlabel": {
                      "align": "left"
                    },
                    "hovermode": "closest",
                    "mapbox": {
                      "style": "light"
                    },
                    "paper_bgcolor": "white",
                    "plot_bgcolor": "#E5ECF6",
                    "polar": {
                      "angularaxis": {
                        "gridcolor": "white",
                        "linecolor": "white",
                        "ticks": ""
                      },
                      "bgcolor": "#E5ECF6",
                      "radialaxis": {
                        "gridcolor": "white",
                        "linecolor": "white",
                        "ticks": ""
                      }
                    },
                    "scene": {
                      "xaxis": {
                        "backgroundcolor": "#E5ECF6",
                        "gridcolor": "white",
                        "gridwidth": 2,
                        "linecolor": "white",
                        "showbackground": true,
                        "ticks": "",
                        "zerolinecolor": "white"
                      },
                      "yaxis": {
                        "backgroundcolor": "#E5ECF6",
                        "gridcolor": "white",
                        "gridwidth": 2,
                        "linecolor": "white",
                        "showbackground": true,
                        "ticks": "",
                        "zerolinecolor": "white"
                      },
                      "zaxis": {
                        "backgroundcolor": "#E5ECF6",
                        "gridcolor": "white",
                        "gridwidth": 2,
                        "linecolor": "white",
                        "showbackground": true,
                        "ticks": "",
                        "zerolinecolor": "white"
                      }
                    },
                    "shapedefaults": {
                      "line": {
                        "color": "#2a3f5f"
                      }
                    },
                    "ternary": {
                      "aaxis": {
                        "gridcolor": "white",
                        "linecolor": "white",
                        "ticks": ""
                      },
                      "baxis": {
                        "gridcolor": "white",
                        "linecolor": "white",
                        "ticks": ""
                      },
                      "bgcolor": "#E5ECF6",
                      "caxis": {
                        "gridcolor": "white",
                        "linecolor": "white",
                        "ticks": ""
                      }
                    },
                    "title": {
                      "x": 0.05
                    },
                    "xaxis": {
                      "automargin": true,
                      "gridcolor": "white",
                      "linecolor": "white",
                      "ticks": "",
                      "title": {
                        "standoff": 15
                      },
                      "zerolinecolor": "white",
                      "zerolinewidth": 2
                    },
                    "yaxis": {
                      "automargin": true,
                      "gridcolor": "white",
                      "linecolor": "white",
                      "ticks": "",
                      "title": {
                        "standoff": 15
                      },
                      "zerolinecolor": "white",
                      "zerolinewidth": 2
                    }
                  }
                },
                "title": {
                  "font": {
                    "color": "#D9D9D9"
                  },
                  "text": "Fish Height vs Fish Width vs Fish Type Bubble Chart"
                }
              }
            },
            "text/html": [
              "<div>                            <div id=\"3b0de5a7-9f33-48c0-aa82-da6d9170edc5\" class=\"plotly-graph-div\" style=\"height:525px; width:100%;\"></div>            <script type=\"text/javascript\">                require([\"plotly\"], function(Plotly) {                    window.PLOTLYENV=window.PLOTLYENV || {};\n",
              "                    window.PLOTLYENV.BASE_URL='https://plot.ly';                                    if (document.getElementById(\"3b0de5a7-9f33-48c0-aa82-da6d9170edc5\")) {                    Plotly.newPlot(                        \"3b0de5a7-9f33-48c0-aa82-da6d9170edc5\",                        [{\"marker\":{\"color\":[\"rgba(30, 144, 255, 1.0)\",\"rgba(0, 255, 0, 1.0)\",\"rgba(255, 99, 71, 1.0)\",\"rgba(255, 99, 71, 0.976)\",\"rgba(30, 144, 255, 0.976)\",\"rgba(0, 255, 0, 0.976)\",\"rgba(0, 255, 0, 0.952)\",\"rgba(255, 99, 71, 0.952)\",\"rgba(30, 144, 255, 0.952)\",\"rgba(30, 144, 255, 0.9279999999999999)\",\"rgba(0, 255, 0, 0.9279999999999999)\",\"rgba(255, 99, 71, 0.9279999999999999)\",\"rgba(255, 99, 71, 0.9039999999999999)\",\"rgba(30, 144, 255, 0.9039999999999999)\",\"rgba(0, 255, 0, 0.9039999999999999)\",\"rgba(0, 255, 0, 0.8800000000000001)\",\"rgba(255, 99, 71, 0.8800000000000001)\",\"rgba(30, 144, 255, 0.8800000000000001)\",\"rgba(30, 144, 255, 0.8560000000000001)\",\"rgba(0, 255, 0, 0.8560000000000001)\",\"rgba(255, 99, 71, 0.8560000000000001)\",\"rgba(255, 99, 71, 0.8320000000000001)\",\"rgba(30, 144, 255, 0.8320000000000001)\",\"rgba(0, 255, 0, 0.8320000000000001)\",\"rgba(0, 255, 0, 0.808)\",\"rgba(255, 99, 71, 0.808)\",\"rgba(30, 144, 255, 0.808)\",\"rgba(30, 144, 255, 0.784)\",\"rgba(0, 255, 0, 0.784)\",\"rgba(255, 99, 71, 0.784)\",\"rgba(255, 99, 71, 0.76)\",\"rgba(30, 144, 255, 0.76)\",\"rgba(0, 255, 0, 0.76)\",\"rgba(0, 255, 0, 0.736)\",\"rgba(255, 99, 71, 0.736)\",\"rgba(30, 144, 255, 0.736)\",\"rgba(30, 144, 255, 0.712)\",\"rgba(0, 255, 0, 0.712)\",\"rgba(255, 99, 71, 0.712)\",\"rgba(255, 99, 71, 0.688)\",\"rgba(30, 144, 255, 0.688)\",\"rgba(0, 255, 0, 0.688)\",\"rgba(0, 255, 0, 0.6640000000000001)\",\"rgba(255, 99, 71, 0.6640000000000001)\",\"rgba(30, 144, 255, 0.6640000000000001)\",\"rgba(30, 144, 255, 0.6400000000000001)\",\"rgba(0, 255, 0, 0.6400000000000001)\",\"rgba(255, 99, 71, 0.6400000000000001)\",\"rgba(255, 99, 71, 0.6160000000000001)\",\"rgba(30, 144, 255, 0.6160000000000001)\",\"rgba(0, 255, 0, 0.6160000000000001)\",\"rgba(0, 255, 0, 0.5920000000000001)\",\"rgba(255, 99, 71, 0.5920000000000001)\",\"rgba(30, 144, 255, 0.5920000000000001)\",\"rgba(30, 144, 255, 0.5680000000000001)\",\"rgba(0, 255, 0, 0.5680000000000001)\",\"rgba(255, 99, 71, 0.5680000000000001)\",\"rgba(255, 99, 71, 0.544)\",\"rgba(30, 144, 255, 0.544)\",\"rgba(0, 255, 0, 0.544)\",\"rgba(0, 255, 0, 0.52)\",\"rgba(255, 99, 71, 0.52)\",\"rgba(30, 144, 255, 0.52)\",\"rgba(30, 144, 255, 0.49600000000000005)\",\"rgba(0, 255, 0, 0.49600000000000005)\",\"rgba(255, 99, 71, 0.49600000000000005)\",\"rgba(255, 99, 71, 0.47200000000000025)\",\"rgba(30, 144, 255, 0.47200000000000025)\",\"rgba(0, 255, 0, 0.47200000000000025)\",\"rgba(0, 255, 0, 0.44800000000000023)\",\"rgba(255, 99, 71, 0.44800000000000023)\",\"rgba(30, 144, 255, 0.44800000000000023)\",\"rgba(30, 144, 255, 0.4240000000000002)\",\"rgba(0, 255, 0, 0.4240000000000002)\",\"rgba(255, 99, 71, 0.4240000000000002)\",\"rgba(255, 99, 71, 0.4000000000000002)\",\"rgba(30, 144, 255, 0.4000000000000002)\",\"rgba(0, 255, 0, 0.4000000000000002)\",\"rgba(0, 255, 0, 0.37600000000000017)\",\"rgba(255, 99, 71, 0.37600000000000017)\",\"rgba(30, 144, 255, 0.37600000000000017)\",\"rgba(30, 144, 255, 0.35200000000000015)\",\"rgba(0, 255, 0, 0.35200000000000015)\",\"rgba(255, 99, 71, 0.35200000000000015)\",\"rgba(255, 99, 71, 0.3280000000000001)\",\"rgba(30, 144, 255, 0.3280000000000001)\",\"rgba(0, 255, 0, 0.3280000000000001)\",\"rgba(0, 255, 0, 0.3040000000000001)\",\"rgba(255, 99, 71, 0.3040000000000001)\",\"rgba(30, 144, 255, 0.3040000000000001)\",\"rgba(30, 144, 255, 0.2800000000000003)\",\"rgba(0, 255, 0, 0.2800000000000003)\",\"rgba(255, 99, 71, 0.2800000000000003)\",\"rgba(255, 99, 71, 0.2560000000000003)\",\"rgba(30, 144, 255, 0.2560000000000003)\",\"rgba(0, 255, 0, 0.2560000000000003)\",\"rgba(0, 255, 0, 0.23200000000000026)\",\"rgba(255, 99, 71, 0.23200000000000026)\",\"rgba(30, 144, 255, 0.23200000000000026)\",\"rgba(30, 144, 255, 0.20800000000000024)\"],\"opacity\":0.8,\"size\":[60,66,73,69,81,77,84,73,76,78,81,75,67,80,82,90,84,82,81,92,89,86,84,100,90,98,99,95,101,109,103,103,112,111,104,28,38,40,45,52,48,49,47,55,52,57,47,56,57,53,62,58,69,75,85,65,65,73,108,108,107,29,28,35,40,47,47,49,44,54,63,64,12,23,31,34,40,47,44,42,42,37,52,47,54,51,49,51,51,51,60,53,53,53,53,55,55,57,63,54],\"symbol\":\"circle\"},\"mode\":\"markers\",\"text\":[\"0\",\"1\",\"2\",\"3\",\"4\",\"5\",\"6\",\"7\",\"8\",\"9\",\"10\",\"11\",\"12\",\"13\",\"14\",\"15\",\"16\",\"17\",\"18\",\"19\",\"20\",\"21\",\"22\",\"23\",\"24\",\"25\",\"26\",\"27\",\"28\",\"29\",\"30\",\"31\",\"32\",\"33\",\"34\",\"35\",\"36\",\"37\",\"38\",\"39\",\"40\",\"41\",\"42\",\"43\",\"44\",\"45\",\"46\",\"47\",\"48\",\"49\",\"50\",\"51\",\"52\",\"53\",\"54\",\"55\",\"56\",\"57\",\"58\",\"59\",\"60\",\"61\",\"62\",\"63\",\"64\",\"65\",\"66\",\"67\",\"68\",\"69\",\"70\",\"71\",\"72\",\"73\",\"74\",\"75\",\"76\",\"77\",\"78\",\"79\",\"80\",\"81\",\"82\",\"83\",\"84\",\"85\",\"86\",\"87\",\"88\",\"89\",\"90\",\"91\",\"92\",\"93\",\"94\",\"95\",\"96\",\"97\",\"98\",\"99\"],\"type\":\"scatter3d\",\"x\":[11.52,12.48,12.3778,12.73,12.444,13.6024,14.1795,12.67,14.0049,14.2266,14.2628,14.3714,13.7592,13.9129,14.9544,15.438,14.8604,14.938,15.633,14.4738,15.1285,15.9936,15.5227,15.4686,16.2405,16.36,16.3618,16.517,16.8896,18.957,18.0369,18.084,18.7542,18.6354,17.6235,4.1472,5.2983,5.5756,5.6166,6.216,6.4752,6.1677,6.1146,5.8045,6.6339,7.0334,6.55,6.4,7.5344,6.9153,7.3968,7.0866,8.8768,8.568,9.485,8.3804,8.1454,8.778,10.744,11.7612,12.354,6.8475,6.5772,7.4052,8.3922,8.8928,8.5376,9.396,9.7364,10.3458,11.088,11.368,2.112,3.528,3.824,4.5924,4.588,5.2224,5.1992,5.6358,5.1376,5.082,5.6925,5.9175,5.6925,6.384,6.11,5.64,6.11,5.875,5.5225,5.856,6.792,5.9532,5.2185,6.275,7.293,6.375,6.7334,6.4395],\"y\":[4.02,4.3056,4.6961,4.4555,5.134,4.9274,5.2785,4.69,4.8438,4.9594,5.1042,4.8146,4.368,5.0728,5.1708,5.58,5.2854,5.1975,5.1338,5.7276,5.5695,5.3704,5.2801,6.1306,5.589,6.0532,6.09,5.8515,6.1984,6.603,6.3063,6.292,6.7497,6.7473,6.3705,2.268,2.8217,2.9044,3.1746,3.5742,3.3516,3.3957,3.2943,3.7544,3.5478,3.8203,3.325,3.8,3.8352,3.6312,4.1272,3.906,4.4968,4.7736,5.355,4.2476,4.2485,4.6816,6.562,6.5736,6.525,2.3265,2.3142,2.673,2.9181,3.2928,3.2944,3.4104,3.1571,3.6636,4.144,4.234,1.408,1.9992,2.432,2.6316,2.9415,3.3216,3.1234,3.0502,3.0368,2.772,3.555,3.3075,3.6675,3.534,3.4075,3.525,3.525,3.525,3.995,3.624,3.624,3.63,3.626,3.725,3.723,3.825,4.1658,3.6835],\"z\":[0,0,0,0,0,0,0,0,0,0,0,0,0,0,0,0,0,0,0,0,0,0,0,0,0,0,0,0,0,0,0,0,0,0,0,4,4,4,4,4,4,4,4,4,4,4,4,4,4,4,4,4,4,4,4,6,6,6,6,6,6,1,1,1,1,1,1,1,1,1,1,1,2,2,2,2,2,2,2,2,2,2,2,2,2,2,2,2,2,2,2,2,2,2,2,2,2,2,2,2]}],                        {\"legend\":{\"bgcolor\":\"#1A1A1C\",\"font\":{\"color\":\"#D9D9D9\"}},\"paper_bgcolor\":\"#1A1A1C\",\"plot_bgcolor\":\"#1A1A1C\",\"scene\":{\"xaxis\":{\"gridcolor\":\"#434343\",\"showgrid\":true,\"tickfont\":{\"color\":\"#C2C2C2\"},\"title\":{\"font\":{\"color\":\"#D9D9D9\"},\"text\":\"Fish Height\"},\"zerolinecolor\":\"#666570\"},\"yaxis\":{\"gridcolor\":\"#434343\",\"showgrid\":true,\"tickfont\":{\"color\":\"#C2C2C2\"},\"title\":{\"font\":{\"color\":\"#D9D9D9\"},\"text\":\"Fish Width\"},\"zerolinecolor\":\"#666570\"},\"zaxis\":{\"gridcolor\":\"#434343\",\"showgrid\":true,\"tickfont\":{\"color\":\"#C2C2C2\"},\"title\":{\"font\":{\"color\":\"#D9D9D9\"},\"text\":\"\"},\"zerolinecolor\":\"#666570\"}},\"template\":{\"data\":{\"bar\":[{\"error_x\":{\"color\":\"#2a3f5f\"},\"error_y\":{\"color\":\"#2a3f5f\"},\"marker\":{\"line\":{\"color\":\"#E5ECF6\",\"width\":0.5},\"pattern\":{\"fillmode\":\"overlay\",\"size\":10,\"solidity\":0.2}},\"type\":\"bar\"}],\"barpolar\":[{\"marker\":{\"line\":{\"color\":\"#E5ECF6\",\"width\":0.5},\"pattern\":{\"fillmode\":\"overlay\",\"size\":10,\"solidity\":0.2}},\"type\":\"barpolar\"}],\"carpet\":[{\"aaxis\":{\"endlinecolor\":\"#2a3f5f\",\"gridcolor\":\"white\",\"linecolor\":\"white\",\"minorgridcolor\":\"white\",\"startlinecolor\":\"#2a3f5f\"},\"baxis\":{\"endlinecolor\":\"#2a3f5f\",\"gridcolor\":\"white\",\"linecolor\":\"white\",\"minorgridcolor\":\"white\",\"startlinecolor\":\"#2a3f5f\"},\"type\":\"carpet\"}],\"choropleth\":[{\"colorbar\":{\"outlinewidth\":0,\"ticks\":\"\"},\"type\":\"choropleth\"}],\"contour\":[{\"colorbar\":{\"outlinewidth\":0,\"ticks\":\"\"},\"colorscale\":[[0.0,\"#0d0887\"],[0.1111111111111111,\"#46039f\"],[0.2222222222222222,\"#7201a8\"],[0.3333333333333333,\"#9c179e\"],[0.4444444444444444,\"#bd3786\"],[0.5555555555555556,\"#d8576b\"],[0.6666666666666666,\"#ed7953\"],[0.7777777777777778,\"#fb9f3a\"],[0.8888888888888888,\"#fdca26\"],[1.0,\"#f0f921\"]],\"type\":\"contour\"}],\"contourcarpet\":[{\"colorbar\":{\"outlinewidth\":0,\"ticks\":\"\"},\"type\":\"contourcarpet\"}],\"heatmap\":[{\"colorbar\":{\"outlinewidth\":0,\"ticks\":\"\"},\"colorscale\":[[0.0,\"#0d0887\"],[0.1111111111111111,\"#46039f\"],[0.2222222222222222,\"#7201a8\"],[0.3333333333333333,\"#9c179e\"],[0.4444444444444444,\"#bd3786\"],[0.5555555555555556,\"#d8576b\"],[0.6666666666666666,\"#ed7953\"],[0.7777777777777778,\"#fb9f3a\"],[0.8888888888888888,\"#fdca26\"],[1.0,\"#f0f921\"]],\"type\":\"heatmap\"}],\"heatmapgl\":[{\"colorbar\":{\"outlinewidth\":0,\"ticks\":\"\"},\"colorscale\":[[0.0,\"#0d0887\"],[0.1111111111111111,\"#46039f\"],[0.2222222222222222,\"#7201a8\"],[0.3333333333333333,\"#9c179e\"],[0.4444444444444444,\"#bd3786\"],[0.5555555555555556,\"#d8576b\"],[0.6666666666666666,\"#ed7953\"],[0.7777777777777778,\"#fb9f3a\"],[0.8888888888888888,\"#fdca26\"],[1.0,\"#f0f921\"]],\"type\":\"heatmapgl\"}],\"histogram\":[{\"marker\":{\"pattern\":{\"fillmode\":\"overlay\",\"size\":10,\"solidity\":0.2}},\"type\":\"histogram\"}],\"histogram2d\":[{\"colorbar\":{\"outlinewidth\":0,\"ticks\":\"\"},\"colorscale\":[[0.0,\"#0d0887\"],[0.1111111111111111,\"#46039f\"],[0.2222222222222222,\"#7201a8\"],[0.3333333333333333,\"#9c179e\"],[0.4444444444444444,\"#bd3786\"],[0.5555555555555556,\"#d8576b\"],[0.6666666666666666,\"#ed7953\"],[0.7777777777777778,\"#fb9f3a\"],[0.8888888888888888,\"#fdca26\"],[1.0,\"#f0f921\"]],\"type\":\"histogram2d\"}],\"histogram2dcontour\":[{\"colorbar\":{\"outlinewidth\":0,\"ticks\":\"\"},\"colorscale\":[[0.0,\"#0d0887\"],[0.1111111111111111,\"#46039f\"],[0.2222222222222222,\"#7201a8\"],[0.3333333333333333,\"#9c179e\"],[0.4444444444444444,\"#bd3786\"],[0.5555555555555556,\"#d8576b\"],[0.6666666666666666,\"#ed7953\"],[0.7777777777777778,\"#fb9f3a\"],[0.8888888888888888,\"#fdca26\"],[1.0,\"#f0f921\"]],\"type\":\"histogram2dcontour\"}],\"mesh3d\":[{\"colorbar\":{\"outlinewidth\":0,\"ticks\":\"\"},\"type\":\"mesh3d\"}],\"parcoords\":[{\"line\":{\"colorbar\":{\"outlinewidth\":0,\"ticks\":\"\"}},\"type\":\"parcoords\"}],\"pie\":[{\"automargin\":true,\"type\":\"pie\"}],\"scatter\":[{\"marker\":{\"colorbar\":{\"outlinewidth\":0,\"ticks\":\"\"}},\"type\":\"scatter\"}],\"scatter3d\":[{\"line\":{\"colorbar\":{\"outlinewidth\":0,\"ticks\":\"\"}},\"marker\":{\"colorbar\":{\"outlinewidth\":0,\"ticks\":\"\"}},\"type\":\"scatter3d\"}],\"scattercarpet\":[{\"marker\":{\"colorbar\":{\"outlinewidth\":0,\"ticks\":\"\"}},\"type\":\"scattercarpet\"}],\"scattergeo\":[{\"marker\":{\"colorbar\":{\"outlinewidth\":0,\"ticks\":\"\"}},\"type\":\"scattergeo\"}],\"scattergl\":[{\"marker\":{\"colorbar\":{\"outlinewidth\":0,\"ticks\":\"\"}},\"type\":\"scattergl\"}],\"scattermapbox\":[{\"marker\":{\"colorbar\":{\"outlinewidth\":0,\"ticks\":\"\"}},\"type\":\"scattermapbox\"}],\"scatterpolar\":[{\"marker\":{\"colorbar\":{\"outlinewidth\":0,\"ticks\":\"\"}},\"type\":\"scatterpolar\"}],\"scatterpolargl\":[{\"marker\":{\"colorbar\":{\"outlinewidth\":0,\"ticks\":\"\"}},\"type\":\"scatterpolargl\"}],\"scatterternary\":[{\"marker\":{\"colorbar\":{\"outlinewidth\":0,\"ticks\":\"\"}},\"type\":\"scatterternary\"}],\"surface\":[{\"colorbar\":{\"outlinewidth\":0,\"ticks\":\"\"},\"colorscale\":[[0.0,\"#0d0887\"],[0.1111111111111111,\"#46039f\"],[0.2222222222222222,\"#7201a8\"],[0.3333333333333333,\"#9c179e\"],[0.4444444444444444,\"#bd3786\"],[0.5555555555555556,\"#d8576b\"],[0.6666666666666666,\"#ed7953\"],[0.7777777777777778,\"#fb9f3a\"],[0.8888888888888888,\"#fdca26\"],[1.0,\"#f0f921\"]],\"type\":\"surface\"}],\"table\":[{\"cells\":{\"fill\":{\"color\":\"#EBF0F8\"},\"line\":{\"color\":\"white\"}},\"header\":{\"fill\":{\"color\":\"#C8D4E3\"},\"line\":{\"color\":\"white\"}},\"type\":\"table\"}]},\"layout\":{\"annotationdefaults\":{\"arrowcolor\":\"#2a3f5f\",\"arrowhead\":0,\"arrowwidth\":1},\"autotypenumbers\":\"strict\",\"coloraxis\":{\"colorbar\":{\"outlinewidth\":0,\"ticks\":\"\"}},\"colorscale\":{\"diverging\":[[0,\"#8e0152\"],[0.1,\"#c51b7d\"],[0.2,\"#de77ae\"],[0.3,\"#f1b6da\"],[0.4,\"#fde0ef\"],[0.5,\"#f7f7f7\"],[0.6,\"#e6f5d0\"],[0.7,\"#b8e186\"],[0.8,\"#7fbc41\"],[0.9,\"#4d9221\"],[1,\"#276419\"]],\"sequential\":[[0.0,\"#0d0887\"],[0.1111111111111111,\"#46039f\"],[0.2222222222222222,\"#7201a8\"],[0.3333333333333333,\"#9c179e\"],[0.4444444444444444,\"#bd3786\"],[0.5555555555555556,\"#d8576b\"],[0.6666666666666666,\"#ed7953\"],[0.7777777777777778,\"#fb9f3a\"],[0.8888888888888888,\"#fdca26\"],[1.0,\"#f0f921\"]],\"sequentialminus\":[[0.0,\"#0d0887\"],[0.1111111111111111,\"#46039f\"],[0.2222222222222222,\"#7201a8\"],[0.3333333333333333,\"#9c179e\"],[0.4444444444444444,\"#bd3786\"],[0.5555555555555556,\"#d8576b\"],[0.6666666666666666,\"#ed7953\"],[0.7777777777777778,\"#fb9f3a\"],[0.8888888888888888,\"#fdca26\"],[1.0,\"#f0f921\"]]},\"colorway\":[\"#636efa\",\"#EF553B\",\"#00cc96\",\"#ab63fa\",\"#FFA15A\",\"#19d3f3\",\"#FF6692\",\"#B6E880\",\"#FF97FF\",\"#FECB52\"],\"font\":{\"color\":\"#2a3f5f\"},\"geo\":{\"bgcolor\":\"white\",\"lakecolor\":\"white\",\"landcolor\":\"#E5ECF6\",\"showlakes\":true,\"showland\":true,\"subunitcolor\":\"white\"},\"hoverlabel\":{\"align\":\"left\"},\"hovermode\":\"closest\",\"mapbox\":{\"style\":\"light\"},\"paper_bgcolor\":\"white\",\"plot_bgcolor\":\"#E5ECF6\",\"polar\":{\"angularaxis\":{\"gridcolor\":\"white\",\"linecolor\":\"white\",\"ticks\":\"\"},\"bgcolor\":\"#E5ECF6\",\"radialaxis\":{\"gridcolor\":\"white\",\"linecolor\":\"white\",\"ticks\":\"\"}},\"scene\":{\"xaxis\":{\"backgroundcolor\":\"#E5ECF6\",\"gridcolor\":\"white\",\"gridwidth\":2,\"linecolor\":\"white\",\"showbackground\":true,\"ticks\":\"\",\"zerolinecolor\":\"white\"},\"yaxis\":{\"backgroundcolor\":\"#E5ECF6\",\"gridcolor\":\"white\",\"gridwidth\":2,\"linecolor\":\"white\",\"showbackground\":true,\"ticks\":\"\",\"zerolinecolor\":\"white\"},\"zaxis\":{\"backgroundcolor\":\"#E5ECF6\",\"gridcolor\":\"white\",\"gridwidth\":2,\"linecolor\":\"white\",\"showbackground\":true,\"ticks\":\"\",\"zerolinecolor\":\"white\"}},\"shapedefaults\":{\"line\":{\"color\":\"#2a3f5f\"}},\"ternary\":{\"aaxis\":{\"gridcolor\":\"white\",\"linecolor\":\"white\",\"ticks\":\"\"},\"baxis\":{\"gridcolor\":\"white\",\"linecolor\":\"white\",\"ticks\":\"\"},\"bgcolor\":\"#E5ECF6\",\"caxis\":{\"gridcolor\":\"white\",\"linecolor\":\"white\",\"ticks\":\"\"}},\"title\":{\"x\":0.05},\"xaxis\":{\"automargin\":true,\"gridcolor\":\"white\",\"linecolor\":\"white\",\"ticks\":\"\",\"title\":{\"standoff\":15},\"zerolinecolor\":\"white\",\"zerolinewidth\":2},\"yaxis\":{\"automargin\":true,\"gridcolor\":\"white\",\"linecolor\":\"white\",\"ticks\":\"\",\"title\":{\"standoff\":15},\"zerolinecolor\":\"white\",\"zerolinewidth\":2}}},\"title\":{\"font\":{\"color\":\"#D9D9D9\"},\"text\":\"Fish Height vs Fish Width vs Fish Type Bubble Chart\"}},                        {\"showLink\": true, \"linkText\": \"Export to plot.ly\", \"plotlyServerURL\": \"https://plot.ly\", \"responsive\": true}                    ).then(function(){\n",
              "                            \n",
              "var gd = document.getElementById('3b0de5a7-9f33-48c0-aa82-da6d9170edc5');\n",
              "var x = new MutationObserver(function (mutations, observer) {{\n",
              "        var display = window.getComputedStyle(gd).display;\n",
              "        if (!display || display === 'none') {{\n",
              "            console.log([gd, 'removed!']);\n",
              "            Plotly.purge(gd);\n",
              "            observer.disconnect();\n",
              "        }}\n",
              "}});\n",
              "\n",
              "// Listen for the removal of the full notebook cells\n",
              "var notebookContainer = gd.closest('#notebook-container');\n",
              "if (notebookContainer) {{\n",
              "    x.observe(notebookContainer, {childList: true});\n",
              "}}\n",
              "\n",
              "// Listen for the clearing of the current output cell\n",
              "var outputEl = gd.closest('.output');\n",
              "if (outputEl) {{\n",
              "    x.observe(outputEl, {childList: true});\n",
              "}}\n",
              "\n",
              "                        })                };                });            </script>        </div>"
            ]
          },
          "metadata": {},
          "output_type": "display_data"
        }
      ],
      "source": [
        "df[:100].iplot(kind=\"bubble3d\", x=\"Height\", y=\"Width\",z=\"Species\", size=\"Width\",\n",
        "              colors=[\"dodgerblue\", \"lime\", \"tomato\"],\n",
        "              xTitle=\"Fish Height\", yTitle=\"Fish Width\",\n",
        "              title=\"Fish Height vs Fish Width vs Fish Type Bubble Chart\")"
      ]
    },
    {
      "cell_type": "code",
      "execution_count": 23,
      "metadata": {
        "colab": {
          "base_uri": "https://localhost:8080/",
          "height": 546
        },
        "id": "DP6gfn3vjMFa",
        "outputId": "ab202d07-e0f6-40aa-9a13-90d5dd375887"
      },
      "outputs": [
        {
          "data": {
            "application/vnd.plotly.v1+json": {
              "config": {
                "linkText": "Export to plot.ly",
                "plotlyServerURL": "https://plot.ly",
                "showLink": true
              },
              "data": [
                {
                  "marker": {
                    "color": [
                      "rgba(30, 144, 255, 1.0)",
                      "rgba(0, 255, 0, 1.0)",
                      "rgba(255, 99, 71, 1.0)",
                      "rgba(255, 99, 71, 0.976)",
                      "rgba(30, 144, 255, 0.976)",
                      "rgba(0, 255, 0, 0.976)",
                      "rgba(0, 255, 0, 0.952)",
                      "rgba(255, 99, 71, 0.952)",
                      "rgba(30, 144, 255, 0.952)",
                      "rgba(30, 144, 255, 0.9279999999999999)",
                      "rgba(0, 255, 0, 0.9279999999999999)",
                      "rgba(255, 99, 71, 0.9279999999999999)",
                      "rgba(255, 99, 71, 0.9039999999999999)",
                      "rgba(30, 144, 255, 0.9039999999999999)",
                      "rgba(0, 255, 0, 0.9039999999999999)",
                      "rgba(0, 255, 0, 0.8800000000000001)",
                      "rgba(255, 99, 71, 0.8800000000000001)",
                      "rgba(30, 144, 255, 0.8800000000000001)",
                      "rgba(30, 144, 255, 0.8560000000000001)",
                      "rgba(0, 255, 0, 0.8560000000000001)",
                      "rgba(255, 99, 71, 0.8560000000000001)",
                      "rgba(255, 99, 71, 0.8320000000000001)",
                      "rgba(30, 144, 255, 0.8320000000000001)",
                      "rgba(0, 255, 0, 0.8320000000000001)",
                      "rgba(0, 255, 0, 0.808)",
                      "rgba(255, 99, 71, 0.808)",
                      "rgba(30, 144, 255, 0.808)",
                      "rgba(30, 144, 255, 0.784)",
                      "rgba(0, 255, 0, 0.784)",
                      "rgba(255, 99, 71, 0.784)",
                      "rgba(255, 99, 71, 0.76)",
                      "rgba(30, 144, 255, 0.76)",
                      "rgba(0, 255, 0, 0.76)",
                      "rgba(0, 255, 0, 0.736)",
                      "rgba(255, 99, 71, 0.736)",
                      "rgba(30, 144, 255, 0.736)",
                      "rgba(30, 144, 255, 0.712)",
                      "rgba(0, 255, 0, 0.712)",
                      "rgba(255, 99, 71, 0.712)",
                      "rgba(255, 99, 71, 0.688)",
                      "rgba(30, 144, 255, 0.688)",
                      "rgba(0, 255, 0, 0.688)",
                      "rgba(0, 255, 0, 0.6640000000000001)",
                      "rgba(255, 99, 71, 0.6640000000000001)",
                      "rgba(30, 144, 255, 0.6640000000000001)",
                      "rgba(30, 144, 255, 0.6400000000000001)",
                      "rgba(0, 255, 0, 0.6400000000000001)",
                      "rgba(255, 99, 71, 0.6400000000000001)",
                      "rgba(255, 99, 71, 0.6160000000000001)",
                      "rgba(30, 144, 255, 0.6160000000000001)",
                      "rgba(0, 255, 0, 0.6160000000000001)",
                      "rgba(0, 255, 0, 0.5920000000000001)",
                      "rgba(255, 99, 71, 0.5920000000000001)",
                      "rgba(30, 144, 255, 0.5920000000000001)",
                      "rgba(30, 144, 255, 0.5680000000000001)",
                      "rgba(0, 255, 0, 0.5680000000000001)",
                      "rgba(255, 99, 71, 0.5680000000000001)",
                      "rgba(255, 99, 71, 0.544)",
                      "rgba(30, 144, 255, 0.544)",
                      "rgba(0, 255, 0, 0.544)",
                      "rgba(0, 255, 0, 0.52)",
                      "rgba(255, 99, 71, 0.52)",
                      "rgba(30, 144, 255, 0.52)",
                      "rgba(30, 144, 255, 0.49600000000000005)",
                      "rgba(0, 255, 0, 0.49600000000000005)",
                      "rgba(255, 99, 71, 0.49600000000000005)",
                      "rgba(255, 99, 71, 0.47200000000000025)",
                      "rgba(30, 144, 255, 0.47200000000000025)",
                      "rgba(0, 255, 0, 0.47200000000000025)",
                      "rgba(0, 255, 0, 0.44800000000000023)",
                      "rgba(255, 99, 71, 0.44800000000000023)",
                      "rgba(30, 144, 255, 0.44800000000000023)",
                      "rgba(30, 144, 255, 0.4240000000000002)",
                      "rgba(0, 255, 0, 0.4240000000000002)",
                      "rgba(255, 99, 71, 0.4240000000000002)",
                      "rgba(255, 99, 71, 0.4000000000000002)",
                      "rgba(30, 144, 255, 0.4000000000000002)",
                      "rgba(0, 255, 0, 0.4000000000000002)",
                      "rgba(0, 255, 0, 0.37600000000000017)",
                      "rgba(255, 99, 71, 0.37600000000000017)",
                      "rgba(30, 144, 255, 0.37600000000000017)",
                      "rgba(30, 144, 255, 0.35200000000000015)",
                      "rgba(0, 255, 0, 0.35200000000000015)",
                      "rgba(255, 99, 71, 0.35200000000000015)",
                      "rgba(255, 99, 71, 0.3280000000000001)",
                      "rgba(30, 144, 255, 0.3280000000000001)",
                      "rgba(0, 255, 0, 0.3280000000000001)",
                      "rgba(0, 255, 0, 0.3040000000000001)",
                      "rgba(255, 99, 71, 0.3040000000000001)",
                      "rgba(30, 144, 255, 0.3040000000000001)",
                      "rgba(30, 144, 255, 0.2800000000000003)",
                      "rgba(0, 255, 0, 0.2800000000000003)",
                      "rgba(255, 99, 71, 0.2800000000000003)",
                      "rgba(255, 99, 71, 0.2560000000000003)",
                      "rgba(30, 144, 255, 0.2560000000000003)",
                      "rgba(0, 255, 0, 0.2560000000000003)",
                      "rgba(0, 255, 0, 0.23200000000000026)",
                      "rgba(255, 99, 71, 0.23200000000000026)",
                      "rgba(30, 144, 255, 0.23200000000000026)",
                      "rgba(30, 144, 255, 0.20800000000000024)"
                    ],
                    "opacity": 0.8,
                    "size": [
                      20,
                      20,
                      20,
                      20,
                      20,
                      20,
                      20,
                      20,
                      20,
                      20,
                      20,
                      20,
                      20,
                      20,
                      20,
                      20,
                      20,
                      20,
                      20,
                      20,
                      20,
                      20,
                      20,
                      20,
                      20,
                      20,
                      20,
                      20,
                      20,
                      20,
                      20,
                      20,
                      20,
                      20,
                      20,
                      20,
                      20,
                      20,
                      20,
                      20,
                      20,
                      20,
                      20,
                      20,
                      20,
                      20,
                      20,
                      20,
                      20,
                      20,
                      20,
                      20,
                      20,
                      20,
                      20,
                      20,
                      20,
                      20,
                      20,
                      20,
                      20,
                      20,
                      20,
                      20,
                      20,
                      20,
                      20,
                      20,
                      20,
                      20,
                      20,
                      20,
                      20,
                      20,
                      20,
                      20,
                      20,
                      20,
                      20,
                      20,
                      20,
                      20,
                      20,
                      20,
                      20,
                      20,
                      20,
                      20,
                      20,
                      20,
                      20,
                      20,
                      20,
                      20,
                      20,
                      20,
                      20,
                      20,
                      20,
                      20
                    ],
                    "symbol": "circle"
                  },
                  "mode": "markers",
                  "text": [
                    "0",
                    "1",
                    "2",
                    "3",
                    "4",
                    "5",
                    "6",
                    "7",
                    "8",
                    "9",
                    "10",
                    "11",
                    "12",
                    "13",
                    "14",
                    "15",
                    "16",
                    "17",
                    "18",
                    "19",
                    "20",
                    "21",
                    "22",
                    "23",
                    "24",
                    "25",
                    "26",
                    "27",
                    "28",
                    "29",
                    "30",
                    "31",
                    "32",
                    "33",
                    "34",
                    "35",
                    "36",
                    "37",
                    "38",
                    "39",
                    "40",
                    "41",
                    "42",
                    "43",
                    "44",
                    "45",
                    "46",
                    "47",
                    "48",
                    "49",
                    "50",
                    "51",
                    "52",
                    "53",
                    "54",
                    "55",
                    "56",
                    "57",
                    "58",
                    "59",
                    "60",
                    "61",
                    "62",
                    "63",
                    "64",
                    "65",
                    "66",
                    "67",
                    "68",
                    "69",
                    "70",
                    "71",
                    "72",
                    "73",
                    "74",
                    "75",
                    "76",
                    "77",
                    "78",
                    "79",
                    "80",
                    "81",
                    "82",
                    "83",
                    "84",
                    "85",
                    "86",
                    "87",
                    "88",
                    "89",
                    "90",
                    "91",
                    "92",
                    "93",
                    "94",
                    "95",
                    "96",
                    "97",
                    "98",
                    "99"
                  ],
                  "type": "scatter3d",
                  "x": [
                    11.52,
                    12.48,
                    12.3778,
                    12.73,
                    12.444,
                    13.6024,
                    14.1795,
                    12.67,
                    14.0049,
                    14.2266,
                    14.2628,
                    14.3714,
                    13.7592,
                    13.9129,
                    14.9544,
                    15.438,
                    14.8604,
                    14.938,
                    15.633,
                    14.4738,
                    15.1285,
                    15.9936,
                    15.5227,
                    15.4686,
                    16.2405,
                    16.36,
                    16.3618,
                    16.517,
                    16.8896,
                    18.957,
                    18.0369,
                    18.084,
                    18.7542,
                    18.6354,
                    17.6235,
                    4.1472,
                    5.2983,
                    5.5756,
                    5.6166,
                    6.216,
                    6.4752,
                    6.1677,
                    6.1146,
                    5.8045,
                    6.6339,
                    7.0334,
                    6.55,
                    6.4,
                    7.5344,
                    6.9153,
                    7.3968,
                    7.0866,
                    8.8768,
                    8.568,
                    9.485,
                    8.3804,
                    8.1454,
                    8.778,
                    10.744,
                    11.7612,
                    12.354,
                    6.8475,
                    6.5772,
                    7.4052,
                    8.3922,
                    8.8928,
                    8.5376,
                    9.396,
                    9.7364,
                    10.3458,
                    11.088,
                    11.368,
                    2.112,
                    3.528,
                    3.824,
                    4.5924,
                    4.588,
                    5.2224,
                    5.1992,
                    5.6358,
                    5.1376,
                    5.082,
                    5.6925,
                    5.9175,
                    5.6925,
                    6.384,
                    6.11,
                    5.64,
                    6.11,
                    5.875,
                    5.5225,
                    5.856,
                    6.792,
                    5.9532,
                    5.2185,
                    6.275,
                    7.293,
                    6.375,
                    6.7334,
                    6.4395
                  ],
                  "y": [
                    4.02,
                    4.3056,
                    4.6961,
                    4.4555,
                    5.134,
                    4.9274,
                    5.2785,
                    4.69,
                    4.8438,
                    4.9594,
                    5.1042,
                    4.8146,
                    4.368,
                    5.0728,
                    5.1708,
                    5.58,
                    5.2854,
                    5.1975,
                    5.1338,
                    5.7276,
                    5.5695,
                    5.3704,
                    5.2801,
                    6.1306,
                    5.589,
                    6.0532,
                    6.09,
                    5.8515,
                    6.1984,
                    6.603,
                    6.3063,
                    6.292,
                    6.7497,
                    6.7473,
                    6.3705,
                    2.268,
                    2.8217,
                    2.9044,
                    3.1746,
                    3.5742,
                    3.3516,
                    3.3957,
                    3.2943,
                    3.7544,
                    3.5478,
                    3.8203,
                    3.325,
                    3.8,
                    3.8352,
                    3.6312,
                    4.1272,
                    3.906,
                    4.4968,
                    4.7736,
                    5.355,
                    4.2476,
                    4.2485,
                    4.6816,
                    6.562,
                    6.5736,
                    6.525,
                    2.3265,
                    2.3142,
                    2.673,
                    2.9181,
                    3.2928,
                    3.2944,
                    3.4104,
                    3.1571,
                    3.6636,
                    4.144,
                    4.234,
                    1.408,
                    1.9992,
                    2.432,
                    2.6316,
                    2.9415,
                    3.3216,
                    3.1234,
                    3.0502,
                    3.0368,
                    2.772,
                    3.555,
                    3.3075,
                    3.6675,
                    3.534,
                    3.4075,
                    3.525,
                    3.525,
                    3.525,
                    3.995,
                    3.624,
                    3.624,
                    3.63,
                    3.626,
                    3.725,
                    3.723,
                    3.825,
                    4.1658,
                    3.6835
                  ],
                  "z": [
                    242,
                    290,
                    340,
                    363,
                    430,
                    450,
                    500,
                    390,
                    450,
                    500,
                    475,
                    500,
                    500,
                    340,
                    600,
                    600,
                    700,
                    700,
                    610,
                    650,
                    575,
                    685,
                    620,
                    680,
                    700,
                    725,
                    720,
                    714,
                    850,
                    1000,
                    920,
                    955,
                    925,
                    975,
                    950,
                    40,
                    69,
                    78,
                    87,
                    120,
                    0,
                    110,
                    120,
                    150,
                    145,
                    160,
                    140,
                    160,
                    169,
                    161,
                    200,
                    180,
                    290,
                    272,
                    390,
                    270,
                    270,
                    306,
                    540,
                    800,
                    1000,
                    55,
                    60,
                    90,
                    120,
                    150,
                    140,
                    170,
                    145,
                    200,
                    273,
                    300,
                    5.9,
                    32,
                    40,
                    51.5,
                    70,
                    100,
                    78,
                    80,
                    85,
                    85,
                    110,
                    115,
                    125,
                    130,
                    120,
                    120,
                    130,
                    135,
                    110,
                    130,
                    150,
                    145,
                    150,
                    170,
                    225,
                    145,
                    188,
                    180
                  ]
                }
              ],
              "layout": {
                "legend": {
                  "bgcolor": "#1A1A1C",
                  "font": {
                    "color": "#D9D9D9"
                  }
                },
                "paper_bgcolor": "#1A1A1C",
                "plot_bgcolor": "#1A1A1C",
                "scene": {
                  "xaxis": {
                    "gridcolor": "#434343",
                    "showgrid": true,
                    "tickfont": {
                      "color": "#C2C2C2"
                    },
                    "title": {
                      "font": {
                        "color": "#D9D9D9"
                      },
                      "text": "Fish Height"
                    },
                    "zerolinecolor": "#666570"
                  },
                  "yaxis": {
                    "gridcolor": "#434343",
                    "showgrid": true,
                    "tickfont": {
                      "color": "#C2C2C2"
                    },
                    "title": {
                      "font": {
                        "color": "#D9D9D9"
                      },
                      "text": "Fish Width"
                    },
                    "zerolinecolor": "#666570"
                  },
                  "zaxis": {
                    "gridcolor": "#434343",
                    "showgrid": true,
                    "tickfont": {
                      "color": "#C2C2C2"
                    },
                    "title": {
                      "font": {
                        "color": "#D9D9D9"
                      },
                      "text": ""
                    },
                    "zerolinecolor": "#666570"
                  }
                },
                "template": {
                  "data": {
                    "bar": [
                      {
                        "error_x": {
                          "color": "#2a3f5f"
                        },
                        "error_y": {
                          "color": "#2a3f5f"
                        },
                        "marker": {
                          "line": {
                            "color": "#E5ECF6",
                            "width": 0.5
                          },
                          "pattern": {
                            "fillmode": "overlay",
                            "size": 10,
                            "solidity": 0.2
                          }
                        },
                        "type": "bar"
                      }
                    ],
                    "barpolar": [
                      {
                        "marker": {
                          "line": {
                            "color": "#E5ECF6",
                            "width": 0.5
                          },
                          "pattern": {
                            "fillmode": "overlay",
                            "size": 10,
                            "solidity": 0.2
                          }
                        },
                        "type": "barpolar"
                      }
                    ],
                    "carpet": [
                      {
                        "aaxis": {
                          "endlinecolor": "#2a3f5f",
                          "gridcolor": "white",
                          "linecolor": "white",
                          "minorgridcolor": "white",
                          "startlinecolor": "#2a3f5f"
                        },
                        "baxis": {
                          "endlinecolor": "#2a3f5f",
                          "gridcolor": "white",
                          "linecolor": "white",
                          "minorgridcolor": "white",
                          "startlinecolor": "#2a3f5f"
                        },
                        "type": "carpet"
                      }
                    ],
                    "choropleth": [
                      {
                        "colorbar": {
                          "outlinewidth": 0,
                          "ticks": ""
                        },
                        "type": "choropleth"
                      }
                    ],
                    "contour": [
                      {
                        "colorbar": {
                          "outlinewidth": 0,
                          "ticks": ""
                        },
                        "colorscale": [
                          [
                            0,
                            "#0d0887"
                          ],
                          [
                            0.1111111111111111,
                            "#46039f"
                          ],
                          [
                            0.2222222222222222,
                            "#7201a8"
                          ],
                          [
                            0.3333333333333333,
                            "#9c179e"
                          ],
                          [
                            0.4444444444444444,
                            "#bd3786"
                          ],
                          [
                            0.5555555555555556,
                            "#d8576b"
                          ],
                          [
                            0.6666666666666666,
                            "#ed7953"
                          ],
                          [
                            0.7777777777777778,
                            "#fb9f3a"
                          ],
                          [
                            0.8888888888888888,
                            "#fdca26"
                          ],
                          [
                            1,
                            "#f0f921"
                          ]
                        ],
                        "type": "contour"
                      }
                    ],
                    "contourcarpet": [
                      {
                        "colorbar": {
                          "outlinewidth": 0,
                          "ticks": ""
                        },
                        "type": "contourcarpet"
                      }
                    ],
                    "heatmap": [
                      {
                        "colorbar": {
                          "outlinewidth": 0,
                          "ticks": ""
                        },
                        "colorscale": [
                          [
                            0,
                            "#0d0887"
                          ],
                          [
                            0.1111111111111111,
                            "#46039f"
                          ],
                          [
                            0.2222222222222222,
                            "#7201a8"
                          ],
                          [
                            0.3333333333333333,
                            "#9c179e"
                          ],
                          [
                            0.4444444444444444,
                            "#bd3786"
                          ],
                          [
                            0.5555555555555556,
                            "#d8576b"
                          ],
                          [
                            0.6666666666666666,
                            "#ed7953"
                          ],
                          [
                            0.7777777777777778,
                            "#fb9f3a"
                          ],
                          [
                            0.8888888888888888,
                            "#fdca26"
                          ],
                          [
                            1,
                            "#f0f921"
                          ]
                        ],
                        "type": "heatmap"
                      }
                    ],
                    "heatmapgl": [
                      {
                        "colorbar": {
                          "outlinewidth": 0,
                          "ticks": ""
                        },
                        "colorscale": [
                          [
                            0,
                            "#0d0887"
                          ],
                          [
                            0.1111111111111111,
                            "#46039f"
                          ],
                          [
                            0.2222222222222222,
                            "#7201a8"
                          ],
                          [
                            0.3333333333333333,
                            "#9c179e"
                          ],
                          [
                            0.4444444444444444,
                            "#bd3786"
                          ],
                          [
                            0.5555555555555556,
                            "#d8576b"
                          ],
                          [
                            0.6666666666666666,
                            "#ed7953"
                          ],
                          [
                            0.7777777777777778,
                            "#fb9f3a"
                          ],
                          [
                            0.8888888888888888,
                            "#fdca26"
                          ],
                          [
                            1,
                            "#f0f921"
                          ]
                        ],
                        "type": "heatmapgl"
                      }
                    ],
                    "histogram": [
                      {
                        "marker": {
                          "pattern": {
                            "fillmode": "overlay",
                            "size": 10,
                            "solidity": 0.2
                          }
                        },
                        "type": "histogram"
                      }
                    ],
                    "histogram2d": [
                      {
                        "colorbar": {
                          "outlinewidth": 0,
                          "ticks": ""
                        },
                        "colorscale": [
                          [
                            0,
                            "#0d0887"
                          ],
                          [
                            0.1111111111111111,
                            "#46039f"
                          ],
                          [
                            0.2222222222222222,
                            "#7201a8"
                          ],
                          [
                            0.3333333333333333,
                            "#9c179e"
                          ],
                          [
                            0.4444444444444444,
                            "#bd3786"
                          ],
                          [
                            0.5555555555555556,
                            "#d8576b"
                          ],
                          [
                            0.6666666666666666,
                            "#ed7953"
                          ],
                          [
                            0.7777777777777778,
                            "#fb9f3a"
                          ],
                          [
                            0.8888888888888888,
                            "#fdca26"
                          ],
                          [
                            1,
                            "#f0f921"
                          ]
                        ],
                        "type": "histogram2d"
                      }
                    ],
                    "histogram2dcontour": [
                      {
                        "colorbar": {
                          "outlinewidth": 0,
                          "ticks": ""
                        },
                        "colorscale": [
                          [
                            0,
                            "#0d0887"
                          ],
                          [
                            0.1111111111111111,
                            "#46039f"
                          ],
                          [
                            0.2222222222222222,
                            "#7201a8"
                          ],
                          [
                            0.3333333333333333,
                            "#9c179e"
                          ],
                          [
                            0.4444444444444444,
                            "#bd3786"
                          ],
                          [
                            0.5555555555555556,
                            "#d8576b"
                          ],
                          [
                            0.6666666666666666,
                            "#ed7953"
                          ],
                          [
                            0.7777777777777778,
                            "#fb9f3a"
                          ],
                          [
                            0.8888888888888888,
                            "#fdca26"
                          ],
                          [
                            1,
                            "#f0f921"
                          ]
                        ],
                        "type": "histogram2dcontour"
                      }
                    ],
                    "mesh3d": [
                      {
                        "colorbar": {
                          "outlinewidth": 0,
                          "ticks": ""
                        },
                        "type": "mesh3d"
                      }
                    ],
                    "parcoords": [
                      {
                        "line": {
                          "colorbar": {
                            "outlinewidth": 0,
                            "ticks": ""
                          }
                        },
                        "type": "parcoords"
                      }
                    ],
                    "pie": [
                      {
                        "automargin": true,
                        "type": "pie"
                      }
                    ],
                    "scatter": [
                      {
                        "marker": {
                          "colorbar": {
                            "outlinewidth": 0,
                            "ticks": ""
                          }
                        },
                        "type": "scatter"
                      }
                    ],
                    "scatter3d": [
                      {
                        "line": {
                          "colorbar": {
                            "outlinewidth": 0,
                            "ticks": ""
                          }
                        },
                        "marker": {
                          "colorbar": {
                            "outlinewidth": 0,
                            "ticks": ""
                          }
                        },
                        "type": "scatter3d"
                      }
                    ],
                    "scattercarpet": [
                      {
                        "marker": {
                          "colorbar": {
                            "outlinewidth": 0,
                            "ticks": ""
                          }
                        },
                        "type": "scattercarpet"
                      }
                    ],
                    "scattergeo": [
                      {
                        "marker": {
                          "colorbar": {
                            "outlinewidth": 0,
                            "ticks": ""
                          }
                        },
                        "type": "scattergeo"
                      }
                    ],
                    "scattergl": [
                      {
                        "marker": {
                          "colorbar": {
                            "outlinewidth": 0,
                            "ticks": ""
                          }
                        },
                        "type": "scattergl"
                      }
                    ],
                    "scattermapbox": [
                      {
                        "marker": {
                          "colorbar": {
                            "outlinewidth": 0,
                            "ticks": ""
                          }
                        },
                        "type": "scattermapbox"
                      }
                    ],
                    "scatterpolar": [
                      {
                        "marker": {
                          "colorbar": {
                            "outlinewidth": 0,
                            "ticks": ""
                          }
                        },
                        "type": "scatterpolar"
                      }
                    ],
                    "scatterpolargl": [
                      {
                        "marker": {
                          "colorbar": {
                            "outlinewidth": 0,
                            "ticks": ""
                          }
                        },
                        "type": "scatterpolargl"
                      }
                    ],
                    "scatterternary": [
                      {
                        "marker": {
                          "colorbar": {
                            "outlinewidth": 0,
                            "ticks": ""
                          }
                        },
                        "type": "scatterternary"
                      }
                    ],
                    "surface": [
                      {
                        "colorbar": {
                          "outlinewidth": 0,
                          "ticks": ""
                        },
                        "colorscale": [
                          [
                            0,
                            "#0d0887"
                          ],
                          [
                            0.1111111111111111,
                            "#46039f"
                          ],
                          [
                            0.2222222222222222,
                            "#7201a8"
                          ],
                          [
                            0.3333333333333333,
                            "#9c179e"
                          ],
                          [
                            0.4444444444444444,
                            "#bd3786"
                          ],
                          [
                            0.5555555555555556,
                            "#d8576b"
                          ],
                          [
                            0.6666666666666666,
                            "#ed7953"
                          ],
                          [
                            0.7777777777777778,
                            "#fb9f3a"
                          ],
                          [
                            0.8888888888888888,
                            "#fdca26"
                          ],
                          [
                            1,
                            "#f0f921"
                          ]
                        ],
                        "type": "surface"
                      }
                    ],
                    "table": [
                      {
                        "cells": {
                          "fill": {
                            "color": "#EBF0F8"
                          },
                          "line": {
                            "color": "white"
                          }
                        },
                        "header": {
                          "fill": {
                            "color": "#C8D4E3"
                          },
                          "line": {
                            "color": "white"
                          }
                        },
                        "type": "table"
                      }
                    ]
                  },
                  "layout": {
                    "annotationdefaults": {
                      "arrowcolor": "#2a3f5f",
                      "arrowhead": 0,
                      "arrowwidth": 1
                    },
                    "autotypenumbers": "strict",
                    "coloraxis": {
                      "colorbar": {
                        "outlinewidth": 0,
                        "ticks": ""
                      }
                    },
                    "colorscale": {
                      "diverging": [
                        [
                          0,
                          "#8e0152"
                        ],
                        [
                          0.1,
                          "#c51b7d"
                        ],
                        [
                          0.2,
                          "#de77ae"
                        ],
                        [
                          0.3,
                          "#f1b6da"
                        ],
                        [
                          0.4,
                          "#fde0ef"
                        ],
                        [
                          0.5,
                          "#f7f7f7"
                        ],
                        [
                          0.6,
                          "#e6f5d0"
                        ],
                        [
                          0.7,
                          "#b8e186"
                        ],
                        [
                          0.8,
                          "#7fbc41"
                        ],
                        [
                          0.9,
                          "#4d9221"
                        ],
                        [
                          1,
                          "#276419"
                        ]
                      ],
                      "sequential": [
                        [
                          0,
                          "#0d0887"
                        ],
                        [
                          0.1111111111111111,
                          "#46039f"
                        ],
                        [
                          0.2222222222222222,
                          "#7201a8"
                        ],
                        [
                          0.3333333333333333,
                          "#9c179e"
                        ],
                        [
                          0.4444444444444444,
                          "#bd3786"
                        ],
                        [
                          0.5555555555555556,
                          "#d8576b"
                        ],
                        [
                          0.6666666666666666,
                          "#ed7953"
                        ],
                        [
                          0.7777777777777778,
                          "#fb9f3a"
                        ],
                        [
                          0.8888888888888888,
                          "#fdca26"
                        ],
                        [
                          1,
                          "#f0f921"
                        ]
                      ],
                      "sequentialminus": [
                        [
                          0,
                          "#0d0887"
                        ],
                        [
                          0.1111111111111111,
                          "#46039f"
                        ],
                        [
                          0.2222222222222222,
                          "#7201a8"
                        ],
                        [
                          0.3333333333333333,
                          "#9c179e"
                        ],
                        [
                          0.4444444444444444,
                          "#bd3786"
                        ],
                        [
                          0.5555555555555556,
                          "#d8576b"
                        ],
                        [
                          0.6666666666666666,
                          "#ed7953"
                        ],
                        [
                          0.7777777777777778,
                          "#fb9f3a"
                        ],
                        [
                          0.8888888888888888,
                          "#fdca26"
                        ],
                        [
                          1,
                          "#f0f921"
                        ]
                      ]
                    },
                    "colorway": [
                      "#636efa",
                      "#EF553B",
                      "#00cc96",
                      "#ab63fa",
                      "#FFA15A",
                      "#19d3f3",
                      "#FF6692",
                      "#B6E880",
                      "#FF97FF",
                      "#FECB52"
                    ],
                    "font": {
                      "color": "#2a3f5f"
                    },
                    "geo": {
                      "bgcolor": "white",
                      "lakecolor": "white",
                      "landcolor": "#E5ECF6",
                      "showlakes": true,
                      "showland": true,
                      "subunitcolor": "white"
                    },
                    "hoverlabel": {
                      "align": "left"
                    },
                    "hovermode": "closest",
                    "mapbox": {
                      "style": "light"
                    },
                    "paper_bgcolor": "white",
                    "plot_bgcolor": "#E5ECF6",
                    "polar": {
                      "angularaxis": {
                        "gridcolor": "white",
                        "linecolor": "white",
                        "ticks": ""
                      },
                      "bgcolor": "#E5ECF6",
                      "radialaxis": {
                        "gridcolor": "white",
                        "linecolor": "white",
                        "ticks": ""
                      }
                    },
                    "scene": {
                      "xaxis": {
                        "backgroundcolor": "#E5ECF6",
                        "gridcolor": "white",
                        "gridwidth": 2,
                        "linecolor": "white",
                        "showbackground": true,
                        "ticks": "",
                        "zerolinecolor": "white"
                      },
                      "yaxis": {
                        "backgroundcolor": "#E5ECF6",
                        "gridcolor": "white",
                        "gridwidth": 2,
                        "linecolor": "white",
                        "showbackground": true,
                        "ticks": "",
                        "zerolinecolor": "white"
                      },
                      "zaxis": {
                        "backgroundcolor": "#E5ECF6",
                        "gridcolor": "white",
                        "gridwidth": 2,
                        "linecolor": "white",
                        "showbackground": true,
                        "ticks": "",
                        "zerolinecolor": "white"
                      }
                    },
                    "shapedefaults": {
                      "line": {
                        "color": "#2a3f5f"
                      }
                    },
                    "ternary": {
                      "aaxis": {
                        "gridcolor": "white",
                        "linecolor": "white",
                        "ticks": ""
                      },
                      "baxis": {
                        "gridcolor": "white",
                        "linecolor": "white",
                        "ticks": ""
                      },
                      "bgcolor": "#E5ECF6",
                      "caxis": {
                        "gridcolor": "white",
                        "linecolor": "white",
                        "ticks": ""
                      }
                    },
                    "title": {
                      "x": 0.05
                    },
                    "xaxis": {
                      "automargin": true,
                      "gridcolor": "white",
                      "linecolor": "white",
                      "ticks": "",
                      "title": {
                        "standoff": 15
                      },
                      "zerolinecolor": "white",
                      "zerolinewidth": 2
                    },
                    "yaxis": {
                      "automargin": true,
                      "gridcolor": "white",
                      "linecolor": "white",
                      "ticks": "",
                      "title": {
                        "standoff": 15
                      },
                      "zerolinecolor": "white",
                      "zerolinewidth": 2
                    }
                  }
                },
                "title": {
                  "font": {
                    "color": "#D9D9D9"
                  },
                  "text": "Fish Height vs Fish Width vs Fish Weight Scatter Chart"
                }
              }
            },
            "text/html": [
              "<div>                            <div id=\"3f355fb5-8d46-4912-861c-97373fe6435f\" class=\"plotly-graph-div\" style=\"height:525px; width:100%;\"></div>            <script type=\"text/javascript\">                require([\"plotly\"], function(Plotly) {                    window.PLOTLYENV=window.PLOTLYENV || {};\n",
              "                    window.PLOTLYENV.BASE_URL='https://plot.ly';                                    if (document.getElementById(\"3f355fb5-8d46-4912-861c-97373fe6435f\")) {                    Plotly.newPlot(                        \"3f355fb5-8d46-4912-861c-97373fe6435f\",                        [{\"marker\":{\"color\":[\"rgba(30, 144, 255, 1.0)\",\"rgba(0, 255, 0, 1.0)\",\"rgba(255, 99, 71, 1.0)\",\"rgba(255, 99, 71, 0.976)\",\"rgba(30, 144, 255, 0.976)\",\"rgba(0, 255, 0, 0.976)\",\"rgba(0, 255, 0, 0.952)\",\"rgba(255, 99, 71, 0.952)\",\"rgba(30, 144, 255, 0.952)\",\"rgba(30, 144, 255, 0.9279999999999999)\",\"rgba(0, 255, 0, 0.9279999999999999)\",\"rgba(255, 99, 71, 0.9279999999999999)\",\"rgba(255, 99, 71, 0.9039999999999999)\",\"rgba(30, 144, 255, 0.9039999999999999)\",\"rgba(0, 255, 0, 0.9039999999999999)\",\"rgba(0, 255, 0, 0.8800000000000001)\",\"rgba(255, 99, 71, 0.8800000000000001)\",\"rgba(30, 144, 255, 0.8800000000000001)\",\"rgba(30, 144, 255, 0.8560000000000001)\",\"rgba(0, 255, 0, 0.8560000000000001)\",\"rgba(255, 99, 71, 0.8560000000000001)\",\"rgba(255, 99, 71, 0.8320000000000001)\",\"rgba(30, 144, 255, 0.8320000000000001)\",\"rgba(0, 255, 0, 0.8320000000000001)\",\"rgba(0, 255, 0, 0.808)\",\"rgba(255, 99, 71, 0.808)\",\"rgba(30, 144, 255, 0.808)\",\"rgba(30, 144, 255, 0.784)\",\"rgba(0, 255, 0, 0.784)\",\"rgba(255, 99, 71, 0.784)\",\"rgba(255, 99, 71, 0.76)\",\"rgba(30, 144, 255, 0.76)\",\"rgba(0, 255, 0, 0.76)\",\"rgba(0, 255, 0, 0.736)\",\"rgba(255, 99, 71, 0.736)\",\"rgba(30, 144, 255, 0.736)\",\"rgba(30, 144, 255, 0.712)\",\"rgba(0, 255, 0, 0.712)\",\"rgba(255, 99, 71, 0.712)\",\"rgba(255, 99, 71, 0.688)\",\"rgba(30, 144, 255, 0.688)\",\"rgba(0, 255, 0, 0.688)\",\"rgba(0, 255, 0, 0.6640000000000001)\",\"rgba(255, 99, 71, 0.6640000000000001)\",\"rgba(30, 144, 255, 0.6640000000000001)\",\"rgba(30, 144, 255, 0.6400000000000001)\",\"rgba(0, 255, 0, 0.6400000000000001)\",\"rgba(255, 99, 71, 0.6400000000000001)\",\"rgba(255, 99, 71, 0.6160000000000001)\",\"rgba(30, 144, 255, 0.6160000000000001)\",\"rgba(0, 255, 0, 0.6160000000000001)\",\"rgba(0, 255, 0, 0.5920000000000001)\",\"rgba(255, 99, 71, 0.5920000000000001)\",\"rgba(30, 144, 255, 0.5920000000000001)\",\"rgba(30, 144, 255, 0.5680000000000001)\",\"rgba(0, 255, 0, 0.5680000000000001)\",\"rgba(255, 99, 71, 0.5680000000000001)\",\"rgba(255, 99, 71, 0.544)\",\"rgba(30, 144, 255, 0.544)\",\"rgba(0, 255, 0, 0.544)\",\"rgba(0, 255, 0, 0.52)\",\"rgba(255, 99, 71, 0.52)\",\"rgba(30, 144, 255, 0.52)\",\"rgba(30, 144, 255, 0.49600000000000005)\",\"rgba(0, 255, 0, 0.49600000000000005)\",\"rgba(255, 99, 71, 0.49600000000000005)\",\"rgba(255, 99, 71, 0.47200000000000025)\",\"rgba(30, 144, 255, 0.47200000000000025)\",\"rgba(0, 255, 0, 0.47200000000000025)\",\"rgba(0, 255, 0, 0.44800000000000023)\",\"rgba(255, 99, 71, 0.44800000000000023)\",\"rgba(30, 144, 255, 0.44800000000000023)\",\"rgba(30, 144, 255, 0.4240000000000002)\",\"rgba(0, 255, 0, 0.4240000000000002)\",\"rgba(255, 99, 71, 0.4240000000000002)\",\"rgba(255, 99, 71, 0.4000000000000002)\",\"rgba(30, 144, 255, 0.4000000000000002)\",\"rgba(0, 255, 0, 0.4000000000000002)\",\"rgba(0, 255, 0, 0.37600000000000017)\",\"rgba(255, 99, 71, 0.37600000000000017)\",\"rgba(30, 144, 255, 0.37600000000000017)\",\"rgba(30, 144, 255, 0.35200000000000015)\",\"rgba(0, 255, 0, 0.35200000000000015)\",\"rgba(255, 99, 71, 0.35200000000000015)\",\"rgba(255, 99, 71, 0.3280000000000001)\",\"rgba(30, 144, 255, 0.3280000000000001)\",\"rgba(0, 255, 0, 0.3280000000000001)\",\"rgba(0, 255, 0, 0.3040000000000001)\",\"rgba(255, 99, 71, 0.3040000000000001)\",\"rgba(30, 144, 255, 0.3040000000000001)\",\"rgba(30, 144, 255, 0.2800000000000003)\",\"rgba(0, 255, 0, 0.2800000000000003)\",\"rgba(255, 99, 71, 0.2800000000000003)\",\"rgba(255, 99, 71, 0.2560000000000003)\",\"rgba(30, 144, 255, 0.2560000000000003)\",\"rgba(0, 255, 0, 0.2560000000000003)\",\"rgba(0, 255, 0, 0.23200000000000026)\",\"rgba(255, 99, 71, 0.23200000000000026)\",\"rgba(30, 144, 255, 0.23200000000000026)\",\"rgba(30, 144, 255, 0.20800000000000024)\"],\"opacity\":0.8,\"size\":[20,20,20,20,20,20,20,20,20,20,20,20,20,20,20,20,20,20,20,20,20,20,20,20,20,20,20,20,20,20,20,20,20,20,20,20,20,20,20,20,20,20,20,20,20,20,20,20,20,20,20,20,20,20,20,20,20,20,20,20,20,20,20,20,20,20,20,20,20,20,20,20,20,20,20,20,20,20,20,20,20,20,20,20,20,20,20,20,20,20,20,20,20,20,20,20,20,20,20,20],\"symbol\":\"circle\"},\"mode\":\"markers\",\"text\":[\"0\",\"1\",\"2\",\"3\",\"4\",\"5\",\"6\",\"7\",\"8\",\"9\",\"10\",\"11\",\"12\",\"13\",\"14\",\"15\",\"16\",\"17\",\"18\",\"19\",\"20\",\"21\",\"22\",\"23\",\"24\",\"25\",\"26\",\"27\",\"28\",\"29\",\"30\",\"31\",\"32\",\"33\",\"34\",\"35\",\"36\",\"37\",\"38\",\"39\",\"40\",\"41\",\"42\",\"43\",\"44\",\"45\",\"46\",\"47\",\"48\",\"49\",\"50\",\"51\",\"52\",\"53\",\"54\",\"55\",\"56\",\"57\",\"58\",\"59\",\"60\",\"61\",\"62\",\"63\",\"64\",\"65\",\"66\",\"67\",\"68\",\"69\",\"70\",\"71\",\"72\",\"73\",\"74\",\"75\",\"76\",\"77\",\"78\",\"79\",\"80\",\"81\",\"82\",\"83\",\"84\",\"85\",\"86\",\"87\",\"88\",\"89\",\"90\",\"91\",\"92\",\"93\",\"94\",\"95\",\"96\",\"97\",\"98\",\"99\"],\"type\":\"scatter3d\",\"x\":[11.52,12.48,12.3778,12.73,12.444,13.6024,14.1795,12.67,14.0049,14.2266,14.2628,14.3714,13.7592,13.9129,14.9544,15.438,14.8604,14.938,15.633,14.4738,15.1285,15.9936,15.5227,15.4686,16.2405,16.36,16.3618,16.517,16.8896,18.957,18.0369,18.084,18.7542,18.6354,17.6235,4.1472,5.2983,5.5756,5.6166,6.216,6.4752,6.1677,6.1146,5.8045,6.6339,7.0334,6.55,6.4,7.5344,6.9153,7.3968,7.0866,8.8768,8.568,9.485,8.3804,8.1454,8.778,10.744,11.7612,12.354,6.8475,6.5772,7.4052,8.3922,8.8928,8.5376,9.396,9.7364,10.3458,11.088,11.368,2.112,3.528,3.824,4.5924,4.588,5.2224,5.1992,5.6358,5.1376,5.082,5.6925,5.9175,5.6925,6.384,6.11,5.64,6.11,5.875,5.5225,5.856,6.792,5.9532,5.2185,6.275,7.293,6.375,6.7334,6.4395],\"y\":[4.02,4.3056,4.6961,4.4555,5.134,4.9274,5.2785,4.69,4.8438,4.9594,5.1042,4.8146,4.368,5.0728,5.1708,5.58,5.2854,5.1975,5.1338,5.7276,5.5695,5.3704,5.2801,6.1306,5.589,6.0532,6.09,5.8515,6.1984,6.603,6.3063,6.292,6.7497,6.7473,6.3705,2.268,2.8217,2.9044,3.1746,3.5742,3.3516,3.3957,3.2943,3.7544,3.5478,3.8203,3.325,3.8,3.8352,3.6312,4.1272,3.906,4.4968,4.7736,5.355,4.2476,4.2485,4.6816,6.562,6.5736,6.525,2.3265,2.3142,2.673,2.9181,3.2928,3.2944,3.4104,3.1571,3.6636,4.144,4.234,1.408,1.9992,2.432,2.6316,2.9415,3.3216,3.1234,3.0502,3.0368,2.772,3.555,3.3075,3.6675,3.534,3.4075,3.525,3.525,3.525,3.995,3.624,3.624,3.63,3.626,3.725,3.723,3.825,4.1658,3.6835],\"z\":[242.0,290.0,340.0,363.0,430.0,450.0,500.0,390.0,450.0,500.0,475.0,500.0,500.0,340.0,600.0,600.0,700.0,700.0,610.0,650.0,575.0,685.0,620.0,680.0,700.0,725.0,720.0,714.0,850.0,1000.0,920.0,955.0,925.0,975.0,950.0,40.0,69.0,78.0,87.0,120.0,0.0,110.0,120.0,150.0,145.0,160.0,140.0,160.0,169.0,161.0,200.0,180.0,290.0,272.0,390.0,270.0,270.0,306.0,540.0,800.0,1000.0,55.0,60.0,90.0,120.0,150.0,140.0,170.0,145.0,200.0,273.0,300.0,5.9,32.0,40.0,51.5,70.0,100.0,78.0,80.0,85.0,85.0,110.0,115.0,125.0,130.0,120.0,120.0,130.0,135.0,110.0,130.0,150.0,145.0,150.0,170.0,225.0,145.0,188.0,180.0]}],                        {\"legend\":{\"bgcolor\":\"#1A1A1C\",\"font\":{\"color\":\"#D9D9D9\"}},\"paper_bgcolor\":\"#1A1A1C\",\"plot_bgcolor\":\"#1A1A1C\",\"scene\":{\"xaxis\":{\"gridcolor\":\"#434343\",\"showgrid\":true,\"tickfont\":{\"color\":\"#C2C2C2\"},\"title\":{\"font\":{\"color\":\"#D9D9D9\"},\"text\":\"Fish Height\"},\"zerolinecolor\":\"#666570\"},\"yaxis\":{\"gridcolor\":\"#434343\",\"showgrid\":true,\"tickfont\":{\"color\":\"#C2C2C2\"},\"title\":{\"font\":{\"color\":\"#D9D9D9\"},\"text\":\"Fish Width\"},\"zerolinecolor\":\"#666570\"},\"zaxis\":{\"gridcolor\":\"#434343\",\"showgrid\":true,\"tickfont\":{\"color\":\"#C2C2C2\"},\"title\":{\"font\":{\"color\":\"#D9D9D9\"},\"text\":\"\"},\"zerolinecolor\":\"#666570\"}},\"template\":{\"data\":{\"bar\":[{\"error_x\":{\"color\":\"#2a3f5f\"},\"error_y\":{\"color\":\"#2a3f5f\"},\"marker\":{\"line\":{\"color\":\"#E5ECF6\",\"width\":0.5},\"pattern\":{\"fillmode\":\"overlay\",\"size\":10,\"solidity\":0.2}},\"type\":\"bar\"}],\"barpolar\":[{\"marker\":{\"line\":{\"color\":\"#E5ECF6\",\"width\":0.5},\"pattern\":{\"fillmode\":\"overlay\",\"size\":10,\"solidity\":0.2}},\"type\":\"barpolar\"}],\"carpet\":[{\"aaxis\":{\"endlinecolor\":\"#2a3f5f\",\"gridcolor\":\"white\",\"linecolor\":\"white\",\"minorgridcolor\":\"white\",\"startlinecolor\":\"#2a3f5f\"},\"baxis\":{\"endlinecolor\":\"#2a3f5f\",\"gridcolor\":\"white\",\"linecolor\":\"white\",\"minorgridcolor\":\"white\",\"startlinecolor\":\"#2a3f5f\"},\"type\":\"carpet\"}],\"choropleth\":[{\"colorbar\":{\"outlinewidth\":0,\"ticks\":\"\"},\"type\":\"choropleth\"}],\"contour\":[{\"colorbar\":{\"outlinewidth\":0,\"ticks\":\"\"},\"colorscale\":[[0.0,\"#0d0887\"],[0.1111111111111111,\"#46039f\"],[0.2222222222222222,\"#7201a8\"],[0.3333333333333333,\"#9c179e\"],[0.4444444444444444,\"#bd3786\"],[0.5555555555555556,\"#d8576b\"],[0.6666666666666666,\"#ed7953\"],[0.7777777777777778,\"#fb9f3a\"],[0.8888888888888888,\"#fdca26\"],[1.0,\"#f0f921\"]],\"type\":\"contour\"}],\"contourcarpet\":[{\"colorbar\":{\"outlinewidth\":0,\"ticks\":\"\"},\"type\":\"contourcarpet\"}],\"heatmap\":[{\"colorbar\":{\"outlinewidth\":0,\"ticks\":\"\"},\"colorscale\":[[0.0,\"#0d0887\"],[0.1111111111111111,\"#46039f\"],[0.2222222222222222,\"#7201a8\"],[0.3333333333333333,\"#9c179e\"],[0.4444444444444444,\"#bd3786\"],[0.5555555555555556,\"#d8576b\"],[0.6666666666666666,\"#ed7953\"],[0.7777777777777778,\"#fb9f3a\"],[0.8888888888888888,\"#fdca26\"],[1.0,\"#f0f921\"]],\"type\":\"heatmap\"}],\"heatmapgl\":[{\"colorbar\":{\"outlinewidth\":0,\"ticks\":\"\"},\"colorscale\":[[0.0,\"#0d0887\"],[0.1111111111111111,\"#46039f\"],[0.2222222222222222,\"#7201a8\"],[0.3333333333333333,\"#9c179e\"],[0.4444444444444444,\"#bd3786\"],[0.5555555555555556,\"#d8576b\"],[0.6666666666666666,\"#ed7953\"],[0.7777777777777778,\"#fb9f3a\"],[0.8888888888888888,\"#fdca26\"],[1.0,\"#f0f921\"]],\"type\":\"heatmapgl\"}],\"histogram\":[{\"marker\":{\"pattern\":{\"fillmode\":\"overlay\",\"size\":10,\"solidity\":0.2}},\"type\":\"histogram\"}],\"histogram2d\":[{\"colorbar\":{\"outlinewidth\":0,\"ticks\":\"\"},\"colorscale\":[[0.0,\"#0d0887\"],[0.1111111111111111,\"#46039f\"],[0.2222222222222222,\"#7201a8\"],[0.3333333333333333,\"#9c179e\"],[0.4444444444444444,\"#bd3786\"],[0.5555555555555556,\"#d8576b\"],[0.6666666666666666,\"#ed7953\"],[0.7777777777777778,\"#fb9f3a\"],[0.8888888888888888,\"#fdca26\"],[1.0,\"#f0f921\"]],\"type\":\"histogram2d\"}],\"histogram2dcontour\":[{\"colorbar\":{\"outlinewidth\":0,\"ticks\":\"\"},\"colorscale\":[[0.0,\"#0d0887\"],[0.1111111111111111,\"#46039f\"],[0.2222222222222222,\"#7201a8\"],[0.3333333333333333,\"#9c179e\"],[0.4444444444444444,\"#bd3786\"],[0.5555555555555556,\"#d8576b\"],[0.6666666666666666,\"#ed7953\"],[0.7777777777777778,\"#fb9f3a\"],[0.8888888888888888,\"#fdca26\"],[1.0,\"#f0f921\"]],\"type\":\"histogram2dcontour\"}],\"mesh3d\":[{\"colorbar\":{\"outlinewidth\":0,\"ticks\":\"\"},\"type\":\"mesh3d\"}],\"parcoords\":[{\"line\":{\"colorbar\":{\"outlinewidth\":0,\"ticks\":\"\"}},\"type\":\"parcoords\"}],\"pie\":[{\"automargin\":true,\"type\":\"pie\"}],\"scatter\":[{\"marker\":{\"colorbar\":{\"outlinewidth\":0,\"ticks\":\"\"}},\"type\":\"scatter\"}],\"scatter3d\":[{\"line\":{\"colorbar\":{\"outlinewidth\":0,\"ticks\":\"\"}},\"marker\":{\"colorbar\":{\"outlinewidth\":0,\"ticks\":\"\"}},\"type\":\"scatter3d\"}],\"scattercarpet\":[{\"marker\":{\"colorbar\":{\"outlinewidth\":0,\"ticks\":\"\"}},\"type\":\"scattercarpet\"}],\"scattergeo\":[{\"marker\":{\"colorbar\":{\"outlinewidth\":0,\"ticks\":\"\"}},\"type\":\"scattergeo\"}],\"scattergl\":[{\"marker\":{\"colorbar\":{\"outlinewidth\":0,\"ticks\":\"\"}},\"type\":\"scattergl\"}],\"scattermapbox\":[{\"marker\":{\"colorbar\":{\"outlinewidth\":0,\"ticks\":\"\"}},\"type\":\"scattermapbox\"}],\"scatterpolar\":[{\"marker\":{\"colorbar\":{\"outlinewidth\":0,\"ticks\":\"\"}},\"type\":\"scatterpolar\"}],\"scatterpolargl\":[{\"marker\":{\"colorbar\":{\"outlinewidth\":0,\"ticks\":\"\"}},\"type\":\"scatterpolargl\"}],\"scatterternary\":[{\"marker\":{\"colorbar\":{\"outlinewidth\":0,\"ticks\":\"\"}},\"type\":\"scatterternary\"}],\"surface\":[{\"colorbar\":{\"outlinewidth\":0,\"ticks\":\"\"},\"colorscale\":[[0.0,\"#0d0887\"],[0.1111111111111111,\"#46039f\"],[0.2222222222222222,\"#7201a8\"],[0.3333333333333333,\"#9c179e\"],[0.4444444444444444,\"#bd3786\"],[0.5555555555555556,\"#d8576b\"],[0.6666666666666666,\"#ed7953\"],[0.7777777777777778,\"#fb9f3a\"],[0.8888888888888888,\"#fdca26\"],[1.0,\"#f0f921\"]],\"type\":\"surface\"}],\"table\":[{\"cells\":{\"fill\":{\"color\":\"#EBF0F8\"},\"line\":{\"color\":\"white\"}},\"header\":{\"fill\":{\"color\":\"#C8D4E3\"},\"line\":{\"color\":\"white\"}},\"type\":\"table\"}]},\"layout\":{\"annotationdefaults\":{\"arrowcolor\":\"#2a3f5f\",\"arrowhead\":0,\"arrowwidth\":1},\"autotypenumbers\":\"strict\",\"coloraxis\":{\"colorbar\":{\"outlinewidth\":0,\"ticks\":\"\"}},\"colorscale\":{\"diverging\":[[0,\"#8e0152\"],[0.1,\"#c51b7d\"],[0.2,\"#de77ae\"],[0.3,\"#f1b6da\"],[0.4,\"#fde0ef\"],[0.5,\"#f7f7f7\"],[0.6,\"#e6f5d0\"],[0.7,\"#b8e186\"],[0.8,\"#7fbc41\"],[0.9,\"#4d9221\"],[1,\"#276419\"]],\"sequential\":[[0.0,\"#0d0887\"],[0.1111111111111111,\"#46039f\"],[0.2222222222222222,\"#7201a8\"],[0.3333333333333333,\"#9c179e\"],[0.4444444444444444,\"#bd3786\"],[0.5555555555555556,\"#d8576b\"],[0.6666666666666666,\"#ed7953\"],[0.7777777777777778,\"#fb9f3a\"],[0.8888888888888888,\"#fdca26\"],[1.0,\"#f0f921\"]],\"sequentialminus\":[[0.0,\"#0d0887\"],[0.1111111111111111,\"#46039f\"],[0.2222222222222222,\"#7201a8\"],[0.3333333333333333,\"#9c179e\"],[0.4444444444444444,\"#bd3786\"],[0.5555555555555556,\"#d8576b\"],[0.6666666666666666,\"#ed7953\"],[0.7777777777777778,\"#fb9f3a\"],[0.8888888888888888,\"#fdca26\"],[1.0,\"#f0f921\"]]},\"colorway\":[\"#636efa\",\"#EF553B\",\"#00cc96\",\"#ab63fa\",\"#FFA15A\",\"#19d3f3\",\"#FF6692\",\"#B6E880\",\"#FF97FF\",\"#FECB52\"],\"font\":{\"color\":\"#2a3f5f\"},\"geo\":{\"bgcolor\":\"white\",\"lakecolor\":\"white\",\"landcolor\":\"#E5ECF6\",\"showlakes\":true,\"showland\":true,\"subunitcolor\":\"white\"},\"hoverlabel\":{\"align\":\"left\"},\"hovermode\":\"closest\",\"mapbox\":{\"style\":\"light\"},\"paper_bgcolor\":\"white\",\"plot_bgcolor\":\"#E5ECF6\",\"polar\":{\"angularaxis\":{\"gridcolor\":\"white\",\"linecolor\":\"white\",\"ticks\":\"\"},\"bgcolor\":\"#E5ECF6\",\"radialaxis\":{\"gridcolor\":\"white\",\"linecolor\":\"white\",\"ticks\":\"\"}},\"scene\":{\"xaxis\":{\"backgroundcolor\":\"#E5ECF6\",\"gridcolor\":\"white\",\"gridwidth\":2,\"linecolor\":\"white\",\"showbackground\":true,\"ticks\":\"\",\"zerolinecolor\":\"white\"},\"yaxis\":{\"backgroundcolor\":\"#E5ECF6\",\"gridcolor\":\"white\",\"gridwidth\":2,\"linecolor\":\"white\",\"showbackground\":true,\"ticks\":\"\",\"zerolinecolor\":\"white\"},\"zaxis\":{\"backgroundcolor\":\"#E5ECF6\",\"gridcolor\":\"white\",\"gridwidth\":2,\"linecolor\":\"white\",\"showbackground\":true,\"ticks\":\"\",\"zerolinecolor\":\"white\"}},\"shapedefaults\":{\"line\":{\"color\":\"#2a3f5f\"}},\"ternary\":{\"aaxis\":{\"gridcolor\":\"white\",\"linecolor\":\"white\",\"ticks\":\"\"},\"baxis\":{\"gridcolor\":\"white\",\"linecolor\":\"white\",\"ticks\":\"\"},\"bgcolor\":\"#E5ECF6\",\"caxis\":{\"gridcolor\":\"white\",\"linecolor\":\"white\",\"ticks\":\"\"}},\"title\":{\"x\":0.05},\"xaxis\":{\"automargin\":true,\"gridcolor\":\"white\",\"linecolor\":\"white\",\"ticks\":\"\",\"title\":{\"standoff\":15},\"zerolinecolor\":\"white\",\"zerolinewidth\":2},\"yaxis\":{\"automargin\":true,\"gridcolor\":\"white\",\"linecolor\":\"white\",\"ticks\":\"\",\"title\":{\"standoff\":15},\"zerolinecolor\":\"white\",\"zerolinewidth\":2}}},\"title\":{\"font\":{\"color\":\"#D9D9D9\"},\"text\":\"Fish Height vs Fish Width vs Fish Weight Scatter Chart\"}},                        {\"showLink\": true, \"linkText\": \"Export to plot.ly\", \"plotlyServerURL\": \"https://plot.ly\", \"responsive\": true}                    ).then(function(){\n",
              "                            \n",
              "var gd = document.getElementById('3f355fb5-8d46-4912-861c-97373fe6435f');\n",
              "var x = new MutationObserver(function (mutations, observer) {{\n",
              "        var display = window.getComputedStyle(gd).display;\n",
              "        if (!display || display === 'none') {{\n",
              "            console.log([gd, 'removed!']);\n",
              "            Plotly.purge(gd);\n",
              "            observer.disconnect();\n",
              "        }}\n",
              "}});\n",
              "\n",
              "// Listen for the removal of the full notebook cells\n",
              "var notebookContainer = gd.closest('#notebook-container');\n",
              "if (notebookContainer) {{\n",
              "    x.observe(notebookContainer, {childList: true});\n",
              "}}\n",
              "\n",
              "// Listen for the clearing of the current output cell\n",
              "var outputEl = gd.closest('.output');\n",
              "if (outputEl) {{\n",
              "    x.observe(outputEl, {childList: true});\n",
              "}}\n",
              "\n",
              "                        })                };                });            </script>        </div>"
            ]
          },
          "metadata": {},
          "output_type": "display_data"
        }
      ],
      "source": [
        "df[:100].iplot(kind=\"scatter3d\", x=\"Height\", y=\"Width\",z=\"Weight\", size=20,\n",
        "              colors=[\"dodgerblue\", \"lime\", \"tomato\"],\n",
        "              xTitle=\"Fish Height\", yTitle=\"Fish Width\",\n",
        "              title=\"Fish Height vs Fish Width vs Fish Weight Scatter Chart\")"
      ]
    },
    {
      "cell_type": "markdown",
      "metadata": {
        "id": "hIJEWoKokPry"
      },
      "source": [
        "# outliers removal using IQR"
      ]
    },
    {
      "cell_type": "code",
      "execution_count": 24,
      "metadata": {
        "colab": {
          "base_uri": "https://localhost:8080/"
        },
        "id": "WmWEWU0-kYjJ",
        "outputId": "955b1cd6-77ed-47b5-bde8-46ec80bad12b"
      },
      "outputs": [
        {
          "data": {
            "text/plain": [
              "(159, 7)"
            ]
          },
          "execution_count": 24,
          "metadata": {},
          "output_type": "execute_result"
        }
      ],
      "source": [
        "df.shape"
      ]
    },
    {
      "cell_type": "code",
      "execution_count": 25,
      "metadata": {
        "colab": {
          "base_uri": "https://localhost:8080/"
        },
        "id": "7fQ_IqBZkRci",
        "outputId": "0bb16acd-00bb-4928-9f88-ca84f5cfa592"
      },
      "outputs": [
        {
          "name": "stdout",
          "output_type": "stream",
          "text": [
            "IQR value for column Species is: 2.5\n",
            "IQR value for column Weight is: 530.0\n",
            "IQR value for column Length1 is: 13.650000000000002\n",
            "IQR value for column Length2 is: 14.5\n",
            "IQR value for column Length3 is: 16.500000000000007\n",
            "IQR value for column Height is: 6.4211\n",
            "IQR value for column Width is: 2.19885\n",
            "Shape of data after outlier removal is:  (159, 7)\n"
          ]
        }
      ],
      "source": [
        "def removeOutliers(df, col):\n",
        "    Q3 = np.quantile(df[col], 0.75)\n",
        "    Q1 = np.quantile(df[col], 0.25)\n",
        "    IQR = Q3 - Q1\n",
        "     \n",
        "    print(\"IQR value for column %s is: %s\" % (col, IQR))\n",
        "    global outlier_free_list\n",
        "    global filtered_data\n",
        "     \n",
        "    lower_range = Q1 - 1.5 * IQR\n",
        "    upper_range = Q3 + 1.5 * IQR\n",
        "    outlier_free_list = [x for x in df[col] if (\n",
        "        (x > lower_range) & (x < upper_range))]\n",
        "    filtered_data = df.loc[df[col].isin(outlier_free_list)]\n",
        " \n",
        " \n",
        "for i in df.columns:\n",
        "    removeOutliers(df, i)\n",
        " \n",
        "# Assigning filtered data back to our original variable\n",
        "df = filtered_data\n",
        "print(\"Shape of data after outlier removal is: \", df.shape)"
      ]
    },
    {
      "cell_type": "markdown",
      "metadata": {
        "id": "DNi_06Ckkhuo"
      },
      "source": [
        "# creating target and response variable for model building"
      ]
    },
    {
      "cell_type": "code",
      "execution_count": 26,
      "metadata": {
        "id": "CbWZHjKBgdmh"
      },
      "outputs": [],
      "source": [
        "x_ind=df.drop('Species',axis=1)\n",
        "y_dep=df.Species"
      ]
    },
    {
      "cell_type": "markdown",
      "metadata": {
        "id": "uwXUe4Knks3w"
      },
      "source": [
        "# NORMALIZATION OF RESPONSE VARIABLE"
      ]
    },
    {
      "cell_type": "code",
      "execution_count": 27,
      "metadata": {
        "id": "j7hbXt-akuqA"
      },
      "outputs": [],
      "source": [
        "from sklearn.preprocessing import Normalizer\n",
        "norm=Normalizer()"
      ]
    },
    {
      "cell_type": "code",
      "execution_count": 28,
      "metadata": {
        "id": "q9CE1yppkxB4"
      },
      "outputs": [],
      "source": [
        "x_norm=norm.fit_transform(x_ind)"
      ]
    },
    {
      "cell_type": "code",
      "execution_count": 29,
      "metadata": {
        "colab": {
          "base_uri": "https://localhost:8080/",
          "height": 265
        },
        "id": "wOaD9Nhrk0cx",
        "outputId": "05591f18-5986-4577-e76e-d3e20fb1cbbe"
      },
      "outputs": [
        {
          "data": {
            "image/png": "[encoded data removed]",
            "text/plain": [
              "<Figure size 432x288 with 1 Axes>"
            ]
          },
          "metadata": {
            "needs_background": "light"
          },
          "output_type": "display_data"
        }
      ],
      "source": [
        "sns.distplot(x_norm);"
      ]
    },
    {
      "cell_type": "markdown",
      "metadata": {
        "id": "u3eopEz4lBLy"
      },
      "source": [
        "# model data selection for train and validation phase"
      ]
    },
    {
      "cell_type": "code",
      "execution_count": 30,
      "metadata": {
        "id": "YjGIZ3ZOlCpI"
      },
      "outputs": [],
      "source": [
        "from sklearn.model_selection import train_test_split \n",
        "x_train, x_test, y_train, y_test = train_test_split(x_ind,y_dep, test_size = 0.2,random_state=2)"
      ]
    },
    {
      "cell_type": "markdown",
      "metadata": {
        "id": "-jg2ckkjnpE4"
      },
      "source": [
        "# Hyper Parameter Tuning For SVM"
      ]
    },
    {
      "cell_type": "code",
      "execution_count": 38,
      "metadata": {},
      "outputs": [],
      "source": [
        "from sklearn.svm import SVC\n",
        "from sklearn.metrics import accuracy_score"
      ]
    },
    {
      "cell_type": "code",
      "execution_count": 39,
      "metadata": {
        "id": "NKaxSYBjnqLw"
      },
      "outputs": [],
      "source": [
        "kernel=['linear','rbf','poly','sigmoid']"
      ]
    },
    {
      "cell_type": "code",
      "execution_count": 40,
      "metadata": {
        "colab": {
          "base_uri": "https://localhost:8080/"
        },
        "id": "Df-myncOntPx",
        "outputId": "c5f0fa17-1e42-43dc-e087-47991bf6a74b"
      },
      "outputs": [
        {
          "name": "stdout",
          "output_type": "stream",
          "text": [
            "kernel: linear\n",
            "Accuracy Score: 93.75\n",
            "kernel: rbf\n",
            "Accuracy Score: 40.625\n",
            "kernel: poly\n",
            "Accuracy Score: 25.0\n",
            "kernel: sigmoid\n",
            "Accuracy Score: 37.5\n"
          ]
        }
      ],
      "source": [
        "for i in kernel:\n",
        " model1=SVC(kernel=i)\n",
        " model1=model1.fit(x_train,y_train)\n",
        " print('kernel:',i)\n",
        " print('Accuracy Score:',accuracy_score(y_test,model1.predict(x_test)) *100)"
      ]
    },
    {
      "cell_type": "markdown",
      "metadata": {
        "id": "buQjqu9YqI67"
      },
      "source": [
        "**A kernel transforms an input data space into the required form. SVM uses a technique called the kernel trick. Here, the kernel takes a low-dimensional input space and transforms it into a higher dimensional space. In other words, you can say that it converts nonseparable problem to separable problems by adding more dimension to it. It is most useful in non-linear separation problem. Kernel trick helps you to build a more accurate classifier.**"
      ]
    },
    {
      "cell_type": "markdown",
      "metadata": {
        "id": "Xj50xEplrDSp"
      },
      "source": [
        "# SVC for multiclass problem with best kernal trick"
      ]
    },
    {
      "cell_type": "code",
      "execution_count": 41,
      "metadata": {
        "id": "MNDaNXkdmj-Q"
      },
      "outputs": [],
      "source": [
        "from sklearn.svm import SVC"
      ]
    },
    {
      "cell_type": "code",
      "execution_count": 42,
      "metadata": {
        "id": "gACY3fvQmw_Y"
      },
      "outputs": [],
      "source": [
        "model_SVM=SVC(kernel= 'linear' )"
      ]
    },
    {
      "cell_type": "code",
      "execution_count": 43,
      "metadata": {
        "id": "KeHeyNpnm0eA"
      },
      "outputs": [],
      "source": [
        "f_model=model_SVM.fit(x_train,y_train)"
      ]
    },
    {
      "cell_type": "code",
      "execution_count": 44,
      "metadata": {
        "colab": {
          "base_uri": "https://localhost:8080/"
        },
        "id": "H77p2OcAm4Cw",
        "outputId": "6f289f04-79c7-4c89-fdaf-9ac33b2c25e4"
      },
      "outputs": [
        {
          "data": {
            "text/plain": [
              "array([0, 0, 5, 0, 3, 3, 1, 3, 0, 3, 2, 2, 3, 2, 4, 4, 0, 0, 0, 6, 4, 2,\n",
              "       2, 4, 0, 3, 1, 2, 2, 0, 2, 3])"
            ]
          },
          "execution_count": 44,
          "metadata": {},
          "output_type": "execute_result"
        }
      ],
      "source": [
        "y_pred_SVM = model_SVM.predict(x_test)\n",
        "y_pred_SVM"
      ]
    },
    {
      "cell_type": "markdown",
      "metadata": {
        "id": "E1N80xa5m_lg"
      },
      "source": [
        "# CONFUSION MATRIX AND ACCURACY OF LOGISTICS REGRESSION"
      ]
    },
    {
      "cell_type": "code",
      "execution_count": 45,
      "metadata": {
        "id": "FR1BRimInA2g"
      },
      "outputs": [],
      "source": [
        "from sklearn.metrics import confusion_matrix,accuracy_score"
      ]
    },
    {
      "cell_type": "code",
      "execution_count": 46,
      "metadata": {
        "id": "GG1_FG5QnDeJ"
      },
      "outputs": [],
      "source": [
        "cnf=confusion_matrix(y_test,y_pred_SVM)"
      ]
    },
    {
      "cell_type": "code",
      "execution_count": 47,
      "metadata": {
        "colab": {
          "base_uri": "https://localhost:8080/",
          "height": 432
        },
        "id": "u4KVVr1qnHXL",
        "outputId": "5e9d58e2-5dd3-4649-97b2-250c5012acee"
      },
      "outputs": [
        {
          "data": {
            "image/png": "[encoded data removed]",
            "text/plain": [
              "<Figure size 720x504 with 2 Axes>"
            ]
          },
          "metadata": {},
          "output_type": "display_data"
        }
      ],
      "source": [
        "plt.figure(figsize=(10, 7),facecolor=\"lightgrey\",frameon=True,edgecolor='blue') \n",
        "sns.heatmap(cnf, annot=True, cmap='CMRmap');\n",
        "plt.show()"
      ]
    },
    {
      "cell_type": "code",
      "execution_count": 48,
      "metadata": {
        "colab": {
          "base_uri": "https://localhost:8080/"
        },
        "id": "dXhU3NOZnVAp",
        "outputId": "df4b00d8-251e-47d9-9f05-e24fc9f90b29"
      },
      "outputs": [
        {
          "data": {
            "text/plain": [
              "93.75"
            ]
          },
          "execution_count": 48,
          "metadata": {},
          "output_type": "execute_result"
        }
      ],
      "source": [
        "accuracy_score(y_test,y_pred_SVM) * 100"
      ]
    },
    {
      "cell_type": "markdown",
      "metadata": {
        "id": "lpbn8oInpFWh"
      },
      "source": [
        "# Classification Report"
      ]
    },
    {
      "cell_type": "code",
      "execution_count": 49,
      "metadata": {
        "id": "8ZnQYSVnpIHb"
      },
      "outputs": [],
      "source": [
        "from sklearn.metrics import classification_report"
      ]
    },
    {
      "cell_type": "code",
      "execution_count": 50,
      "metadata": {
        "colab": {
          "base_uri": "https://localhost:8080/"
        },
        "id": "9GBqjTYhpNn7",
        "outputId": "7c3b30c2-b4e7-40e3-dff8-d4f0bc1e5ae1"
      },
      "outputs": [
        {
          "name": "stdout",
          "output_type": "stream",
          "text": [
            "              precision    recall  f1-score   support\n",
            "\n",
            "           0       1.00      1.00      1.00         9\n",
            "           1       1.00      1.00      1.00         2\n",
            "           2       0.88      1.00      0.93         7\n",
            "           3       1.00      1.00      1.00         7\n",
            "           4       1.00      0.67      0.80         6\n",
            "           5       1.00      1.00      1.00         1\n",
            "           6       0.00      0.00      0.00         0\n",
            "\n",
            "    accuracy                           0.94        32\n",
            "   macro avg       0.84      0.81      0.82        32\n",
            "weighted avg       0.97      0.94      0.95        32\n",
            "\n"
          ]
        }
      ],
      "source": [
        "Rep=classification_report(y_test,y_pred_SVM)\n",
        "print(Rep)"
      ]
    },
    {
      "cell_type": "markdown",
      "metadata": {
        "id": "amEHO2wdr9dE"
      },
      "source": [
        "# THE PREDICTED SUPPORT VECTOR CLASSIFICATION LINEAR MODEL FOR 6 SPECIES TYPE HAS ACCURACY OF 94%"
      ]
    }
  ],
  "metadata": {
    "colab": {
      "name": "FISH_SPECIES_SVM.ipynb",
      "provenance": []
    },
    "interpreter": {
      "hash": "a5bcc3432d92babd5f87a2bcda8d0e22a8dc8da8f6a2f95742459b3072c9e04b"
    },
    "kernelspec": {
      "display_name": "Python 3.9.6 64-bit",
      "name": "python3"
    },
    "language_info": {
      "codemirror_mode": {
        "name": "ipython",
        "version": 3
      },
      "file_extension": ".py",
      "mimetype": "text/x-python",
      "name": "python",
      "nbconvert_exporter": "python",
      "pygments_lexer": "ipython3",
      "version": "3.9.6"
    }
  },
  "nbformat": 4,
  "nbformat_minor": 0
}
