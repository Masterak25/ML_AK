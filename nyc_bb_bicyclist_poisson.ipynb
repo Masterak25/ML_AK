{
  "nbformat": 4,
  "nbformat_minor": 0,
  "metadata": {
    "colab": {
      "name": "nyc_bb_bicyclist_poisson.ipynb",
      "provenance": [],
      "authorship_tag": "ABX9TyMxlqbxe2y6xTwC1XijGPUz",
      "include_colab_link": true
    },
    "kernelspec": {
      "name": "python3",
      "display_name": "Python 3"
    },
    "language_info": {
      "name": "python"
    }
  },
  "cells": [
    {
      "cell_type": "markdown",
      "metadata": {
        "id": "view-in-github",
        "colab_type": "text"
      },
      "source": [
        "<a href=\"https://colab.research.google.com/github/Masterak25/ML_AK/blob/main/nyc_bb_bicyclist_poisson.ipynb\" target=\"_parent\"><img src=\"https://colab.research.google.com/assets/colab-badge.svg\" alt=\"Open In Colab\"/></a>"
      ]
    },
    {
      "cell_type": "markdown",
      "metadata": {
        "id": "FNep_dy2x4Pg"
      },
      "source": [
        "# counts of bicyclists traveling over various NYC bridges "
      ]
    },
    {
      "cell_type": "code",
      "metadata": {
        "colab": {
          "base_uri": "https://localhost:8080/"
        },
        "id": "G3kj78VPx5h2",
        "outputId": "ca84eac8-a8fd-419f-c524-bed5e28cb6b4"
      },
      "source": [
        "import pandas as pd\n",
        "import numpy as np\n",
        "import matplotlib.pyplot as plt\n",
        "from patsy import dmatrices\n",
        "import statsmodels.api as sm\n",
        "import seaborn as sns\n",
        "import warnings\n",
        "warnings.filterwarnings('ignore')"
      ],
      "execution_count": 1,
      "outputs": [
        {
          "output_type": "stream",
          "name": "stderr",
          "text": [
            "/usr/local/lib/python3.7/dist-packages/statsmodels/tools/_testing.py:19: FutureWarning: pandas.util.testing is deprecated. Use the functions in the public API at pandas.testing instead.\n",
            "  import pandas.util.testing as tm\n"
          ]
        }
      ]
    },
    {
      "cell_type": "markdown",
      "metadata": {
        "id": "WDsZ9Y1yx94_"
      },
      "source": [
        "# IMPORTING DATASET"
      ]
    },
    {
      "cell_type": "code",
      "metadata": {
        "colab": {
          "base_uri": "https://localhost:8080/",
          "height": 237
        },
        "id": "sjpR7pjsx7BX",
        "outputId": "9e119e4e-eb44-4c88-f78e-8a71ac518e4e"
      },
      "source": [
        "df=pd.read_csv(\"/content/nyc_bb_bicyclist_counts.csv\", header=0, infer_datetime_format=True, parse_dates=[0], index_col=[0])\n",
        "df.head()"
      ],
      "execution_count": 2,
      "outputs": [
        {
          "output_type": "execute_result",
          "data": {
            "text/html": [
              "<div>\n",
              "<style scoped>\n",
              "    .dataframe tbody tr th:only-of-type {\n",
              "        vertical-align: middle;\n",
              "    }\n",
              "\n",
              "    .dataframe tbody tr th {\n",
              "        vertical-align: top;\n",
              "    }\n",
              "\n",
              "    .dataframe thead th {\n",
              "        text-align: right;\n",
              "    }\n",
              "</style>\n",
              "<table border=\"1\" class=\"dataframe\">\n",
              "  <thead>\n",
              "    <tr style=\"text-align: right;\">\n",
              "      <th></th>\n",
              "      <th>HIGH_T</th>\n",
              "      <th>LOW_T</th>\n",
              "      <th>PRECIP</th>\n",
              "      <th>BB_COUNT</th>\n",
              "    </tr>\n",
              "    <tr>\n",
              "      <th>Date</th>\n",
              "      <th></th>\n",
              "      <th></th>\n",
              "      <th></th>\n",
              "      <th></th>\n",
              "    </tr>\n",
              "  </thead>\n",
              "  <tbody>\n",
              "    <tr>\n",
              "      <th>2017-04-01</th>\n",
              "      <td>46.0</td>\n",
              "      <td>37.0</td>\n",
              "      <td>0.00</td>\n",
              "      <td>606</td>\n",
              "    </tr>\n",
              "    <tr>\n",
              "      <th>2017-04-02</th>\n",
              "      <td>62.1</td>\n",
              "      <td>41.0</td>\n",
              "      <td>0.00</td>\n",
              "      <td>2021</td>\n",
              "    </tr>\n",
              "    <tr>\n",
              "      <th>2017-04-03</th>\n",
              "      <td>63.0</td>\n",
              "      <td>50.0</td>\n",
              "      <td>0.03</td>\n",
              "      <td>2470</td>\n",
              "    </tr>\n",
              "    <tr>\n",
              "      <th>2017-04-04</th>\n",
              "      <td>51.1</td>\n",
              "      <td>46.0</td>\n",
              "      <td>1.18</td>\n",
              "      <td>723</td>\n",
              "    </tr>\n",
              "    <tr>\n",
              "      <th>2017-04-05</th>\n",
              "      <td>63.0</td>\n",
              "      <td>46.0</td>\n",
              "      <td>0.00</td>\n",
              "      <td>2807</td>\n",
              "    </tr>\n",
              "  </tbody>\n",
              "</table>\n",
              "</div>"
            ],
            "text/plain": [
              "            HIGH_T  LOW_T  PRECIP  BB_COUNT\n",
              "Date                                       \n",
              "2017-04-01    46.0   37.0    0.00       606\n",
              "2017-04-02    62.1   41.0    0.00      2021\n",
              "2017-04-03    63.0   50.0    0.03      2470\n",
              "2017-04-04    51.1   46.0    1.18       723\n",
              "2017-04-05    63.0   46.0    0.00      2807"
            ]
          },
          "metadata": {},
          "execution_count": 2
        }
      ]
    },
    {
      "cell_type": "code",
      "metadata": {
        "id": "V_GR6HkAybz3"
      },
      "source": [
        "ds = df.index.to_series()\n",
        "df['MONTH'] = ds.dt.month\n",
        "df['DAY_OF_WEEK'] = ds.dt.dayofweek\n",
        "df['DAY'] = ds.dt.day"
      ],
      "execution_count": 3,
      "outputs": []
    },
    {
      "cell_type": "code",
      "metadata": {
        "colab": {
          "base_uri": "https://localhost:8080/",
          "height": 237
        },
        "id": "O1HUzOG5yeVX",
        "outputId": "c2002e5e-03db-4888-d07d-71aeb0dd191d"
      },
      "source": [
        "df.head()"
      ],
      "execution_count": 4,
      "outputs": [
        {
          "output_type": "execute_result",
          "data": {
            "text/html": [
              "<div>\n",
              "<style scoped>\n",
              "    .dataframe tbody tr th:only-of-type {\n",
              "        vertical-align: middle;\n",
              "    }\n",
              "\n",
              "    .dataframe tbody tr th {\n",
              "        vertical-align: top;\n",
              "    }\n",
              "\n",
              "    .dataframe thead th {\n",
              "        text-align: right;\n",
              "    }\n",
              "</style>\n",
              "<table border=\"1\" class=\"dataframe\">\n",
              "  <thead>\n",
              "    <tr style=\"text-align: right;\">\n",
              "      <th></th>\n",
              "      <th>HIGH_T</th>\n",
              "      <th>LOW_T</th>\n",
              "      <th>PRECIP</th>\n",
              "      <th>BB_COUNT</th>\n",
              "      <th>MONTH</th>\n",
              "      <th>DAY_OF_WEEK</th>\n",
              "      <th>DAY</th>\n",
              "    </tr>\n",
              "    <tr>\n",
              "      <th>Date</th>\n",
              "      <th></th>\n",
              "      <th></th>\n",
              "      <th></th>\n",
              "      <th></th>\n",
              "      <th></th>\n",
              "      <th></th>\n",
              "      <th></th>\n",
              "    </tr>\n",
              "  </thead>\n",
              "  <tbody>\n",
              "    <tr>\n",
              "      <th>2017-04-01</th>\n",
              "      <td>46.0</td>\n",
              "      <td>37.0</td>\n",
              "      <td>0.00</td>\n",
              "      <td>606</td>\n",
              "      <td>4</td>\n",
              "      <td>5</td>\n",
              "      <td>1</td>\n",
              "    </tr>\n",
              "    <tr>\n",
              "      <th>2017-04-02</th>\n",
              "      <td>62.1</td>\n",
              "      <td>41.0</td>\n",
              "      <td>0.00</td>\n",
              "      <td>2021</td>\n",
              "      <td>4</td>\n",
              "      <td>6</td>\n",
              "      <td>2</td>\n",
              "    </tr>\n",
              "    <tr>\n",
              "      <th>2017-04-03</th>\n",
              "      <td>63.0</td>\n",
              "      <td>50.0</td>\n",
              "      <td>0.03</td>\n",
              "      <td>2470</td>\n",
              "      <td>4</td>\n",
              "      <td>0</td>\n",
              "      <td>3</td>\n",
              "    </tr>\n",
              "    <tr>\n",
              "      <th>2017-04-04</th>\n",
              "      <td>51.1</td>\n",
              "      <td>46.0</td>\n",
              "      <td>1.18</td>\n",
              "      <td>723</td>\n",
              "      <td>4</td>\n",
              "      <td>1</td>\n",
              "      <td>4</td>\n",
              "    </tr>\n",
              "    <tr>\n",
              "      <th>2017-04-05</th>\n",
              "      <td>63.0</td>\n",
              "      <td>46.0</td>\n",
              "      <td>0.00</td>\n",
              "      <td>2807</td>\n",
              "      <td>4</td>\n",
              "      <td>2</td>\n",
              "      <td>5</td>\n",
              "    </tr>\n",
              "  </tbody>\n",
              "</table>\n",
              "</div>"
            ],
            "text/plain": [
              "            HIGH_T  LOW_T  PRECIP  BB_COUNT  MONTH  DAY_OF_WEEK  DAY\n",
              "Date                                                                \n",
              "2017-04-01    46.0   37.0    0.00       606      4            5    1\n",
              "2017-04-02    62.1   41.0    0.00      2021      4            6    2\n",
              "2017-04-03    63.0   50.0    0.03      2470      4            0    3\n",
              "2017-04-04    51.1   46.0    1.18       723      4            1    4\n",
              "2017-04-05    63.0   46.0    0.00      2807      4            2    5"
            ]
          },
          "metadata": {},
          "execution_count": 4
        }
      ]
    },
    {
      "cell_type": "code",
      "metadata": {
        "colab": {
          "base_uri": "https://localhost:8080/"
        },
        "id": "uL6fiZS-zJC3",
        "outputId": "dc50b575-e7a2-4bb4-aa44-4242c41c2976"
      },
      "source": [
        "mask = np.random.rand(len(df)) < 0.8\n",
        "df_train = df[mask]\n",
        "df_test = df[~mask]\n",
        "print('Training data set length='+str(len(df_train)))\n",
        "print('Testing data set length='+str(len(df_test)))"
      ],
      "execution_count": 5,
      "outputs": [
        {
          "output_type": "stream",
          "name": "stdout",
          "text": [
            "Training data set length=168\n",
            "Testing data set length=46\n"
          ]
        }
      ]
    },
    {
      "cell_type": "markdown",
      "metadata": {
        "id": "9kiVlCfrzqT_"
      },
      "source": [
        "Setup the regression expression in patsy notation. We are telling patsy that BB_COUNT is our dependent variable and it depends on the regression variables: DAY, DAY_OF_WEEK, MONTH, HIGH_T, LOW_T and PRECIP."
      ]
    },
    {
      "cell_type": "code",
      "metadata": {
        "id": "gPNoe-X3znIP"
      },
      "source": [
        "expr = \"\"\"BB_COUNT ~ DAY  + DAY_OF_WEEK + MONTH + HIGH_T + LOW_T + PRECIP\"\"\""
      ],
      "execution_count": 6,
      "outputs": []
    },
    {
      "cell_type": "markdown",
      "metadata": {
        "id": "CTRyn1quz07P"
      },
      "source": [
        "Set up the X and y matrices for the training and testing data sets"
      ]
    },
    {
      "cell_type": "code",
      "metadata": {
        "id": "DAo0RjT-zOAP"
      },
      "source": [
        "y_train, X_train = dmatrices(expr, df_train, return_type='dataframe')\n",
        "y_test, X_test = dmatrices(expr, df_test, return_type='dataframe')"
      ],
      "execution_count": 7,
      "outputs": []
    },
    {
      "cell_type": "markdown",
      "metadata": {
        "id": "IZlfNTBUz6Fg"
      },
      "source": [
        "Using the statsmodels GLM class, train the Poisson regression model on the training data set."
      ]
    },
    {
      "cell_type": "code",
      "metadata": {
        "id": "qclnWZRuzzVP"
      },
      "source": [
        "poisson_training_results = sm.GLM(y_train, X_train, family=sm.families.Poisson()).fit()"
      ],
      "execution_count": 8,
      "outputs": []
    },
    {
      "cell_type": "code",
      "metadata": {
        "colab": {
          "base_uri": "https://localhost:8080/"
        },
        "id": "jVoc892Rz9S2",
        "outputId": "97ef4c47-1b82-40b6-d176-6181ffb81654"
      },
      "source": [
        "print(poisson_training_results.summary())"
      ],
      "execution_count": 9,
      "outputs": [
        {
          "output_type": "stream",
          "name": "stdout",
          "text": [
            "                 Generalized Linear Model Regression Results                  \n",
            "==============================================================================\n",
            "Dep. Variable:               BB_COUNT   No. Observations:                  168\n",
            "Model:                            GLM   Df Residuals:                      161\n",
            "Model Family:                 Poisson   Df Model:                            6\n",
            "Link Function:                    log   Scale:                          1.0000\n",
            "Method:                          IRLS   Log-Likelihood:                -10577.\n",
            "Date:                Sun, 24 Oct 2021   Deviance:                       19529.\n",
            "Time:                        20:00:51   Pearson chi2:                 1.92e+04\n",
            "No. Iterations:                     5                                         \n",
            "Covariance Type:            nonrobust                                         \n",
            "===============================================================================\n",
            "                  coef    std err          z      P>|z|      [0.025      0.975]\n",
            "-------------------------------------------------------------------------------\n",
            "Intercept       7.1708      0.014    529.166      0.000       7.144       7.197\n",
            "DAY             0.0008      0.000      4.434      0.000       0.000       0.001\n",
            "DAY_OF_WEEK    -0.0219      0.001    -30.351      0.000      -0.023      -0.021\n",
            "MONTH           0.0102      0.001     13.106      0.000       0.009       0.012\n",
            "HIGH_T          0.0220      0.000     62.896      0.000       0.021       0.023\n",
            "LOW_T          -0.0140      0.000    -36.904      0.000      -0.015      -0.013\n",
            "PRECIP         -0.7132      0.007   -101.127      0.000      -0.727      -0.699\n",
            "===============================================================================\n"
          ]
        }
      ]
    },
    {
      "cell_type": "markdown",
      "metadata": {
        "id": "GCaWZq1r59yi"
      },
      "source": [
        "The reported values of Deviance and Pearson chi-squared are very large. A good fit is virtually impossible given these values. To make a quantitative determination of the goodness-of-fit at some confidence level, say 95% (p=0.05), we look up the value in the χ2 table for p=0.05 and Degrees of freedom of residuals=161. (DF Residuals = No. Observations minus DF model]). We compare this Chi-Squared value with the observed statistic, in this case, the Deviance or the Pearson’s chi-squared value reported in GLMResults. We find that at p=0.05 and DF Residuals = 161, the chi-squared value from a standard Chi-Squared table is 191.608 which is much smaller than the reported statistic of 19529 and 19200. Hence as per this test, the Poisson regression model, in spite of demonstrating an ‘okay’ visual fit for the test data set, has fit the training data rather poorly."
      ]
    },
    {
      "cell_type": "code",
      "metadata": {
        "colab": {
          "base_uri": "https://localhost:8080/"
        },
        "id": "q92xGBoa0Gdw",
        "outputId": "97b954d0-f086-4a5a-e6a3-0ca2b95f8e0e"
      },
      "source": [
        "poisson_predictions = poisson_training_results.get_prediction(X_test)\n",
        "#summary_frame() returns a pandas DataFrame\n",
        "predictions_summary_frame = poisson_predictions.summary_frame()\n",
        "print(predictions_summary_frame)"
      ],
      "execution_count": 10,
      "outputs": [
        {
          "output_type": "stream",
          "name": "stdout",
          "text": [
            "                   mean    mean_se  mean_ci_lower  mean_ci_upper\n",
            "Date                                                            \n",
            "2017-04-01  1988.909944  12.395656    1964.762687    2013.353974\n",
            "2017-04-02  2622.535141  15.020172    2593.260760    2652.139989\n",
            "2017-04-06  1248.993775   8.259791    1232.909348    1265.288039\n",
            "2017-04-13  2636.524088   9.443745    2618.079508    2655.098611\n",
            "2017-04-19  2181.128287  10.657041    2160.340566    2202.116036\n",
            "2017-04-20  2358.360953   8.579496    2341.605257    2375.236547\n",
            "2017-04-22  1882.643238   9.478335    1864.157398    1901.312392\n",
            "2017-04-26  1781.750365   8.427824    1765.308467    1798.345402\n",
            "2017-04-27  2525.976837   9.734949    2506.968569    2545.129230\n",
            "2017-04-28  3484.278100  19.204966    3446.839648    3522.123195\n",
            "2017-05-03  2429.398832  10.422383    2409.056979    2449.912450\n",
            "2017-05-04  2548.252436   9.285778    2530.117484    2566.517373\n",
            "2017-05-09  2630.520767   9.852354    2611.281211    2649.902077\n",
            "2017-05-11  2390.808769   8.349731    2374.499480    2407.230079\n",
            "2017-05-13   796.734625   7.451272     782.263434     811.473520\n",
            "2017-05-26  2707.831537   9.471667    2689.330900    2726.459444\n",
            "2017-05-27  2542.423939   8.930639    2524.980323    2559.988062\n",
            "2017-05-28  2559.922485   9.888380    2540.614798    2579.376904\n",
            "2017-05-29  2081.301367  11.335153    2059.203028    2103.636854\n",
            "2017-06-02  2754.030731   8.561547    2737.301425    2770.862280\n",
            "2017-06-06  2114.526754  10.791586    2093.481067    2135.784013\n",
            "2017-06-09  3245.328747  10.880160    3224.073934    3266.723683\n",
            "2017-06-14  2617.691075   7.668801    2602.703571    2632.764883\n",
            "2017-06-21  2974.076452   8.588431    2957.290983    2990.957195\n",
            "2017-06-23  2675.749378  10.091212    2656.043885    2695.601069\n",
            "2017-06-28  3152.869883   9.740039    3133.837434    3172.017920\n",
            "2017-06-29  3028.967114   9.167328    3011.052667    3046.988143\n",
            "2017-07-01  2506.037547  10.046240    2486.424431    2525.805373\n",
            "2017-07-03  2544.468464  12.218470    2520.633044    2568.529275\n",
            "2017-07-11  3053.649951  10.508453    3033.123063    3074.315756\n",
            "2017-07-12  3112.028120  10.198336    3092.103804    3132.080821\n",
            "2017-07-17  3248.079531  10.676031    3227.222151    3269.071711\n",
            "2017-07-18  3245.359817  10.115406    3225.594420    3265.246329\n",
            "2017-07-28  3038.674830   9.538094    3020.037897    3057.426773\n",
            "2017-08-04  2702.876108   8.291536    2686.673755    2719.176173\n",
            "2017-08-05  2088.705043   8.364802    2072.374507    2105.164265\n",
            "2017-08-22  2742.791456   9.634082    2723.973849    2761.739057\n",
            "2017-09-06  1983.033301   7.660815    1968.075081    1998.105210\n",
            "2017-09-10  2759.154602   9.563215    2740.474566    2777.961967\n",
            "2017-09-16  2941.948006   7.985933    2926.337428    2957.641858\n",
            "2017-09-23  3321.314718  11.597989    3298.660689    3344.124327\n",
            "2017-09-24  3496.212992  15.981641    3465.029451    3527.677169\n",
            "2017-10-14  2464.287670   8.111019    2448.441533    2480.236363\n",
            "2017-10-16  2619.017502  11.618717    2596.343951    2641.889059\n",
            "2017-10-18  3311.241180  15.881808    3280.259261    3342.515722\n",
            "2017-10-31  2553.796179  14.629330    2525.283583    2582.630707\n"
          ]
        }
      ]
    },
    {
      "cell_type": "code",
      "metadata": {
        "colab": {
          "base_uri": "https://localhost:8080/",
          "height": 294
        },
        "id": "zGN4Czo10aFQ",
        "outputId": "0cbdffa8-3309-4d7d-8c39-1231bc5a1713"
      },
      "source": [
        "predicted_counts=predictions_summary_frame['mean']\n",
        "actual_counts = y_test['BB_COUNT']\n",
        "fig = plt.figure()\n",
        "fig.suptitle('Predicted versus actual bicyclist counts on the Brooklyn bridge')\n",
        "predicted, = plt.plot(X_test.index, predicted_counts, 'go-', label='Predicted counts')\n",
        "actual, = plt.plot(X_test.index, actual_counts, 'ro-', label='Actual counts')\n",
        "plt.legend(handles=[predicted, actual])\n",
        "plt.show()"
      ],
      "execution_count": 11,
      "outputs": [
        {
          "output_type": "display_data",
          "data": {
            "image/png": "[encoded data removed]",
            "text/plain": [
              "<Figure size 432x288 with 1 Axes>"
            ]
          },
          "metadata": {
            "needs_background": "light"
          }
        }
      ]
    },
    {
      "cell_type": "code",
      "metadata": {
        "colab": {
          "base_uri": "https://localhost:8080/",
          "height": 325
        },
        "id": "37TF-KlA0jw4",
        "outputId": "cab0082d-736c-4306-d3a7-f9d3562e5dd7"
      },
      "source": [
        "plt.clf()\n",
        "fig = plt.figure()\n",
        "fig.suptitle('Scatter plot of Actual versus Predicted counts')\n",
        "plt.scatter(x=predicted_counts, y=actual_counts, marker='.')\n",
        "plt.xlabel('Predicted counts')\n",
        "plt.ylabel('Actual counts')\n",
        "plt.show()"
      ],
      "execution_count": 12,
      "outputs": [
        {
          "output_type": "display_data",
          "data": {
            "text/plain": [
              "<Figure size 432x288 with 0 Axes>"
            ]
          },
          "metadata": {}
        },
        {
          "output_type": "display_data",
          "data": {
            "image/png": "[encoded data removed]",
            "text/plain": [
              "<Figure size 432x288 with 1 Axes>"
            ]
          },
          "metadata": {
            "needs_background": "light"
          }
        }
      ]
    },
    {
      "cell_type": "markdown",
      "metadata": {
        "id": "nFr1xORQ6qtB"
      },
      "source": [
        "another Implementation:\n",
        "When I was searching for the information about Poisson Regression online. I was able to find and understand the theory but not the implementation. So, I have done a lot of research and I’m providing you with the implementation.\n",
        "Surprise! Poisson Regressor is now available in scikit-learn library itself!\n",
        "Upgrade it if you haven’t already and implement\n",
        "\n",
        "!pip install --upgrade scikit-learn"
      ]
    },
    {
      "cell_type": "code",
      "metadata": {
        "id": "jzQ5FgDh1NXI"
      },
      "source": [
        "#pip show sklearn"
      ],
      "execution_count": 13,
      "outputs": []
    },
    {
      "cell_type": "code",
      "metadata": {
        "id": "UsJ4vy6H1VdQ"
      },
      "source": [
        "#!pip install sklearn --upgrade"
      ],
      "execution_count": 14,
      "outputs": []
    },
    {
      "cell_type": "code",
      "metadata": {
        "id": "v8XODrcZ1huo"
      },
      "source": [
        "#!pip install --upgrade scikit-learn"
      ],
      "execution_count": 15,
      "outputs": []
    },
    {
      "cell_type": "markdown",
      "metadata": {
        "id": "Lr2QlE7c71hi"
      },
      "source": [
        "# poisson_regression_application\n",
        "Features of count based data\n",
        "\n",
        "Regression models for seasonal forecasting counts"
      ]
    },
    {
      "cell_type": "code",
      "metadata": {
        "id": "m8I79AiE0vW4"
      },
      "source": [
        "from sklearn.linear_model import PoissonRegressor\n",
        "pr = PoissonRegressor()\n",
        "pr.fit(X_train, y_train)\n",
        "y_pr = pr.predict(X_test)"
      ],
      "execution_count": 16,
      "outputs": []
    },
    {
      "cell_type": "code",
      "metadata": {
        "colab": {
          "base_uri": "https://localhost:8080/",
          "height": 294
        },
        "id": "mLYpMA_P8aKx",
        "outputId": "fdd85e99-4301-40a9-d27f-38f83517bbbe"
      },
      "source": [
        "predicted_counts=y_pr\n",
        "actual_counts = y_test['BB_COUNT']\n",
        "fig = plt.figure()\n",
        "fig.suptitle('Predicted versus actual bicyclist counts on the Brooklyn bridge')\n",
        "predicted, = plt.plot(X_test.index, predicted_counts, 'go-', label='Predicted counts')\n",
        "actual, = plt.plot(X_test.index, actual_counts, 'ro-', label='Actual counts')\n",
        "plt.legend(handles=[predicted, actual])\n",
        "plt.show()"
      ],
      "execution_count": 26,
      "outputs": [
        {
          "output_type": "display_data",
          "data": {
            "image/png": "[encoded data removed]",
            "text/plain": [
              "<Figure size 432x288 with 1 Axes>"
            ]
          },
          "metadata": {
            "needs_background": "light"
          }
        }
      ]
    },
    {
      "cell_type": "code",
      "metadata": {
        "colab": {
          "base_uri": "https://localhost:8080/",
          "height": 237
        },
        "id": "-_OAq7Z517Xw",
        "outputId": "198b10fe-9297-4549-c10f-72857badf1f0"
      },
      "source": [
        "f_comp = pd.DataFrame({\"GLM_predict\":predictions_summary_frame['mean'] , \"M_Predicted\": y_pr}) \n",
        "f_comp.head()"
      ],
      "execution_count": 25,
      "outputs": [
        {
          "output_type": "execute_result",
          "data": {
            "text/html": [
              "<div>\n",
              "<style scoped>\n",
              "    .dataframe tbody tr th:only-of-type {\n",
              "        vertical-align: middle;\n",
              "    }\n",
              "\n",
              "    .dataframe tbody tr th {\n",
              "        vertical-align: top;\n",
              "    }\n",
              "\n",
              "    .dataframe thead th {\n",
              "        text-align: right;\n",
              "    }\n",
              "</style>\n",
              "<table border=\"1\" class=\"dataframe\">\n",
              "  <thead>\n",
              "    <tr style=\"text-align: right;\">\n",
              "      <th></th>\n",
              "      <th>GLM_predict</th>\n",
              "      <th>M_Predicted</th>\n",
              "    </tr>\n",
              "    <tr>\n",
              "      <th>Date</th>\n",
              "      <th></th>\n",
              "      <th></th>\n",
              "    </tr>\n",
              "  </thead>\n",
              "  <tbody>\n",
              "    <tr>\n",
              "      <th>2017-04-01</th>\n",
              "      <td>1988.909944</td>\n",
              "      <td>1991.809840</td>\n",
              "    </tr>\n",
              "    <tr>\n",
              "      <th>2017-04-02</th>\n",
              "      <td>2622.535141</td>\n",
              "      <td>2624.946099</td>\n",
              "    </tr>\n",
              "    <tr>\n",
              "      <th>2017-04-06</th>\n",
              "      <td>1248.993775</td>\n",
              "      <td>1254.329206</td>\n",
              "    </tr>\n",
              "    <tr>\n",
              "      <th>2017-04-13</th>\n",
              "      <td>2636.524088</td>\n",
              "      <td>2637.933167</td>\n",
              "    </tr>\n",
              "    <tr>\n",
              "      <th>2017-04-19</th>\n",
              "      <td>2181.128287</td>\n",
              "      <td>2183.003641</td>\n",
              "    </tr>\n",
              "  </tbody>\n",
              "</table>\n",
              "</div>"
            ],
            "text/plain": [
              "            GLM_predict  M_Predicted\n",
              "Date                                \n",
              "2017-04-01  1988.909944  1991.809840\n",
              "2017-04-02  2622.535141  2624.946099\n",
              "2017-04-06  1248.993775  1254.329206\n",
              "2017-04-13  2636.524088  2637.933167\n",
              "2017-04-19  2181.128287  2183.003641"
            ]
          },
          "metadata": {},
          "execution_count": 25
        }
      ]
    },
    {
      "cell_type": "code",
      "metadata": {
        "colab": {
          "base_uri": "https://localhost:8080/"
        },
        "id": "8EcLu7lB3AE5",
        "outputId": "238b4a21-c0ac-49f7-a5e8-2a2a6ec20fe4"
      },
      "source": [
        "from sklearn.metrics import mean_squared_error\n",
        "mse_p=mean_squared_error(y_test, y_pr)\n",
        "mse_p"
      ],
      "execution_count": 18,
      "outputs": [
        {
          "output_type": "execute_result",
          "data": {
            "text/plain": [
              "422530.43179241614"
            ]
          },
          "metadata": {},
          "execution_count": 18
        }
      ]
    },
    {
      "cell_type": "code",
      "metadata": {
        "colab": {
          "base_uri": "https://localhost:8080/"
        },
        "id": "2KNmps8T3aGQ",
        "outputId": "c14040c2-be74-40a5-85d6-bdfac52bb6fd"
      },
      "source": [
        "from math import sqrt\n",
        "rms_p = sqrt(mean_squared_error(y_test, y_pr))\n",
        "rms_p"
      ],
      "execution_count": 19,
      "outputs": [
        {
          "output_type": "execute_result",
          "data": {
            "text/plain": [
              "650.0234086495778"
            ]
          },
          "metadata": {},
          "execution_count": 19
        }
      ]
    },
    {
      "cell_type": "code",
      "metadata": {
        "colab": {
          "base_uri": "https://localhost:8080/"
        },
        "id": "6VmXO5oE3h34",
        "outputId": "2d95b981-4826-4ea1-b9cf-3ea53d07e442"
      },
      "source": [
        "from sklearn.metrics import r2_score\n",
        "r2_p = r2_score(y_test, y_pr)\n",
        "print('r2 score for poisson regression model is', r2_p *100)"
      ],
      "execution_count": 20,
      "outputs": [
        {
          "output_type": "stream",
          "name": "stdout",
          "text": [
            "r2 score for poisson regression model is 54.17351204561527\n"
          ]
        }
      ]
    },
    {
      "cell_type": "code",
      "metadata": {
        "colab": {
          "base_uri": "https://localhost:8080/"
        },
        "id": "7NPMfkzW3rDg",
        "outputId": "056b80d0-712d-4fcc-8821-76930584d01e"
      },
      "source": [
        "from sklearn.metrics import mean_squared_error\n",
        "mse_GLM=mean_squared_error(y_test, predictions_summary_frame['mean'])\n",
        "mse_GLM"
      ],
      "execution_count": 21,
      "outputs": [
        {
          "output_type": "execute_result",
          "data": {
            "text/plain": [
              "421813.5280174386"
            ]
          },
          "metadata": {},
          "execution_count": 21
        }
      ]
    },
    {
      "cell_type": "code",
      "metadata": {
        "colab": {
          "base_uri": "https://localhost:8080/"
        },
        "id": "VIUOppxv38PZ",
        "outputId": "57776a7d-46d8-4ef1-99ba-f95631b430b5"
      },
      "source": [
        "from math import sqrt\n",
        "rms_GLM = sqrt(mean_squared_error(y_test, predictions_summary_frame['mean']))\n",
        "rms_GLM"
      ],
      "execution_count": 22,
      "outputs": [
        {
          "output_type": "execute_result",
          "data": {
            "text/plain": [
              "649.4717299601566"
            ]
          },
          "metadata": {},
          "execution_count": 22
        }
      ]
    },
    {
      "cell_type": "code",
      "metadata": {
        "colab": {
          "base_uri": "https://localhost:8080/"
        },
        "id": "0uB9EQ1d4LsS",
        "outputId": "84ae74c0-34a5-4cb6-db9d-919a56cef231"
      },
      "source": [
        "from sklearn.metrics import r2_score\n",
        "r2_GLM = r2_score(y_test, predictions_summary_frame['mean'])\n",
        "print('r2 score for GLM poisson model is', r2_GLM *100)"
      ],
      "execution_count": 23,
      "outputs": [
        {
          "output_type": "stream",
          "name": "stdout",
          "text": [
            "r2 score for GLM poisson model is 54.2512654563438\n"
          ]
        }
      ]
    },
    {
      "cell_type": "code",
      "metadata": {
        "colab": {
          "base_uri": "https://localhost:8080/",
          "height": 112
        },
        "id": "0wBh7cxE4gti",
        "outputId": "5d4dc8fe-1696-4634-f781-2e89527bbf35"
      },
      "source": [
        "data = {'MSE':[mse_p,mse_GLM],'RMS':[rms_p,rms_GLM],'ACCURACY':[r2_p*100,r2_GLM*100]}\n",
        "df = pd.DataFrame(data)\n",
        "df = pd.DataFrame(data, index=['statsmodels GLM_POISSON_REGRESSION','POISSON_REGRESSION'])\n",
        "df"
      ],
      "execution_count": 24,
      "outputs": [
        {
          "output_type": "execute_result",
          "data": {
            "text/html": [
              "<div>\n",
              "<style scoped>\n",
              "    .dataframe tbody tr th:only-of-type {\n",
              "        vertical-align: middle;\n",
              "    }\n",
              "\n",
              "    .dataframe tbody tr th {\n",
              "        vertical-align: top;\n",
              "    }\n",
              "\n",
              "    .dataframe thead th {\n",
              "        text-align: right;\n",
              "    }\n",
              "</style>\n",
              "<table border=\"1\" class=\"dataframe\">\n",
              "  <thead>\n",
              "    <tr style=\"text-align: right;\">\n",
              "      <th></th>\n",
              "      <th>MSE</th>\n",
              "      <th>RMS</th>\n",
              "      <th>ACCURACY</th>\n",
              "    </tr>\n",
              "  </thead>\n",
              "  <tbody>\n",
              "    <tr>\n",
              "      <th>statsmodels GLM_POISSON_REGRESSION</th>\n",
              "      <td>422530.431792</td>\n",
              "      <td>650.023409</td>\n",
              "      <td>54.173512</td>\n",
              "    </tr>\n",
              "    <tr>\n",
              "      <th>POISSON_REGRESSION</th>\n",
              "      <td>421813.528017</td>\n",
              "      <td>649.471730</td>\n",
              "      <td>54.251265</td>\n",
              "    </tr>\n",
              "  </tbody>\n",
              "</table>\n",
              "</div>"
            ],
            "text/plain": [
              "                                              MSE         RMS   ACCURACY\n",
              "statsmodels GLM_POISSON_REGRESSION  422530.431792  650.023409  54.173512\n",
              "POISSON_REGRESSION                  421813.528017  649.471730  54.251265"
            ]
          },
          "metadata": {},
          "execution_count": 24
        }
      ]
    },
    {
      "cell_type": "markdown",
      "metadata": {
        "id": "YPpX8-F66PBy"
      },
      "source": [
        "# Conclusion and next steps\n",
        "For counts based data, a useful starting point is the Poisson regression model. One can then compare its performance with other popular counts based models, such as:\n",
        "\n",
        "* The Negative Binomial regression model which does not make the mean = variance assumption about the data.\n",
        "*Generalized Poisson regression models which also work well with over-dispersed or under-dispersed data sets.\n",
        "* A Zero Inflated Poisson model if you suspect that your data contains excess zeros i.e. many more zeroes than what the regular Poisson model can explain.\n",
        "\n",
        "      Both method of poisson regression model gives same result \n",
        "\n",
        "Happy modeling!"
      ]
    }
  ]
}